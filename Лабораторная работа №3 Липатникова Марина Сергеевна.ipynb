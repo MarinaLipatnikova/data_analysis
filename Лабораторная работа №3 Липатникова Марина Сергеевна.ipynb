{
 "cells": [
  {
   "cell_type": "markdown",
   "id": "6b4d8aa2",
   "metadata": {},
   "source": [
    "### РОССИЙСКИЙ УНИВЕРСИТЕТ ДРУЖБЫ НАРОДОВ\n",
    "\n",
    "#### Факультет физико-математических и естественных наук  \n",
    "#### Кафедра информационных технологий "
   ]
  },
  {
   "cell_type": "markdown",
   "id": "969cd384",
   "metadata": {},
   "source": [
    "\n",
    "## ОТЧЕТ ПО ЛАБОРАТОРНОЙ РАБОТЕ № 3\n",
    "\n",
    "\n",
    "### Дисциплина: Интеллектуальный анализ данных\n"
   ]
  },
  {
   "cell_type": "markdown",
   "id": "b0cac249",
   "metadata": {},
   "source": [
    "\n",
    "##### Студент:  Липатникова Марина\n",
    "##### Группа:   НФИбд-02-19\n"
   ]
  },
  {
   "cell_type": "markdown",
   "id": "b6a3acdd",
   "metadata": {},
   "source": [
    "\n",
    "## Москва 2022\n",
    "***"
   ]
  },
  {
   "cell_type": "markdown",
   "id": "590d38fc",
   "metadata": {},
   "source": [
    "\n",
    "#### Задание на лабораторную работу №3\n"
   ]
  },
  {
   "cell_type": "markdown",
   "id": "2e71f944",
   "metadata": {},
   "source": [
    "\n",
    "Для закрепленного за Вами варианта лабораторной работы:\n",
    "\n",
    "    1.\tСчитайте из заданного набора данных репозитария UCI значения двух признаков и метки класса. \n",
    "\n",
    "    2.\tЕсли среди меток класса имеются пропущенные значения, то удалите записи с пропущенными метками класса. Если в признаках имеются пропущенные значения, то замените их на медианные значения того класса, к которому относится запись с пропущенным значением в признаке.\n",
    "\n",
    "    3.\tЕсли количество различных меток класса больше пяти, то объедините некоторые (наименее многочисленные) классы, чтобы общее количество классов не превышало пять. \n",
    "\n",
    "    4.\tВизуализируйте набор данных в виде точек плоскости с координатами, соответствующими двум признакам, отображая точки различных классов разными цветами. Подпишите оси и рисунок, создайте легенду набора данных. \n",
    "\n",
    "    5.\tПроведите кластеризацию набора данных из двух признаков с помощью алгоритмов, указанных в индивидуальном задании, для случая, когда количество кластеров равно количеству классов в исходном наборе (с учетом корректировки). В случае отсутствия сходимости алгоритма измените аргументы по умолчанию или используйте для кластеризации случайную выборку из набора данных.\n",
    "\n",
    "    6.\tДля каждого из алгоритмов кластеризации, указанных в индивидуальном задании, постройте матрицу сопряженности, используя функцию `contingency_matrix()` из scikit-learn, и найдите значения мер качества кластеризации, указанные в индивидуальном задании.  \n",
    "\n",
    "    7.\tОпределите алгоритм кластеризации, оптимальный с точки зрения меры качества кластеризации, указанной в индивидуальном задании.\n",
    "\n",
    "    8.\tДля оптимального алгоритма кластеризации из предыдущего пункта визуализируйте области принятия решения и набор данных в виде точек на плоскости с координатами, соответствующими двум признакам, отображая точки различных кластеров разными цветами. Подпишите оси и рисунок, создайте легенду набора данных. \n",
    "\n",
    "\n",
    "\n"
   ]
  },
  {
   "cell_type": "markdown",
   "id": "6cf48492",
   "metadata": {},
   "source": [
    "# Индивидуальное задание\n"
   ]
  },
  {
   "cell_type": "markdown",
   "id": "20939491",
   "metadata": {},
   "source": [
    "\n",
    "Лабораторная работа 3 – Вариант 2 \n",
    "\n",
    "Adult Data Set \n",
    "\n",
    "Название файла: adult.data \n",
    "\n",
    "Ссылка: https://archive.ics.uci.edu/ml/machine-learning-databases/adult \n",
    "\n",
    "Первый признак: age (столбец No 1) \n",
    "\n",
    "Второй признак: hours-per-week (столбец No 13) \n",
    "\n",
    "Класс: >50K, <=50K (столбец No 16) \n",
    "\n",
    "Алгоритмы: K-means, Agglomerative Clustering, DBSCAN, Gaussian Mixture Model \n",
    "\n",
    "Меры качества: F-мера, парные меры TP, FN, FP, TN, индекс Жаккара \n",
    "\n",
    "Найти лучший алгоритм кластеризации относительно меры качества: F-мера "
   ]
  },
  {
   "cell_type": "markdown",
   "id": "ee969668",
   "metadata": {},
   "source": [
    "1.\tСчитайте из заданного набора данных репозитария UCI значения двух признаков и метки класса. "
   ]
  },
  {
   "cell_type": "code",
   "execution_count": 1,
   "id": "1d1cbce1",
   "metadata": {},
   "outputs": [],
   "source": [
    "\n",
    "url = \\\n",
    "    \"https://archive.ics.uci.edu/ml/\"+\\\n",
    "    \"machine-learning-databases/adult/adult.data\"\n"
   ]
  },
  {
   "cell_type": "code",
   "execution_count": 2,
   "id": "b6ddb6b4",
   "metadata": {},
   "outputs": [
    {
     "data": {
      "text/html": [
       "<div>\n",
       "<style scoped>\n",
       "    .dataframe tbody tr th:only-of-type {\n",
       "        vertical-align: middle;\n",
       "    }\n",
       "\n",
       "    .dataframe tbody tr th {\n",
       "        vertical-align: top;\n",
       "    }\n",
       "\n",
       "    .dataframe thead th {\n",
       "        text-align: right;\n",
       "    }\n",
       "</style>\n",
       "<table border=\"1\" class=\"dataframe\">\n",
       "  <thead>\n",
       "    <tr style=\"text-align: right;\">\n",
       "      <th></th>\n",
       "      <th>age</th>\n",
       "      <th>workclass</th>\n",
       "      <th>fnlwgt</th>\n",
       "      <th>education</th>\n",
       "      <th>education-num</th>\n",
       "      <th>marital-status</th>\n",
       "      <th>occupation</th>\n",
       "      <th>relationship</th>\n",
       "      <th>race</th>\n",
       "      <th>sex</th>\n",
       "      <th>capital-gain</th>\n",
       "      <th>capital-loss</th>\n",
       "      <th>hours-per-week</th>\n",
       "      <th>native-country</th>\n",
       "      <th>&gt;50K, &lt;=50K</th>\n",
       "    </tr>\n",
       "  </thead>\n",
       "  <tbody>\n",
       "    <tr>\n",
       "      <th>0</th>\n",
       "      <td>39</td>\n",
       "      <td>State-gov</td>\n",
       "      <td>77516</td>\n",
       "      <td>Bachelors</td>\n",
       "      <td>13</td>\n",
       "      <td>Never-married</td>\n",
       "      <td>Adm-clerical</td>\n",
       "      <td>Not-in-family</td>\n",
       "      <td>White</td>\n",
       "      <td>Male</td>\n",
       "      <td>2174</td>\n",
       "      <td>0</td>\n",
       "      <td>40</td>\n",
       "      <td>United-States</td>\n",
       "      <td>&lt;=50K</td>\n",
       "    </tr>\n",
       "    <tr>\n",
       "      <th>1</th>\n",
       "      <td>50</td>\n",
       "      <td>Self-emp-not-inc</td>\n",
       "      <td>83311</td>\n",
       "      <td>Bachelors</td>\n",
       "      <td>13</td>\n",
       "      <td>Married-civ-spouse</td>\n",
       "      <td>Exec-managerial</td>\n",
       "      <td>Husband</td>\n",
       "      <td>White</td>\n",
       "      <td>Male</td>\n",
       "      <td>0</td>\n",
       "      <td>0</td>\n",
       "      <td>13</td>\n",
       "      <td>United-States</td>\n",
       "      <td>&lt;=50K</td>\n",
       "    </tr>\n",
       "    <tr>\n",
       "      <th>2</th>\n",
       "      <td>38</td>\n",
       "      <td>Private</td>\n",
       "      <td>215646</td>\n",
       "      <td>HS-grad</td>\n",
       "      <td>9</td>\n",
       "      <td>Divorced</td>\n",
       "      <td>Handlers-cleaners</td>\n",
       "      <td>Not-in-family</td>\n",
       "      <td>White</td>\n",
       "      <td>Male</td>\n",
       "      <td>0</td>\n",
       "      <td>0</td>\n",
       "      <td>40</td>\n",
       "      <td>United-States</td>\n",
       "      <td>&lt;=50K</td>\n",
       "    </tr>\n",
       "    <tr>\n",
       "      <th>3</th>\n",
       "      <td>53</td>\n",
       "      <td>Private</td>\n",
       "      <td>234721</td>\n",
       "      <td>11th</td>\n",
       "      <td>7</td>\n",
       "      <td>Married-civ-spouse</td>\n",
       "      <td>Handlers-cleaners</td>\n",
       "      <td>Husband</td>\n",
       "      <td>Black</td>\n",
       "      <td>Male</td>\n",
       "      <td>0</td>\n",
       "      <td>0</td>\n",
       "      <td>40</td>\n",
       "      <td>United-States</td>\n",
       "      <td>&lt;=50K</td>\n",
       "    </tr>\n",
       "    <tr>\n",
       "      <th>4</th>\n",
       "      <td>28</td>\n",
       "      <td>Private</td>\n",
       "      <td>338409</td>\n",
       "      <td>Bachelors</td>\n",
       "      <td>13</td>\n",
       "      <td>Married-civ-spouse</td>\n",
       "      <td>Prof-specialty</td>\n",
       "      <td>Wife</td>\n",
       "      <td>Black</td>\n",
       "      <td>Female</td>\n",
       "      <td>0</td>\n",
       "      <td>0</td>\n",
       "      <td>40</td>\n",
       "      <td>Cuba</td>\n",
       "      <td>&lt;=50K</td>\n",
       "    </tr>\n",
       "    <tr>\n",
       "      <th>...</th>\n",
       "      <td>...</td>\n",
       "      <td>...</td>\n",
       "      <td>...</td>\n",
       "      <td>...</td>\n",
       "      <td>...</td>\n",
       "      <td>...</td>\n",
       "      <td>...</td>\n",
       "      <td>...</td>\n",
       "      <td>...</td>\n",
       "      <td>...</td>\n",
       "      <td>...</td>\n",
       "      <td>...</td>\n",
       "      <td>...</td>\n",
       "      <td>...</td>\n",
       "      <td>...</td>\n",
       "    </tr>\n",
       "    <tr>\n",
       "      <th>32556</th>\n",
       "      <td>27</td>\n",
       "      <td>Private</td>\n",
       "      <td>257302</td>\n",
       "      <td>Assoc-acdm</td>\n",
       "      <td>12</td>\n",
       "      <td>Married-civ-spouse</td>\n",
       "      <td>Tech-support</td>\n",
       "      <td>Wife</td>\n",
       "      <td>White</td>\n",
       "      <td>Female</td>\n",
       "      <td>0</td>\n",
       "      <td>0</td>\n",
       "      <td>38</td>\n",
       "      <td>United-States</td>\n",
       "      <td>&lt;=50K</td>\n",
       "    </tr>\n",
       "    <tr>\n",
       "      <th>32557</th>\n",
       "      <td>40</td>\n",
       "      <td>Private</td>\n",
       "      <td>154374</td>\n",
       "      <td>HS-grad</td>\n",
       "      <td>9</td>\n",
       "      <td>Married-civ-spouse</td>\n",
       "      <td>Machine-op-inspct</td>\n",
       "      <td>Husband</td>\n",
       "      <td>White</td>\n",
       "      <td>Male</td>\n",
       "      <td>0</td>\n",
       "      <td>0</td>\n",
       "      <td>40</td>\n",
       "      <td>United-States</td>\n",
       "      <td>&gt;50K</td>\n",
       "    </tr>\n",
       "    <tr>\n",
       "      <th>32558</th>\n",
       "      <td>58</td>\n",
       "      <td>Private</td>\n",
       "      <td>151910</td>\n",
       "      <td>HS-grad</td>\n",
       "      <td>9</td>\n",
       "      <td>Widowed</td>\n",
       "      <td>Adm-clerical</td>\n",
       "      <td>Unmarried</td>\n",
       "      <td>White</td>\n",
       "      <td>Female</td>\n",
       "      <td>0</td>\n",
       "      <td>0</td>\n",
       "      <td>40</td>\n",
       "      <td>United-States</td>\n",
       "      <td>&lt;=50K</td>\n",
       "    </tr>\n",
       "    <tr>\n",
       "      <th>32559</th>\n",
       "      <td>22</td>\n",
       "      <td>Private</td>\n",
       "      <td>201490</td>\n",
       "      <td>HS-grad</td>\n",
       "      <td>9</td>\n",
       "      <td>Never-married</td>\n",
       "      <td>Adm-clerical</td>\n",
       "      <td>Own-child</td>\n",
       "      <td>White</td>\n",
       "      <td>Male</td>\n",
       "      <td>0</td>\n",
       "      <td>0</td>\n",
       "      <td>20</td>\n",
       "      <td>United-States</td>\n",
       "      <td>&lt;=50K</td>\n",
       "    </tr>\n",
       "    <tr>\n",
       "      <th>32560</th>\n",
       "      <td>52</td>\n",
       "      <td>Self-emp-inc</td>\n",
       "      <td>287927</td>\n",
       "      <td>HS-grad</td>\n",
       "      <td>9</td>\n",
       "      <td>Married-civ-spouse</td>\n",
       "      <td>Exec-managerial</td>\n",
       "      <td>Wife</td>\n",
       "      <td>White</td>\n",
       "      <td>Female</td>\n",
       "      <td>15024</td>\n",
       "      <td>0</td>\n",
       "      <td>40</td>\n",
       "      <td>United-States</td>\n",
       "      <td>&gt;50K</td>\n",
       "    </tr>\n",
       "  </tbody>\n",
       "</table>\n",
       "<p>32561 rows × 15 columns</p>\n",
       "</div>"
      ],
      "text/plain": [
       "       age          workclass  fnlwgt    education  education-num  \\\n",
       "0       39          State-gov   77516    Bachelors             13   \n",
       "1       50   Self-emp-not-inc   83311    Bachelors             13   \n",
       "2       38            Private  215646      HS-grad              9   \n",
       "3       53            Private  234721         11th              7   \n",
       "4       28            Private  338409    Bachelors             13   \n",
       "...    ...                ...     ...          ...            ...   \n",
       "32556   27            Private  257302   Assoc-acdm             12   \n",
       "32557   40            Private  154374      HS-grad              9   \n",
       "32558   58            Private  151910      HS-grad              9   \n",
       "32559   22            Private  201490      HS-grad              9   \n",
       "32560   52       Self-emp-inc  287927      HS-grad              9   \n",
       "\n",
       "            marital-status          occupation    relationship    race  \\\n",
       "0            Never-married        Adm-clerical   Not-in-family   White   \n",
       "1       Married-civ-spouse     Exec-managerial         Husband   White   \n",
       "2                 Divorced   Handlers-cleaners   Not-in-family   White   \n",
       "3       Married-civ-spouse   Handlers-cleaners         Husband   Black   \n",
       "4       Married-civ-spouse      Prof-specialty            Wife   Black   \n",
       "...                    ...                 ...             ...     ...   \n",
       "32556   Married-civ-spouse        Tech-support            Wife   White   \n",
       "32557   Married-civ-spouse   Machine-op-inspct         Husband   White   \n",
       "32558              Widowed        Adm-clerical       Unmarried   White   \n",
       "32559        Never-married        Adm-clerical       Own-child   White   \n",
       "32560   Married-civ-spouse     Exec-managerial            Wife   White   \n",
       "\n",
       "           sex  capital-gain  capital-loss  hours-per-week  native-country  \\\n",
       "0         Male          2174             0              40   United-States   \n",
       "1         Male             0             0              13   United-States   \n",
       "2         Male             0             0              40   United-States   \n",
       "3         Male             0             0              40   United-States   \n",
       "4       Female             0             0              40            Cuba   \n",
       "...        ...           ...           ...             ...             ...   \n",
       "32556   Female             0             0              38   United-States   \n",
       "32557     Male             0             0              40   United-States   \n",
       "32558   Female             0             0              40   United-States   \n",
       "32559     Male             0             0              20   United-States   \n",
       "32560   Female         15024             0              40   United-States   \n",
       "\n",
       "      >50K, <=50K  \n",
       "0           <=50K  \n",
       "1           <=50K  \n",
       "2           <=50K  \n",
       "3           <=50K  \n",
       "4           <=50K  \n",
       "...           ...  \n",
       "32556       <=50K  \n",
       "32557        >50K  \n",
       "32558       <=50K  \n",
       "32559       <=50K  \n",
       "32560        >50K  \n",
       "\n",
       "[32561 rows x 15 columns]"
      ]
     },
     "execution_count": 2,
     "metadata": {},
     "output_type": "execute_result"
    }
   ],
   "source": [
    "\n",
    "import pandas as pd\n",
    "\n",
    "data = pd.read_csv(url, header=None)\n",
    "data.columns = ['age', 'workclass', \n",
    "                'fnlwgt', 'education',\n",
    "                'education-num', 'marital-status', \n",
    "                'occupation', 'relationship',\n",
    "                'race', 'sex','capital-gain',\n",
    "                'capital-loss','hours-per-week', 'native-country',\n",
    "                '>50K, <=50K']\n",
    "data\n"
   ]
  },
  {
   "cell_type": "code",
   "execution_count": 3,
   "id": "15731dcd",
   "metadata": {},
   "outputs": [
    {
     "data": {
      "text/html": [
       "<div>\n",
       "<style scoped>\n",
       "    .dataframe tbody tr th:only-of-type {\n",
       "        vertical-align: middle;\n",
       "    }\n",
       "\n",
       "    .dataframe tbody tr th {\n",
       "        vertical-align: top;\n",
       "    }\n",
       "\n",
       "    .dataframe thead th {\n",
       "        text-align: right;\n",
       "    }\n",
       "</style>\n",
       "<table border=\"1\" class=\"dataframe\">\n",
       "  <thead>\n",
       "    <tr style=\"text-align: right;\">\n",
       "      <th></th>\n",
       "      <th>age</th>\n",
       "      <th>hours-per-week</th>\n",
       "      <th>&gt;50K, &lt;=50K</th>\n",
       "    </tr>\n",
       "  </thead>\n",
       "  <tbody>\n",
       "    <tr>\n",
       "      <th>0</th>\n",
       "      <td>39</td>\n",
       "      <td>40</td>\n",
       "      <td>&lt;=50K</td>\n",
       "    </tr>\n",
       "    <tr>\n",
       "      <th>1</th>\n",
       "      <td>50</td>\n",
       "      <td>13</td>\n",
       "      <td>&lt;=50K</td>\n",
       "    </tr>\n",
       "    <tr>\n",
       "      <th>2</th>\n",
       "      <td>38</td>\n",
       "      <td>40</td>\n",
       "      <td>&lt;=50K</td>\n",
       "    </tr>\n",
       "    <tr>\n",
       "      <th>3</th>\n",
       "      <td>53</td>\n",
       "      <td>40</td>\n",
       "      <td>&lt;=50K</td>\n",
       "    </tr>\n",
       "    <tr>\n",
       "      <th>4</th>\n",
       "      <td>28</td>\n",
       "      <td>40</td>\n",
       "      <td>&lt;=50K</td>\n",
       "    </tr>\n",
       "    <tr>\n",
       "      <th>...</th>\n",
       "      <td>...</td>\n",
       "      <td>...</td>\n",
       "      <td>...</td>\n",
       "    </tr>\n",
       "    <tr>\n",
       "      <th>32556</th>\n",
       "      <td>27</td>\n",
       "      <td>38</td>\n",
       "      <td>&lt;=50K</td>\n",
       "    </tr>\n",
       "    <tr>\n",
       "      <th>32557</th>\n",
       "      <td>40</td>\n",
       "      <td>40</td>\n",
       "      <td>&gt;50K</td>\n",
       "    </tr>\n",
       "    <tr>\n",
       "      <th>32558</th>\n",
       "      <td>58</td>\n",
       "      <td>40</td>\n",
       "      <td>&lt;=50K</td>\n",
       "    </tr>\n",
       "    <tr>\n",
       "      <th>32559</th>\n",
       "      <td>22</td>\n",
       "      <td>20</td>\n",
       "      <td>&lt;=50K</td>\n",
       "    </tr>\n",
       "    <tr>\n",
       "      <th>32560</th>\n",
       "      <td>52</td>\n",
       "      <td>40</td>\n",
       "      <td>&gt;50K</td>\n",
       "    </tr>\n",
       "  </tbody>\n",
       "</table>\n",
       "<p>32561 rows × 3 columns</p>\n",
       "</div>"
      ],
      "text/plain": [
       "       age  hours-per-week >50K, <=50K\n",
       "0       39              40       <=50K\n",
       "1       50              13       <=50K\n",
       "2       38              40       <=50K\n",
       "3       53              40       <=50K\n",
       "4       28              40       <=50K\n",
       "...    ...             ...         ...\n",
       "32556   27              38       <=50K\n",
       "32557   40              40        >50K\n",
       "32558   58              40       <=50K\n",
       "32559   22              20       <=50K\n",
       "32560   52              40        >50K\n",
       "\n",
       "[32561 rows x 3 columns]"
      ]
     },
     "execution_count": 3,
     "metadata": {},
     "output_type": "execute_result"
    }
   ],
   "source": [
    "\n",
    "data.drop(data.columns.difference(['age','hours-per-week','>50K, <=50K']), axis=1, inplace=True) \n",
    "data\n"
   ]
  },
  {
   "cell_type": "markdown",
   "id": "b4767203",
   "metadata": {},
   "source": [
    "2.\tЕсли среди меток класса имеются пропущенные значения, то удалите записи с пропущенными метками класса. Если в признаках имеются пропущенные значения, то замените их на медианные значения того класса, к которому относится запись с пропущенным значением в признаке."
   ]
  },
  {
   "cell_type": "markdown",
   "id": "07f3bf0d",
   "metadata": {},
   "source": [
    "В датасете используется знак \"?\" для пропущенных значений."
   ]
  },
  {
   "cell_type": "code",
   "execution_count": 4,
   "id": "cb5e1cff",
   "metadata": {},
   "outputs": [],
   "source": [
    "\n",
    "import numpy as np\n"
   ]
  },
  {
   "cell_type": "code",
   "execution_count": 5,
   "id": "bb335e77",
   "metadata": {},
   "outputs": [],
   "source": [
    "\n",
    "data = data.replace('?', np.nan)\n"
   ]
  },
  {
   "cell_type": "code",
   "execution_count": 6,
   "id": "fd89ab8f",
   "metadata": {},
   "outputs": [
    {
     "data": {
      "text/plain": [
       "age               0\n",
       "hours-per-week    0\n",
       ">50K, <=50K       0\n",
       "dtype: int64"
      ]
     },
     "execution_count": 6,
     "metadata": {},
     "output_type": "execute_result"
    }
   ],
   "source": [
    "\n",
    "data.isnull().sum(axis=0)\n"
   ]
  },
  {
   "cell_type": "markdown",
   "id": "0f647409",
   "metadata": {},
   "source": [
    "3.\tЕсли количество различных меток класса больше пяти, то объедините некоторые (наименее многочисленные) классы, чтобы общее количество классов не превышало пять. "
   ]
  },
  {
   "cell_type": "markdown",
   "id": "23db02aa",
   "metadata": {},
   "source": [
    "Всего уникальных меток класса 2."
   ]
  },
  {
   "cell_type": "code",
   "execution_count": 7,
   "id": "bb89aaec",
   "metadata": {},
   "outputs": [
    {
     "data": {
      "text/plain": [
       "count      32561\n",
       "unique         2\n",
       "top        <=50K\n",
       "freq       24720\n",
       "Name: >50K, <=50K, dtype: object"
      ]
     },
     "execution_count": 7,
     "metadata": {},
     "output_type": "execute_result"
    }
   ],
   "source": [
    "\n",
    "data['>50K, <=50K'].describe()\n"
   ]
  },
  {
   "cell_type": "markdown",
   "id": "3a1a1571",
   "metadata": {},
   "source": [
    "4.\tВизуализируйте набор данных в виде точек плоскости с координатами, соответствующими двум признакам, отображая точки различных классов разными цветами. Подпишите оси и рисунок, создайте легенду набора данных. "
   ]
  },
  {
   "cell_type": "code",
   "execution_count": 8,
   "id": "3481882e",
   "metadata": {},
   "outputs": [
    {
     "data": {
      "text/html": [
       "<div>\n",
       "<style scoped>\n",
       "    .dataframe tbody tr th:only-of-type {\n",
       "        vertical-align: middle;\n",
       "    }\n",
       "\n",
       "    .dataframe tbody tr th {\n",
       "        vertical-align: top;\n",
       "    }\n",
       "\n",
       "    .dataframe thead th {\n",
       "        text-align: right;\n",
       "    }\n",
       "</style>\n",
       "<table border=\"1\" class=\"dataframe\">\n",
       "  <thead>\n",
       "    <tr style=\"text-align: right;\">\n",
       "      <th></th>\n",
       "      <th>age</th>\n",
       "      <th>hours-per-week</th>\n",
       "      <th>&gt;50K, &lt;=50K</th>\n",
       "    </tr>\n",
       "  </thead>\n",
       "  <tbody>\n",
       "    <tr>\n",
       "      <th>7</th>\n",
       "      <td>52</td>\n",
       "      <td>45</td>\n",
       "      <td>&gt;50K</td>\n",
       "    </tr>\n",
       "    <tr>\n",
       "      <th>8</th>\n",
       "      <td>31</td>\n",
       "      <td>50</td>\n",
       "      <td>&gt;50K</td>\n",
       "    </tr>\n",
       "    <tr>\n",
       "      <th>9</th>\n",
       "      <td>42</td>\n",
       "      <td>40</td>\n",
       "      <td>&gt;50K</td>\n",
       "    </tr>\n",
       "    <tr>\n",
       "      <th>10</th>\n",
       "      <td>37</td>\n",
       "      <td>80</td>\n",
       "      <td>&gt;50K</td>\n",
       "    </tr>\n",
       "    <tr>\n",
       "      <th>11</th>\n",
       "      <td>30</td>\n",
       "      <td>40</td>\n",
       "      <td>&gt;50K</td>\n",
       "    </tr>\n",
       "    <tr>\n",
       "      <th>...</th>\n",
       "      <td>...</td>\n",
       "      <td>...</td>\n",
       "      <td>...</td>\n",
       "    </tr>\n",
       "    <tr>\n",
       "      <th>32539</th>\n",
       "      <td>71</td>\n",
       "      <td>10</td>\n",
       "      <td>&gt;50K</td>\n",
       "    </tr>\n",
       "    <tr>\n",
       "      <th>32545</th>\n",
       "      <td>39</td>\n",
       "      <td>20</td>\n",
       "      <td>&gt;50K</td>\n",
       "    </tr>\n",
       "    <tr>\n",
       "      <th>32554</th>\n",
       "      <td>53</td>\n",
       "      <td>40</td>\n",
       "      <td>&gt;50K</td>\n",
       "    </tr>\n",
       "    <tr>\n",
       "      <th>32557</th>\n",
       "      <td>40</td>\n",
       "      <td>40</td>\n",
       "      <td>&gt;50K</td>\n",
       "    </tr>\n",
       "    <tr>\n",
       "      <th>32560</th>\n",
       "      <td>52</td>\n",
       "      <td>40</td>\n",
       "      <td>&gt;50K</td>\n",
       "    </tr>\n",
       "  </tbody>\n",
       "</table>\n",
       "<p>7841 rows × 3 columns</p>\n",
       "</div>"
      ],
      "text/plain": [
       "       age  hours-per-week >50K, <=50K\n",
       "7       52              45        >50K\n",
       "8       31              50        >50K\n",
       "9       42              40        >50K\n",
       "10      37              80        >50K\n",
       "11      30              40        >50K\n",
       "...    ...             ...         ...\n",
       "32539   71              10        >50K\n",
       "32545   39              20        >50K\n",
       "32554   53              40        >50K\n",
       "32557   40              40        >50K\n",
       "32560   52              40        >50K\n",
       "\n",
       "[7841 rows x 3 columns]"
      ]
     },
     "execution_count": 8,
     "metadata": {},
     "output_type": "execute_result"
    }
   ],
   "source": [
    "\n",
    "data_m = data.copy()\n",
    "data_m = data_m.loc[data_m['>50K, <=50K'] != ' <=50K'] # отбираю значения для класса >50K\n",
    "data_m\n"
   ]
  },
  {
   "cell_type": "code",
   "execution_count": 9,
   "id": "22d9fc0a",
   "metadata": {},
   "outputs": [
    {
     "data": {
      "text/html": [
       "<div>\n",
       "<style scoped>\n",
       "    .dataframe tbody tr th:only-of-type {\n",
       "        vertical-align: middle;\n",
       "    }\n",
       "\n",
       "    .dataframe tbody tr th {\n",
       "        vertical-align: top;\n",
       "    }\n",
       "\n",
       "    .dataframe thead th {\n",
       "        text-align: right;\n",
       "    }\n",
       "</style>\n",
       "<table border=\"1\" class=\"dataframe\">\n",
       "  <thead>\n",
       "    <tr style=\"text-align: right;\">\n",
       "      <th></th>\n",
       "      <th>age</th>\n",
       "      <th>hours-per-week</th>\n",
       "      <th>&gt;50K, &lt;=50K</th>\n",
       "    </tr>\n",
       "  </thead>\n",
       "  <tbody>\n",
       "    <tr>\n",
       "      <th>0</th>\n",
       "      <td>39</td>\n",
       "      <td>40</td>\n",
       "      <td>&lt;=50K</td>\n",
       "    </tr>\n",
       "    <tr>\n",
       "      <th>1</th>\n",
       "      <td>50</td>\n",
       "      <td>13</td>\n",
       "      <td>&lt;=50K</td>\n",
       "    </tr>\n",
       "    <tr>\n",
       "      <th>2</th>\n",
       "      <td>38</td>\n",
       "      <td>40</td>\n",
       "      <td>&lt;=50K</td>\n",
       "    </tr>\n",
       "    <tr>\n",
       "      <th>3</th>\n",
       "      <td>53</td>\n",
       "      <td>40</td>\n",
       "      <td>&lt;=50K</td>\n",
       "    </tr>\n",
       "    <tr>\n",
       "      <th>4</th>\n",
       "      <td>28</td>\n",
       "      <td>40</td>\n",
       "      <td>&lt;=50K</td>\n",
       "    </tr>\n",
       "    <tr>\n",
       "      <th>...</th>\n",
       "      <td>...</td>\n",
       "      <td>...</td>\n",
       "      <td>...</td>\n",
       "    </tr>\n",
       "    <tr>\n",
       "      <th>32553</th>\n",
       "      <td>32</td>\n",
       "      <td>11</td>\n",
       "      <td>&lt;=50K</td>\n",
       "    </tr>\n",
       "    <tr>\n",
       "      <th>32555</th>\n",
       "      <td>22</td>\n",
       "      <td>40</td>\n",
       "      <td>&lt;=50K</td>\n",
       "    </tr>\n",
       "    <tr>\n",
       "      <th>32556</th>\n",
       "      <td>27</td>\n",
       "      <td>38</td>\n",
       "      <td>&lt;=50K</td>\n",
       "    </tr>\n",
       "    <tr>\n",
       "      <th>32558</th>\n",
       "      <td>58</td>\n",
       "      <td>40</td>\n",
       "      <td>&lt;=50K</td>\n",
       "    </tr>\n",
       "    <tr>\n",
       "      <th>32559</th>\n",
       "      <td>22</td>\n",
       "      <td>20</td>\n",
       "      <td>&lt;=50K</td>\n",
       "    </tr>\n",
       "  </tbody>\n",
       "</table>\n",
       "<p>24720 rows × 3 columns</p>\n",
       "</div>"
      ],
      "text/plain": [
       "       age  hours-per-week >50K, <=50K\n",
       "0       39              40       <=50K\n",
       "1       50              13       <=50K\n",
       "2       38              40       <=50K\n",
       "3       53              40       <=50K\n",
       "4       28              40       <=50K\n",
       "...    ...             ...         ...\n",
       "32553   32              11       <=50K\n",
       "32555   22              40       <=50K\n",
       "32556   27              38       <=50K\n",
       "32558   58              40       <=50K\n",
       "32559   22              20       <=50K\n",
       "\n",
       "[24720 rows x 3 columns]"
      ]
     },
     "execution_count": 9,
     "metadata": {},
     "output_type": "execute_result"
    }
   ],
   "source": [
    "\n",
    "data_l = data.copy()\n",
    "data_l = data_l.loc[data_l['>50K, <=50K'] == ' <=50K'] # отбираю значения для класса <=50K\n",
    "data_l\n"
   ]
  },
  {
   "cell_type": "code",
   "execution_count": 10,
   "id": "cc5dde18",
   "metadata": {},
   "outputs": [
    {
     "data": {
      "image/png": "[encoded data removed]",
      "text/plain": [
       "<Figure size 720x720 with 1 Axes>"
      ]
     },
     "metadata": {
      "needs_background": "light"
     },
     "output_type": "display_data"
    }
   ],
   "source": [
    "\n",
    "import matplotlib.pyplot as plt\n",
    "plt.figure(figsize=(10, 10))\n",
    "# сортирую признаки\n",
    "X1 = data_m['age'].values\n",
    "Y1 = data_m['hours-per-week'].values\n",
    "X2 = data_l['age'].values\n",
    "Y2 = data_l['hours-per-week'].values\n",
    "# подписываю оси и рисунок\n",
    "plt.title(\"Точки плоскости с координатами, соответствующими двум признакам\")\n",
    "plt.xlabel('age')\n",
    "plt.ylabel('hours-per-week')\n",
    "\n",
    "# рисую\n",
    "plt.scatter(X1, Y1, color='blue', s=4, marker='o')\n",
    "plt.scatter(X2, Y2, color='red', s=2, marker='o')\n",
    "#легенда\n",
    "plt.legend(labels=('>50K','<=50K'))\n",
    "plt.show()\n"
   ]
  },
  {
   "cell_type": "markdown",
   "id": "1467563c",
   "metadata": {},
   "source": [
    "5.\tПроведите кластеризацию набора данных из двух признаков с помощью алгоритмов, указанных в индивидуальном задании, для случая, когда количество кластеров равно количеству классов в исходном наборе (с учетом корректировки). В случае отсутствия сходимости алгоритма измените аргументы по умолчанию или используйте для кластеризации случайную выборку из набора данных."
   ]
  },
  {
   "cell_type": "code",
   "execution_count": 11,
   "id": "22798b4d",
   "metadata": {},
   "outputs": [],
   "source": [
    "\n",
    "data_pr = data.copy()\n"
   ]
  },
  {
   "cell_type": "code",
   "execution_count": 12,
   "id": "116d6b63",
   "metadata": {},
   "outputs": [
    {
     "data": {
      "text/html": [
       "<div>\n",
       "<style scoped>\n",
       "    .dataframe tbody tr th:only-of-type {\n",
       "        vertical-align: middle;\n",
       "    }\n",
       "\n",
       "    .dataframe tbody tr th {\n",
       "        vertical-align: top;\n",
       "    }\n",
       "\n",
       "    .dataframe thead th {\n",
       "        text-align: right;\n",
       "    }\n",
       "</style>\n",
       "<table border=\"1\" class=\"dataframe\">\n",
       "  <thead>\n",
       "    <tr style=\"text-align: right;\">\n",
       "      <th></th>\n",
       "      <th>age</th>\n",
       "      <th>hours-per-week</th>\n",
       "    </tr>\n",
       "  </thead>\n",
       "  <tbody>\n",
       "    <tr>\n",
       "      <th>0</th>\n",
       "      <td>39</td>\n",
       "      <td>40</td>\n",
       "    </tr>\n",
       "    <tr>\n",
       "      <th>1</th>\n",
       "      <td>50</td>\n",
       "      <td>13</td>\n",
       "    </tr>\n",
       "    <tr>\n",
       "      <th>2</th>\n",
       "      <td>38</td>\n",
       "      <td>40</td>\n",
       "    </tr>\n",
       "    <tr>\n",
       "      <th>3</th>\n",
       "      <td>53</td>\n",
       "      <td>40</td>\n",
       "    </tr>\n",
       "    <tr>\n",
       "      <th>4</th>\n",
       "      <td>28</td>\n",
       "      <td>40</td>\n",
       "    </tr>\n",
       "    <tr>\n",
       "      <th>...</th>\n",
       "      <td>...</td>\n",
       "      <td>...</td>\n",
       "    </tr>\n",
       "    <tr>\n",
       "      <th>32556</th>\n",
       "      <td>27</td>\n",
       "      <td>38</td>\n",
       "    </tr>\n",
       "    <tr>\n",
       "      <th>32557</th>\n",
       "      <td>40</td>\n",
       "      <td>40</td>\n",
       "    </tr>\n",
       "    <tr>\n",
       "      <th>32558</th>\n",
       "      <td>58</td>\n",
       "      <td>40</td>\n",
       "    </tr>\n",
       "    <tr>\n",
       "      <th>32559</th>\n",
       "      <td>22</td>\n",
       "      <td>20</td>\n",
       "    </tr>\n",
       "    <tr>\n",
       "      <th>32560</th>\n",
       "      <td>52</td>\n",
       "      <td>40</td>\n",
       "    </tr>\n",
       "  </tbody>\n",
       "</table>\n",
       "<p>32561 rows × 2 columns</p>\n",
       "</div>"
      ],
      "text/plain": [
       "       age  hours-per-week\n",
       "0       39              40\n",
       "1       50              13\n",
       "2       38              40\n",
       "3       53              40\n",
       "4       28              40\n",
       "...    ...             ...\n",
       "32556   27              38\n",
       "32557   40              40\n",
       "32558   58              40\n",
       "32559   22              20\n",
       "32560   52              40\n",
       "\n",
       "[32561 rows x 2 columns]"
      ]
     },
     "execution_count": 12,
     "metadata": {},
     "output_type": "execute_result"
    }
   ],
   "source": [
    "\n",
    "data_pr = data_pr.drop(['>50K, <=50K'],axis=1)\n",
    "data_pr\n"
   ]
  },
  {
   "cell_type": "code",
   "execution_count": 13,
   "id": "bfe26dde",
   "metadata": {},
   "outputs": [
    {
     "data": {
      "text/plain": [
       "[[39, 40],\n",
       " [50, 13],\n",
       " [38, 40],\n",
       " [53, 40],\n",
       " [28, 40],\n",
       " [37, 40],\n",
       " [49, 16],\n",
       " [52, 45],\n",
       " [31, 50],\n",
       " [42, 40],\n",
       " [37, 80],\n",
       " [30, 40],\n",
       " [23, 30],\n",
       " [32, 50],\n",
       " [40, 40],\n",
       " [34, 45],\n",
       " [25, 35],\n",
       " [32, 40],\n",
       " [38, 50],\n",
       " [43, 45],\n",
       " [40, 60],\n",
       " [54, 20],\n",
       " [35, 40],\n",
       " [43, 40],\n",
       " [59, 40],\n",
       " [56, 40],\n",
       " [19, 40],\n",
       " [54, 60],\n",
       " [39, 80],\n",
       " [49, 40],\n",
       " [23, 52],\n",
       " [20, 44],\n",
       " [45, 40],\n",
       " [30, 40],\n",
       " [22, 15],\n",
       " [48, 40],\n",
       " [21, 40],\n",
       " [19, 25],\n",
       " [31, 38],\n",
       " [48, 40],\n",
       " [31, 43],\n",
       " [53, 40],\n",
       " [24, 50],\n",
       " [49, 40],\n",
       " [25, 35],\n",
       " [57, 40],\n",
       " [53, 38],\n",
       " [44, 40],\n",
       " [41, 40],\n",
       " [29, 43],\n",
       " [25, 40],\n",
       " [18, 30],\n",
       " [47, 60],\n",
       " [50, 55],\n",
       " [47, 60],\n",
       " [43, 40],\n",
       " [46, 40],\n",
       " [35, 40],\n",
       " [41, 48],\n",
       " [30, 40],\n",
       " [30, 40],\n",
       " [32, 40],\n",
       " [48, 40],\n",
       " [42, 45],\n",
       " [29, 58],\n",
       " [36, 40],\n",
       " [28, 40],\n",
       " [53, 40],\n",
       " [49, 50],\n",
       " [25, 40],\n",
       " [19, 32],\n",
       " [31, 40],\n",
       " [29, 70],\n",
       " [23, 40],\n",
       " [79, 20],\n",
       " [27, 40],\n",
       " [40, 40],\n",
       " [67, 2],\n",
       " [18, 22],\n",
       " [31, 40],\n",
       " [18, 30],\n",
       " [52, 40],\n",
       " [46, 40],\n",
       " [59, 48],\n",
       " [44, 40],\n",
       " [53, 35],\n",
       " [49, 40],\n",
       " [33, 50],\n",
       " [30, 40],\n",
       " [43, 50],\n",
       " [57, 40],\n",
       " [37, 40],\n",
       " [28, 25],\n",
       " [30, 35],\n",
       " [34, 40],\n",
       " [29, 50],\n",
       " [48, 60],\n",
       " [37, 48],\n",
       " [48, 40],\n",
       " [32, 40],\n",
       " [76, 40],\n",
       " [44, 60],\n",
       " [47, 50],\n",
       " [20, 40],\n",
       " [29, 40],\n",
       " [32, 40],\n",
       " [17, 32],\n",
       " [30, 40],\n",
       " [31, 40],\n",
       " [42, 40],\n",
       " [24, 40],\n",
       " [38, 40],\n",
       " [56, 50],\n",
       " [28, 25],\n",
       " [36, 40],\n",
       " [53, 50],\n",
       " [56, 50],\n",
       " [49, 40],\n",
       " [55, 56],\n",
       " [22, 41],\n",
       " [21, 40],\n",
       " [40, 60],\n",
       " [30, 40],\n",
       " [29, 50],\n",
       " [19, 35],\n",
       " [47, 40],\n",
       " [20, 28],\n",
       " [31, 40],\n",
       " [35, 40],\n",
       " [39, 40],\n",
       " [28, 60],\n",
       " [24, 40],\n",
       " [38, 35],\n",
       " [37, 50],\n",
       " [46, 36],\n",
       " [38, 40],\n",
       " [43, 60],\n",
       " [27, 35],\n",
       " [20, 20],\n",
       " [49, 40],\n",
       " [61, 40],\n",
       " [27, 40],\n",
       " [19, 30],\n",
       " [45, 40],\n",
       " [70, 40],\n",
       " [31, 30],\n",
       " [22, 24],\n",
       " [36, 24],\n",
       " [64, 40],\n",
       " [43, 40],\n",
       " [47, 38],\n",
       " [34, 40],\n",
       " [33, 40],\n",
       " [21, 35],\n",
       " [52, 45],\n",
       " [48, 46],\n",
       " [23, 40],\n",
       " [71, 2],\n",
       " [29, 60],\n",
       " [42, 50],\n",
       " [68, 20],\n",
       " [25, 40],\n",
       " [44, 40],\n",
       " [28, 40],\n",
       " [45, 40],\n",
       " [36, 40],\n",
       " [39, 42],\n",
       " [46, 40],\n",
       " [18, 16],\n",
       " [66, 20],\n",
       " [27, 40],\n",
       " [28, 40],\n",
       " [51, 40],\n",
       " [27, 50],\n",
       " [28, 40],\n",
       " [27, 25],\n",
       " [21, 40],\n",
       " [34, 40],\n",
       " [18, 12],\n",
       " [33, 65],\n",
       " [44, 38],\n",
       " [43, 40],\n",
       " [30, 45],\n",
       " [40, 40],\n",
       " [37, 42],\n",
       " [34, 40],\n",
       " [41, 40],\n",
       " [53, 50],\n",
       " [31, 50],\n",
       " [58, 1],\n",
       " [38, 28],\n",
       " [24, 40],\n",
       " [41, 40],\n",
       " [47, 45],\n",
       " [41, 24],\n",
       " [23, 40],\n",
       " [36, 40],\n",
       " [40, 55],\n",
       " [35, 40],\n",
       " [24, 40],\n",
       " [26, 40],\n",
       " [19, 40],\n",
       " [51, 50],\n",
       " [42, 40],\n",
       " [37, 35],\n",
       " [18, 40],\n",
       " [36, 36],\n",
       " [35, 60],\n",
       " [58, 35],\n",
       " [17, 12],\n",
       " [44, 40],\n",
       " [37, 40],\n",
       " [35, 40],\n",
       " [60, 40],\n",
       " [54, 40],\n",
       " [37, 60],\n",
       " [50, 40],\n",
       " [38, 50],\n",
       " [45, 55],\n",
       " [25, 40],\n",
       " [31, 40],\n",
       " [64, 40],\n",
       " [90, 40],\n",
       " [54, 20],\n",
       " [53, 35],\n",
       " [18, 40],\n",
       " [60, 10],\n",
       " [66, 50],\n",
       " [75, 20],\n",
       " [65, 40],\n",
       " [35, 40],\n",
       " [41, 38],\n",
       " [25, 42],\n",
       " [33, 40],\n",
       " [28, 55],\n",
       " [59, 40],\n",
       " [40, 38],\n",
       " [41, 50],\n",
       " [38, 70],\n",
       " [23, 40],\n",
       " [40, 40],\n",
       " [41, 20],\n",
       " [24, 50],\n",
       " [20, 20],\n",
       " [38, 40],\n",
       " [56, 35],\n",
       " [58, 45],\n",
       " [32, 34],\n",
       " [40, 60],\n",
       " [45, 40],\n",
       " [41, 40],\n",
       " [42, 40],\n",
       " [59, 30],\n",
       " [19, 40],\n",
       " [58, 20],\n",
       " [42, 40],\n",
       " [20, 40],\n",
       " [32, 30],\n",
       " [45, 45],\n",
       " [50, 40],\n",
       " [36, 40],\n",
       " [45, 60],\n",
       " [17, 12],\n",
       " [59, 40],\n",
       " [26, 40],\n",
       " [37, 75],\n",
       " [19, 24],\n",
       " [64, 40],\n",
       " [33, 45],\n",
       " [33, 40],\n",
       " [61, 40],\n",
       " [17, 24],\n",
       " [50, 98],\n",
       " [27, 35],\n",
       " [30, 40],\n",
       " [43, 40],\n",
       " [44, 40],\n",
       " [35, 40],\n",
       " [25, 40],\n",
       " [24, 48],\n",
       " [22, 15],\n",
       " [42, 40],\n",
       " [34, 45],\n",
       " [60, 42],\n",
       " [21, 40],\n",
       " [57, 40],\n",
       " [41, 60],\n",
       " [50, 45],\n",
       " [25, 40],\n",
       " [50, 40],\n",
       " [36, 45],\n",
       " [31, 40],\n",
       " [29, 56],\n",
       " [21, 45],\n",
       " [27, 40],\n",
       " [65, 16],\n",
       " [37, 60],\n",
       " [39, 40],\n",
       " [24, 40],\n",
       " [38, 80],\n",
       " [48, 40],\n",
       " [21, 25],\n",
       " [31, 45],\n",
       " [55, 40],\n",
       " [24, 40],\n",
       " [43, 40],\n",
       " [26, 45],\n",
       " [46, 33],\n",
       " [35, 40],\n",
       " [41, 54],\n",
       " [26, 40],\n",
       " [34, 35],\n",
       " [19, 25],\n",
       " [36, 40],\n",
       " [22, 15],\n",
       " [24, 40],\n",
       " [77, 40],\n",
       " [22, 40],\n",
       " [29, 40],\n",
       " [62, 24],\n",
       " [39, 40],\n",
       " [43, 50],\n",
       " [35, 45],\n",
       " [29, 40],\n",
       " [76, 10],\n",
       " [63, 45],\n",
       " [23, 15],\n",
       " [43, 50],\n",
       " [58, 40],\n",
       " [66, 55],\n",
       " [41, 45],\n",
       " [26, 40],\n",
       " [47, 40],\n",
       " [55, 40],\n",
       " [53, 40],\n",
       " [17, 48],\n",
       " [30, 40],\n",
       " [49, 60],\n",
       " [19, 30],\n",
       " [45, 40],\n",
       " [26, 40],\n",
       " [38, 40],\n",
       " [36, 40],\n",
       " [33, 20],\n",
       " [22, 40],\n",
       " [43, 42],\n",
       " [67, 8],\n",
       " [30, 40],\n",
       " [56, 25],\n",
       " [31, 25],\n",
       " [33, 40],\n",
       " [26, 40],\n",
       " [33, 40],\n",
       " [46, 30],\n",
       " [59, 40],\n",
       " [38, 40],\n",
       " [65, 40],\n",
       " [40, 40],\n",
       " [42, 35],\n",
       " [26, 40],\n",
       " [36, 24],\n",
       " [62, 40],\n",
       " [43, 45],\n",
       " [43, 45],\n",
       " [22, 55],\n",
       " [28, 40],\n",
       " [56, 45],\n",
       " [22, 15],\n",
       " [57, 45],\n",
       " [39, 40],\n",
       " [26, 15],\n",
       " [17, 10],\n",
       " [40, 38],\n",
       " [45, 40],\n",
       " [44, 40],\n",
       " [20, 10],\n",
       " [33, 40],\n",
       " [23, 40],\n",
       " [46, 30],\n",
       " [38, 50],\n",
       " [54, 40],\n",
       " [46, 45],\n",
       " [25, 40],\n",
       " [46, 40],\n",
       " [36, 40],\n",
       " [23, 25],\n",
       " [29, 40],\n",
       " [44, 6],\n",
       " [19, 16],\n",
       " [19, 40],\n",
       " [35, 40],\n",
       " [27, 50],\n",
       " [46, 40],\n",
       " [34, 45],\n",
       " [34, 35],\n",
       " [44, 40],\n",
       " [45, 40],\n",
       " [20, 35],\n",
       " [25, 55],\n",
       " [52, 50],\n",
       " [20, 40],\n",
       " [28, 40],\n",
       " [50, 40],\n",
       " [34, 64],\n",
       " [28, 40],\n",
       " [41, 65],\n",
       " [28, 40],\n",
       " [46, 25],\n",
       " [28, 40],\n",
       " [32, 50],\n",
       " [41, 24],\n",
       " [24, 40],\n",
       " [33, 40],\n",
       " [46, 60],\n",
       " [31, 40],\n",
       " [35, 50],\n",
       " [52, 40],\n",
       " [30, 19],\n",
       " [34, 40],\n",
       " [34, 40],\n",
       " [20, 30],\n",
       " [17, 18],\n",
       " [32, 40],\n",
       " [29, 40],\n",
       " [33, 35],\n",
       " [25, 60],\n",
       " [36, 40],\n",
       " [23, 72],\n",
       " [63, 40],\n",
       " [47, 40],\n",
       " [80, 24],\n",
       " [17, 40],\n",
       " [40, 40],\n",
       " [30, 25],\n",
       " [27, 40],\n",
       " [33, 50],\n",
       " [34, 60],\n",
       " [34, 40],\n",
       " [23, 40],\n",
       " [42, 40],\n",
       " [29, 40],\n",
       " [45, 28],\n",
       " [24, 40],\n",
       " [44, 40],\n",
       " [27, 40],\n",
       " [20, 35],\n",
       " [44, 40],\n",
       " [51, 40],\n",
       " [20, 40],\n",
       " [17, 5],\n",
       " [19, 40],\n",
       " [45, 55],\n",
       " [60, 40],\n",
       " [42, 40],\n",
       " [44, 40],\n",
       " [40, 40],\n",
       " [30, 40],\n",
       " [38, 50],\n",
       " [23, 60],\n",
       " [32, 40],\n",
       " [44, 40],\n",
       " [54, 40],\n",
       " [32, 50],\n",
       " [50, 40],\n",
       " [24, 20],\n",
       " [37, 60],\n",
       " [52, 40],\n",
       " [38, 40],\n",
       " [49, 45],\n",
       " [30, 16],\n",
       " [60, 40],\n",
       " [22, 40],\n",
       " [35, 40],\n",
       " [30, 60],\n",
       " [67, 24],\n",
       " [46, 40],\n",
       " [17, 6],\n",
       " [22, 30],\n",
       " [27, 40],\n",
       " [23, 35],\n",
       " [33, 45],\n",
       " [43, 20],\n",
       " [28, 20],\n",
       " [41, 40],\n",
       " [52, 40],\n",
       " [25, 20],\n",
       " [63, 35],\n",
       " [59, 45],\n",
       " [45, 40],\n",
       " [38, 60],\n",
       " [40, 35],\n",
       " [46, 40],\n",
       " [35, 60],\n",
       " [34, 25],\n",
       " [33, 20],\n",
       " [41, 36],\n",
       " [20, 40],\n",
       " [23, 40],\n",
       " [26, 35],\n",
       " [72, 20],\n",
       " [23, 40],\n",
       " [62, 40],\n",
       " [52, 40],\n",
       " [58, 42],\n",
       " [25, 40],\n",
       " [24, 40],\n",
       " [19, 8],\n",
       " [43, 40],\n",
       " [47, 40],\n",
       " [39, 40],\n",
       " [49, 42],\n",
       " [53, 30],\n",
       " [32, 45],\n",
       " [34, 50],\n",
       " [28, 45],\n",
       " [57, 38],\n",
       " [25, 20],\n",
       " [20, 24],\n",
       " [21, 35],\n",
       " [34, 50],\n",
       " [38, 80],\n",
       " [50, 50],\n",
       " [24, 50],\n",
       " [37, 45],\n",
       " [44, 58],\n",
       " [28, 40],\n",
       " [42, 40],\n",
       " [74, 9],\n",
       " [38, 50],\n",
       " [44, 40],\n",
       " [44, 46],\n",
       " [26, 40],\n",
       " [36, 40],\n",
       " [41, 50],\n",
       " [67, 48],\n",
       " [39, 50],\n",
       " [57, 30],\n",
       " [29, 40],\n",
       " [31, 45],\n",
       " [34, 40],\n",
       " [44, 40],\n",
       " [29, 40],\n",
       " [30, 40],\n",
       " [27, 40],\n",
       " [27, 50],\n",
       " [32, 45],\n",
       " [58, 8],\n",
       " [35, 40],\n",
       " [21, 36],\n",
       " [28, 40],\n",
       " [46, 50],\n",
       " [36, 40],\n",
       " [72, 40],\n",
       " [35, 40],\n",
       " [33, 40],\n",
       " [69, 40],\n",
       " [35, 40],\n",
       " [31, 20],\n",
       " [34, 32],\n",
       " [30, 40],\n",
       " [28, 55],\n",
       " [54, 35],\n",
       " [47, 50],\n",
       " [24, 40],\n",
       " [52, 60],\n",
       " [20, 48],\n",
       " [43, 45],\n",
       " [45, 40],\n",
       " [29, 35],\n",
       " [47, 42],\n",
       " [24, 40],\n",
       " [51, 40],\n",
       " [17, 12],\n",
       " [37, 40],\n",
       " [27, 70],\n",
       " [29, 40],\n",
       " [18, 25],\n",
       " [36, 35],\n",
       " [58, 40],\n",
       " [26, 45],\n",
       " [65, 30],\n",
       " [57, 40],\n",
       " [59, 40],\n",
       " [27, 40],\n",
       " [31, 40],\n",
       " [21, 24],\n",
       " [29, 60],\n",
       " [18, 40],\n",
       " [52, 47],\n",
       " [57, 80],\n",
       " [42, 40],\n",
       " [55, 40],\n",
       " [60, 48],\n",
       " [31, 40],\n",
       " [23, 40],\n",
       " [27, 40],\n",
       " [23, 25],\n",
       " [42, 50],\n",
       " [25, 40],\n",
       " [49, 45],\n",
       " [32, 40],\n",
       " [19, 28],\n",
       " [60, 40],\n",
       " [42, 40],\n",
       " [35, 40],\n",
       " [48, 37],\n",
       " [51, 40],\n",
       " [29, 40],\n",
       " [36, 40],\n",
       " [17, 21],\n",
       " [52, 60],\n",
       " [24, 40],\n",
       " [24, 50],\n",
       " [26, 40],\n",
       " [27, 20],\n",
       " [39, 60],\n",
       " [30, 45],\n",
       " [50, 32],\n",
       " [52, 55],\n",
       " [46, 45],\n",
       " [23, 20],\n",
       " [45, 20],\n",
       " [65, 24],\n",
       " [29, 55],\n",
       " [47, 40],\n",
       " [30, 60],\n",
       " [34, 45],\n",
       " [38, 64],\n",
       " [33, 40],\n",
       " [49, 26],\n",
       " [47, 40],\n",
       " [49, 40],\n",
       " [43, 60],\n",
       " [30, 40],\n",
       " [58, 60],\n",
       " [19, 14],\n",
       " [21, 40],\n",
       " [33, 60],\n",
       " [47, 50],\n",
       " [52, 60],\n",
       " [26, 55],\n",
       " [60, 40],\n",
       " [21, 40],\n",
       " [36, 50],\n",
       " [31, 45],\n",
       " [50, 40],\n",
       " [31, 40],\n",
       " [71, 15],\n",
       " [58, 50],\n",
       " [30, 40],\n",
       " [20, 20],\n",
       " [24, 50],\n",
       " [35, 40],\n",
       " [38, 45],\n",
       " [27, 32],\n",
       " [29, 40],\n",
       " [70, 15],\n",
       " [34, 45],\n",
       " [44, 35],\n",
       " [43, 40],\n",
       " [44, 40],\n",
       " [35, 60],\n",
       " [27, 40],\n",
       " [43, 38],\n",
       " [20, 25],\n",
       " [42, 40],\n",
       " [27, 40],\n",
       " [42, 40],\n",
       " [20, 40],\n",
       " [24, 40],\n",
       " [48, 40],\n",
       " [17, 20],\n",
       " [17, 10],\n",
       " [33, 40],\n",
       " [50, 50],\n",
       " [22, 40],\n",
       " [17, 16],\n",
       " [32, 40],\n",
       " [31, 45],\n",
       " [58, 50],\n",
       " [29, 48],\n",
       " [37, 40],\n",
       " [34, 40],\n",
       " [23, 40],\n",
       " [18, 5],\n",
       " [34, 40],\n",
       " [66, 4],\n",
       " [45, 55],\n",
       " [41, 35],\n",
       " [26, 30],\n",
       " [54, 40],\n",
       " [24, 45],\n",
       " [42, 50],\n",
       " [20, 20],\n",
       " [23, 20],\n",
       " [25, 45],\n",
       " [35, 60],\n",
       " [31, 40],\n",
       " [30, 40],\n",
       " [19, 20],\n",
       " [36, 50],\n",
       " [31, 40],\n",
       " [21, 30],\n",
       " [31, 40],\n",
       " [46, 65],\n",
       " [44, 50],\n",
       " [40, 40],\n",
       " [45, 40],\n",
       " [60, 35],\n",
       " [18, 25],\n",
       " [28, 40],\n",
       " [36, 40],\n",
       " [36, 40],\n",
       " [40, 40],\n",
       " [36, 35],\n",
       " [31, 40],\n",
       " [33, 40],\n",
       " [19, 40],\n",
       " [22, 15],\n",
       " [34, 45],\n",
       " [33, 40],\n",
       " [41, 60],\n",
       " [29, 40],\n",
       " [50, 42],\n",
       " [42, 45],\n",
       " [43, 40],\n",
       " [44, 40],\n",
       " [20, 20],\n",
       " [31, 40],\n",
       " [65, 59],\n",
       " [23, 24],\n",
       " [55, 40],\n",
       " [26, 45],\n",
       " [25, 15],\n",
       " [45, 40],\n",
       " [35, 40],\n",
       " [36, 36],\n",
       " [43, 50],\n",
       " [56, 20],\n",
       " [42, 40],\n",
       " [19, 25],\n",
       " [55, 72],\n",
       " [42, 50],\n",
       " [26, 40],\n",
       " [17, 20],\n",
       " [42, 40],\n",
       " [55, 40],\n",
       " [32, 40],\n",
       " [29, 40],\n",
       " [46, 37],\n",
       " [29, 40],\n",
       " [22, 20],\n",
       " [58, 40],\n",
       " [23, 50],\n",
       " [39, 40],\n",
       " [27, 38],\n",
       " [54, 40],\n",
       " [33, 45],\n",
       " [46, 40],\n",
       " [37, 40],\n",
       " [36, 18],\n",
       " [59, 38],\n",
       " [34, 40],\n",
       " [53, 70],\n",
       " [51, 55],\n",
       " [32, 42],\n",
       " [31, 40],\n",
       " [22, 30],\n",
       " [47, 50],\n",
       " [32, 40],\n",
       " [26, 38],\n",
       " [37, 32],\n",
       " [31, 55],\n",
       " [37, 24],\n",
       " [55, 38],\n",
       " [23, 56],\n",
       " [36, 40],\n",
       " [34, 40],\n",
       " [43, 50],\n",
       " [54, 40],\n",
       " [43, 40],\n",
       " [28, 42],\n",
       " [40, 50],\n",
       " [41, 60],\n",
       " [40, 55],\n",
       " [42, 38],\n",
       " [61, 50],\n",
       " [18, 30],\n",
       " [59, 16],\n",
       " [21, 40],\n",
       " [48, 50],\n",
       " [41, 40],\n",
       " [18, 33],\n",
       " [23, 40],\n",
       " [60, 60],\n",
       " [22, 20],\n",
       " [61, 40],\n",
       " [25, 40],\n",
       " [46, 35],\n",
       " [43, 40],\n",
       " [43, 40],\n",
       " [24, 30],\n",
       " [68, 20],\n",
       " [31, 38],\n",
       " [17, 20],\n",
       " [32, 48],\n",
       " [50, 40],\n",
       " [33, 47],\n",
       " [64, 40],\n",
       " [20, 30],\n",
       " [30, 36],\n",
       " [22, 40],\n",
       " [43, 45],\n",
       " [22, 40],\n",
       " [17, 20],\n",
       " [47, 75],\n",
       " [41, 60],\n",
       " [56, 50],\n",
       " [64, 45],\n",
       " [47, 50],\n",
       " [48, 40],\n",
       " [31, 46],\n",
       " [29, 40],\n",
       " [30, 40],\n",
       " [32, 60],\n",
       " [57, 42],\n",
       " [62, 40],\n",
       " [39, 24],\n",
       " [43, 25],\n",
       " [24, 40],\n",
       " [42, 15],\n",
       " [53, 40],\n",
       " [26, 40],\n",
       " [73, 40],\n",
       " [72, 24],\n",
       " [55, 40],\n",
       " [25, 40],\n",
       " [41, 50],\n",
       " [24, 50],\n",
       " [63, 6],\n",
       " [17, 20],\n",
       " [35, 50],\n",
       " [51, 40],\n",
       " [62, 48],\n",
       " [55, 40],\n",
       " [43, 40],\n",
       " [40, 50],\n",
       " [37, 45],\n",
       " [39, 40],\n",
       " [31, 18],\n",
       " [61, 40],\n",
       " [26, 55],\n",
       " [46, 50],\n",
       " [26, 40],\n",
       " [48, 50],\n",
       " [34, 40],\n",
       " [34, 40],\n",
       " [59, 40],\n",
       " [34, 40],\n",
       " [49, 56],\n",
       " [18, 20],\n",
       " [43, 40],\n",
       " [48, 50],\n",
       " [28, 70],\n",
       " [33, 40],\n",
       " [24, 15],\n",
       " [21, 40],\n",
       " [17, 28],\n",
       " [39, 50],\n",
       " [29, 40],\n",
       " [44, 40],\n",
       " [24, 50],\n",
       " [71, 40],\n",
       " [51, 40],\n",
       " [55, 25],\n",
       " [41, 60],\n",
       " [23, 7],\n",
       " [38, 40],\n",
       " [39, 40],\n",
       " [19, 30],\n",
       " [49, 40],\n",
       " [32, 40],\n",
       " [27, 70],\n",
       " [38, 50],\n",
       " [33, 60],\n",
       " [63, 15],\n",
       " [23, 28],\n",
       " [33, 60],\n",
       " [54, 40],\n",
       " [29, 45],\n",
       " [48, 30],\n",
       " [35, 40],\n",
       " [28, 40],\n",
       " [37, 50],\n",
       " [42, 65],\n",
       " [40, 40],\n",
       " [47, 55],\n",
       " [22, 50],\n",
       " [30, 45],\n",
       " [28, 40],\n",
       " [63, 55],\n",
       " [51, 20],\n",
       " [22, 40],\n",
       " [27, 40],\n",
       " [35, 45],\n",
       " [46, 38],\n",
       " [37, 52],\n",
       " [24, 15],\n",
       " [37, 10],\n",
       " [53, 40],\n",
       " [27, 30],\n",
       " [38, 44],\n",
       " [53, 60],\n",
       " [34, 40],\n",
       " [23, 40],\n",
       " [39, 45],\n",
       " [43, 50],\n",
       " [67, 40],\n",
       " [81, 30],\n",
       " [21, 20],\n",
       " [23, 25],\n",
       " [25, 40],\n",
       " [42, 38],\n",
       " [38, 40],\n",
       " [64, 5],\n",
       " [32, 40],\n",
       " [37, 40],\n",
       " [51, 60],\n",
       " [22, 42],\n",
       " [33, 40],\n",
       " [42, 55],\n",
       " [19, 10],\n",
       " [51, 40],\n",
       " [23, 40],\n",
       " [37, 44],\n",
       " [37, 99],\n",
       " [47, 25],\n",
       " [41, 40],\n",
       " [33, 30],\n",
       " [31, 40],\n",
       " [31, 40],\n",
       " [35, 40],\n",
       " [38, 40],\n",
       " [18, 45],\n",
       " [20, 40],\n",
       " [54, 35],\n",
       " [40, 40],\n",
       " [36, 45],\n",
       " [43, 35],\n",
       " [44, 40],\n",
       " [44, 40],\n",
       " [43, 43],\n",
       " [51, 40],\n",
       " [18, 20],\n",
       " [51, 40],\n",
       " [41, 30],\n",
       " [44, 70],\n",
       " [33, 40],\n",
       " [33, 40],\n",
       " [42, 40],\n",
       " [25, 45],\n",
       " [32, 38],\n",
       " [32, 70],\n",
       " [36, 40],\n",
       " [28, 40],\n",
       " [20, 20],\n",
       " [35, 60],\n",
       " [55, 20],\n",
       " [48, 40],\n",
       " [36, 20],\n",
       " [34, 35],\n",
       " [28, 35],\n",
       " [67, 40],\n",
       " [37, 40],\n",
       " [44, 70],\n",
       " [25, 40],\n",
       " [21, 40],\n",
       " [40, 35],\n",
       " [78, 40],\n",
       " [34, 40],\n",
       " [49, 44],\n",
       " [22, 40],\n",
       " [23, 40],\n",
       " [60, 42],\n",
       " [45, 40],\n",
       " [63, 20],\n",
       " [41, 35],\n",
       " [47, 40],\n",
       " [44, 40],\n",
       " [51, 40],\n",
       " [46, 40],\n",
       " [41, 40],\n",
       " [50, 30],\n",
       " [47, 50],\n",
       " [35, 45],\n",
       " [56, 55],\n",
       " [45, 45],\n",
       " [48, 58],\n",
       " [40, 40],\n",
       " [39, 50],\n",
       " ...]"
      ]
     },
     "execution_count": 13,
     "metadata": {},
     "output_type": "execute_result"
    }
   ],
   "source": [
    "\n",
    "list = data_pr.values.tolist()\n",
    "list\n"
   ]
  },
  {
   "cell_type": "code",
   "execution_count": 14,
   "id": "049fe4bf",
   "metadata": {},
   "outputs": [
    {
     "data": {
      "text/plain": [
       "array([[39, 40],\n",
       "       [50, 13],\n",
       "       [38, 40],\n",
       "       ...,\n",
       "       [58, 40],\n",
       "       [22, 20],\n",
       "       [52, 40]])"
      ]
     },
     "execution_count": 14,
     "metadata": {},
     "output_type": "execute_result"
    }
   ],
   "source": [
    "\n",
    "pr = np.array(list)\n",
    "pr\n"
   ]
  },
  {
   "cell_type": "markdown",
   "id": "00046bfc",
   "metadata": {},
   "source": [
    "K-means"
   ]
  },
  {
   "cell_type": "code",
   "execution_count": 15,
   "id": "d73ea1df",
   "metadata": {},
   "outputs": [],
   "source": [
    "\n",
    "def plot_cluster(X,y):\n",
    "    # визуализация кластеров \n",
    "    plt.figure(figsize=(12,10))\n",
    "    clusters = np.unique(y)\n",
    "    for cluster in clusters:\n",
    "        # индексы строк для данного кластера \n",
    "        row_ix = np.where(y == cluster)\n",
    "        # диаграмма рассеяния для кластера\n",
    "        plt.scatter(X[row_ix, 0], X[row_ix, 1],s=20)\n",
    "    plt.grid(True)\n",
    "    "
   ]
  },
  {
   "cell_type": "code",
   "execution_count": 16,
   "id": "3149b97c",
   "metadata": {},
   "outputs": [
    {
     "data": {
      "image/png": "[encoded data removed]",
      "text/plain": [
       "<Figure size 864x720 with 1 Axes>"
      ]
     },
     "metadata": {
      "needs_background": "light"
     },
     "output_type": "display_data"
    }
   ],
   "source": [
    "\n",
    "# кластеризация k-means \n",
    "from sklearn.cluster import KMeans\n",
    "\n",
    "# модель\n",
    "model = KMeans(n_clusters=2)\n",
    "\n",
    "# тренируем модель\n",
    "model.fit(pr)\n",
    "\n",
    "# присваиваем метку каждой точке набора\n",
    "yhat = model.predict(pr)\n",
    "\n",
    "plot_cluster(pr,yhat)\n"
   ]
  },
  {
   "cell_type": "markdown",
   "id": "6ad4850c",
   "metadata": {},
   "source": [
    "Agglomerative Clustering"
   ]
  },
  {
   "cell_type": "code",
   "execution_count": 17,
   "id": "30511f36",
   "metadata": {},
   "outputs": [
    {
     "data": {
      "image/png": "[encoded data removed]",
      "text/plain": [
       "<Figure size 864x720 with 1 Axes>"
      ]
     },
     "metadata": {
      "needs_background": "light"
     },
     "output_type": "display_data"
    }
   ],
   "source": [
    "\n",
    "# иерархическая кластеризация\n",
    "from sklearn.cluster import AgglomerativeClustering\n",
    "\n",
    "# модель иерархической кластеризации, расстояние между кластерами методом Ward\n",
    "model1 = AgglomerativeClustering(n_clusters=2)\n",
    "\n",
    "# тренируем модель и присваиваем метку каждой точке набора\n",
    "yhat1 = model1.fit_predict(pr)\n",
    "\n",
    "plot_cluster(pr,yhat1)\n"
   ]
  },
  {
   "cell_type": "markdown",
   "id": "801ab97c",
   "metadata": {},
   "source": [
    "DBSCAN"
   ]
  },
  {
   "cell_type": "code",
   "execution_count": 18,
   "id": "9963c584",
   "metadata": {},
   "outputs": [
    {
     "data": {
      "image/png": "[encoded data removed]",
      "text/plain": [
       "<Figure size 864x720 with 1 Axes>"
      ]
     },
     "metadata": {
      "needs_background": "light"
     },
     "output_type": "display_data"
    }
   ],
   "source": [
    "\n",
    "# кластеризация dbscan \n",
    "from sklearn.cluster import DBSCAN\n",
    "\n",
    "# модель\n",
    "model2 = DBSCAN(eps=0.20, min_samples=5)\n",
    "\n",
    "# тренируем модель и присваиваем метку каждой точке набора\n",
    "yhat2 = model2.fit_predict(pr)\n",
    "\n",
    "plot_cluster(pr,yhat2)\n"
   ]
  },
  {
   "cell_type": "markdown",
   "id": "2c75ff3b",
   "metadata": {},
   "source": [
    "Gaussian Mixture Model "
   ]
  },
  {
   "cell_type": "code",
   "execution_count": 19,
   "id": "c0717ef6",
   "metadata": {},
   "outputs": [
    {
     "data": {
      "image/png": "[encoded data removed]",
      "text/plain": [
       "<Figure size 864x720 with 1 Axes>"
      ]
     },
     "metadata": {
      "needs_background": "light"
     },
     "output_type": "display_data"
    }
   ],
   "source": [
    "# кластеризация при помощи гауссовских смесей\n",
    "from sklearn.mixture import GaussianMixture\n",
    "\n",
    "# модель\n",
    "model3 = GaussianMixture(n_components=2)\n",
    "\n",
    "# тренируем модель\n",
    "model3.fit(pr)\n",
    "\n",
    "# присваиваем метку каждой точке набора\n",
    "yhat3 = model3.predict(pr)\n",
    "\n",
    "plot_cluster(pr,yhat3)\n"
   ]
  },
  {
   "cell_type": "markdown",
   "id": "d9028ccc",
   "metadata": {},
   "source": [
    "6.\tДля каждого из алгоритмов кластеризации, указанных в индивидуальном задании, постройте матрицу сопряженности, используя функцию `contingency_matrix()` из scikit-learn, и найдите значения мер качества кластеризации, указанные в индивидуальном задании.  "
   ]
  },
  {
   "cell_type": "markdown",
   "id": "14da0e4e",
   "metadata": {},
   "source": [
    "Для F-меры меняю буквенные обозначения классов на численные."
   ]
  },
  {
   "cell_type": "code",
   "execution_count": 20,
   "id": "61de540f",
   "metadata": {},
   "outputs": [
    {
     "data": {
      "text/plain": [
       "array([' <=50K', ' <=50K', ' <=50K', ..., ' <=50K', ' <=50K', ' >50K'],\n",
       "      dtype='<U6')"
      ]
     },
     "execution_count": 20,
     "metadata": {},
     "output_type": "execute_result"
    }
   ],
   "source": [
    "\n",
    "cl = data.copy()\n",
    "list1 = cl.values.tolist()\n",
    "list1\n",
    "cls = []\n",
    "for i in list1:\n",
    "    cls.append(i[2])\n",
    "cls = np.array(cls)\n",
    "cls\n"
   ]
  },
  {
   "cell_type": "code",
   "execution_count": 21,
   "id": "95f17bef",
   "metadata": {},
   "outputs": [
    {
     "data": {
      "text/plain": [
       "0        1\n",
       "1        1\n",
       "2        1\n",
       "3        1\n",
       "4        1\n",
       "        ..\n",
       "32556    1\n",
       "32557    2\n",
       "32558    1\n",
       "32559    1\n",
       "32560    2\n",
       "Name: >50K, <=50K, Length: 32561, dtype: int64"
      ]
     },
     "execution_count": 21,
     "metadata": {},
     "output_type": "execute_result"
    }
   ],
   "source": [
    "\n",
    "c = data.copy()\n",
    "c = c['>50K, <=50K'].replace(' <=50K', 1)\n",
    "c = c.replace(' >50K', 2)\n",
    "c\n"
   ]
  },
  {
   "cell_type": "code",
   "execution_count": 22,
   "id": "d6b25fc0",
   "metadata": {},
   "outputs": [
    {
     "data": {
      "text/plain": [
       "array([1, 1, 1, ..., 1, 1, 2], dtype=int64)"
      ]
     },
     "execution_count": 22,
     "metadata": {},
     "output_type": "execute_result"
    }
   ],
   "source": [
    "\n",
    "cl = np.array(c)\n",
    "cl\n"
   ]
  },
  {
   "cell_type": "markdown",
   "id": "cc7ea565",
   "metadata": {},
   "source": [
    "Матрицы сопряженности:"
   ]
  },
  {
   "cell_type": "markdown",
   "id": "ca3f1667",
   "metadata": {},
   "source": [
    "K-means"
   ]
  },
  {
   "cell_type": "code",
   "execution_count": 23,
   "id": "c820103f",
   "metadata": {},
   "outputs": [
    {
     "data": {
      "text/plain": [
       "array([[15785,  8935],\n",
       "       [ 2780,  5061]], dtype=int64)"
      ]
     },
     "execution_count": 23,
     "metadata": {},
     "output_type": "execute_result"
    }
   ],
   "source": [
    "\n",
    "from sklearn.metrics.cluster import contingency_matrix\n",
    "\n",
    "matrix = contingency_matrix(cl, model.labels_)\n",
    "matrix\n"
   ]
  },
  {
   "cell_type": "markdown",
   "id": "36200e5c",
   "metadata": {},
   "source": [
    "Agglomerative Clustering"
   ]
  },
  {
   "cell_type": "code",
   "execution_count": 24,
   "id": "ec74744e",
   "metadata": {},
   "outputs": [
    {
     "data": {
      "text/plain": [
       "array([[15307,  9413],\n",
       "       [ 7288,   553]], dtype=int64)"
      ]
     },
     "execution_count": 24,
     "metadata": {},
     "output_type": "execute_result"
    }
   ],
   "source": [
    "\n",
    "\n",
    "matrix1 = contingency_matrix(cl, model1.labels_)\n",
    "matrix1\n"
   ]
  },
  {
   "cell_type": "markdown",
   "id": "0f481232",
   "metadata": {},
   "source": [
    "DBSCAN"
   ]
  },
  {
   "cell_type": "code",
   "execution_count": 25,
   "id": "ba883eed",
   "metadata": {},
   "outputs": [
    {
     "data": {
      "text/plain": [
       "array([[2425,  296,  283, ...,    3,    2,    4],\n",
       "       [ 673,  101,  112, ...,    2,    3,    1]], dtype=int64)"
      ]
     },
     "execution_count": 25,
     "metadata": {},
     "output_type": "execute_result"
    }
   ],
   "source": [
    "\n",
    "\n",
    "matrix2 = contingency_matrix(cl, model2.labels_)\n",
    "matrix2\n"
   ]
  },
  {
   "cell_type": "markdown",
   "id": "91d1e307",
   "metadata": {},
   "source": [
    "Gaussian Mixture Model"
   ]
  },
  {
   "cell_type": "code",
   "execution_count": 26,
   "id": "69cffee7",
   "metadata": {},
   "outputs": [
    {
     "data": {
      "text/plain": [
       "array([[ 9891, 14829],\n",
       "       [ 5320,  2521]], dtype=int64)"
      ]
     },
     "execution_count": 26,
     "metadata": {},
     "output_type": "execute_result"
    }
   ],
   "source": [
    "\n",
    "matrix3 = contingency_matrix(cl, yhat3)\n",
    "matrix3\n"
   ]
  },
  {
   "cell_type": "markdown",
   "id": "50914340",
   "metadata": {},
   "source": [
    "F-мера, парные меры TP, FN, FP, TN, индекс Жаккара "
   ]
  },
  {
   "cell_type": "markdown",
   "id": "4c1529c2",
   "metadata": {},
   "source": [
    "Функция для меры TP"
   ]
  },
  {
   "cell_type": "code",
   "execution_count": 27,
   "id": "373e3eb0",
   "metadata": {},
   "outputs": [],
   "source": [
    "\n",
    "def TP_f(m):\n",
    "    TP = 0\n",
    "    count = 0\n",
    "    for i in range(m.shape[0]):\n",
    "        for j in range(m.shape[1]):\n",
    "            count += 1\n",
    "            TP += pow(m[i][j], 2)\n",
    "    TP = (TP - count) / 2\n",
    "    print(TP)\n",
    "    return TP\n"
   ]
  },
  {
   "cell_type": "code",
   "execution_count": 28,
   "id": "b2187791",
   "metadata": {},
   "outputs": [
    {
     "name": "stdout",
     "output_type": "stream",
     "text": [
      "181171283.5\n"
     ]
    }
   ],
   "source": [
    "\n",
    "#K-means\n",
    "TP = TP_f(matrix)\n"
   ]
  },
  {
   "cell_type": "code",
   "execution_count": 29,
   "id": "402180dd",
   "metadata": {},
   "outputs": [
    {
     "name": "stdout",
     "output_type": "stream",
     "text": [
      "188164783.5\n"
     ]
    }
   ],
   "source": [
    "\n",
    "#Agglomerative Clustering\n",
    "TP1 = TP_f(matrix1)\n"
   ]
  },
  {
   "cell_type": "code",
   "execution_count": 30,
   "id": "e1530df8",
   "metadata": {},
   "outputs": [
    {
     "name": "stdout",
     "output_type": "stream",
     "text": [
      "5225030.5\n"
     ]
    }
   ],
   "source": [
    "\n",
    "#DBSCAN \n",
    "TP2 = TP_f(matrix2)\n"
   ]
  },
  {
   "cell_type": "code",
   "execution_count": 31,
   "id": "5e9cd0af",
   "metadata": {},
   "outputs": [
    {
     "name": "stdout",
     "output_type": "stream",
     "text": [
      "176194479.5\n"
     ]
    }
   ],
   "source": [
    "\n",
    "#Gaussian Mixture Model \n",
    "TP3 = TP_f(matrix3)\n"
   ]
  },
  {
   "cell_type": "markdown",
   "id": "358dd380",
   "metadata": {},
   "source": [
    "Функция для меры FN"
   ]
  },
  {
   "cell_type": "code",
   "execution_count": 32,
   "id": "5bfe0bde",
   "metadata": {},
   "outputs": [],
   "source": [
    "\n",
    "def FN_f(matrix):\n",
    "    FN = 0\n",
    "    n_i = 0\n",
    "    for i in range(matrix.shape[0]):\n",
    "        n_i += pow(np.sum(matrix[i]), 2)\n",
    "        for j in range(matrix.shape[1]):\n",
    "            FN += pow(matrix[i][j], 2)\n",
    "    FN = (n_i - FN) / 2\n",
    "    print(FN)\n",
    "    return FN\n"
   ]
  },
  {
   "cell_type": "code",
   "execution_count": 33,
   "id": "640eb875",
   "metadata": {},
   "outputs": [
    {
     "name": "stdout",
     "output_type": "stream",
     "text": [
      "155108555.0\n"
     ]
    }
   ],
   "source": [
    "\n",
    "#K-means\n",
    "FN = FN_f(matrix)\n"
   ]
  },
  {
   "cell_type": "code",
   "execution_count": 34,
   "id": "ca4b31e3",
   "metadata": {},
   "outputs": [
    {
     "name": "stdout",
     "output_type": "stream",
     "text": [
      "148115055.0\n"
     ]
    }
   ],
   "source": [
    "\n",
    "#Agglomerative Clustering\n",
    "FN1 = FN_f(matrix1)\n"
   ]
  },
  {
   "cell_type": "code",
   "execution_count": 35,
   "id": "e1ef3777",
   "metadata": {},
   "outputs": [
    {
     "name": "stdout",
     "output_type": "stream",
     "text": [
      "331053975.0\n"
     ]
    }
   ],
   "source": [
    "\n",
    "#DBSCAN \n",
    "FN2 = FN_f(matrix2)\n"
   ]
  },
  {
   "cell_type": "code",
   "execution_count": 36,
   "id": "6aa3f48a",
   "metadata": {},
   "outputs": [
    {
     "name": "stdout",
     "output_type": "stream",
     "text": [
      "160085359.0\n"
     ]
    }
   ],
   "source": [
    "\n",
    "#Gaussian Mixture Model \n",
    "FN3 = FN_f(matrix3)\n"
   ]
  },
  {
   "cell_type": "markdown",
   "id": "59f033e0",
   "metadata": {},
   "source": [
    "Функция для меры FP"
   ]
  },
  {
   "cell_type": "code",
   "execution_count": 37,
   "id": "31e625b5",
   "metadata": {},
   "outputs": [],
   "source": [
    "\n",
    "def FP_f(matrix):\n",
    "    FP = 0\n",
    "    m_j = np.sum(matrix, axis = 0)\n",
    "    m_j = pow(m_j, 2)\n",
    "    m_j = np.sum(m_j)\n",
    "    for i in range(matrix.shape[0]):\n",
    "        for j in range(matrix.shape[1]):\n",
    "            FP += pow(matrix[i][j], 2)\n",
    "    FP = (m_j - FP) / 2\n",
    "    print(FP)\n",
    "    return FP\n"
   ]
  },
  {
   "cell_type": "code",
   "execution_count": 38,
   "id": "79001b8d",
   "metadata": {},
   "outputs": [
    {
     "name": "stdout",
     "output_type": "stream",
     "text": [
      "89102335.0\n"
     ]
    }
   ],
   "source": [
    "\n",
    "#K-means\n",
    "FP = FP_f(matrix)\n"
   ]
  },
  {
   "cell_type": "code",
   "execution_count": 39,
   "id": "b069a2be",
   "metadata": {},
   "outputs": [
    {
     "name": "stdout",
     "output_type": "stream",
     "text": [
      "116762805.0\n"
     ]
    }
   ],
   "source": [
    "\n",
    "#Agglomerative Clustering\n",
    "FP1 = FP_f(matrix1)\n"
   ]
  },
  {
   "cell_type": "code",
   "execution_count": 40,
   "id": "14dc41b9",
   "metadata": {},
   "outputs": [
    {
     "name": "stdout",
     "output_type": "stream",
     "text": [
      "2498516.0\n"
     ]
    }
   ],
   "source": [
    "\n",
    "#DBSCAN \n",
    "FP2 = FP_f(matrix2)\n"
   ]
  },
  {
   "cell_type": "code",
   "execution_count": 41,
   "id": "63c0d225",
   "metadata": {},
   "outputs": [
    {
     "name": "stdout",
     "output_type": "stream",
     "text": [
      "90004029.0\n"
     ]
    }
   ],
   "source": [
    "\n",
    "#Gaussian Mixture Model \n",
    "FP3 = FP_f(matrix3)\n"
   ]
  },
  {
   "cell_type": "markdown",
   "id": "1c72c50e",
   "metadata": {},
   "source": [
    "Функция для меры TN"
   ]
  },
  {
   "cell_type": "code",
   "execution_count": 42,
   "id": "c88050e5",
   "metadata": {},
   "outputs": [],
   "source": [
    "\n",
    "def TN_f(matrix):\n",
    "    TN = 0\n",
    "    m_j = np.sum(matrix, axis = 0)\n",
    "    m_j = pow(m_j, 2)\n",
    "    m_j = np.sum(m_j)\n",
    "    n_i = np.sum(matrix, axis = 1)\n",
    "    n_i = pow(n_i, 2)\n",
    "    n_i = np.sum(n_i)\n",
    "    count = 0\n",
    "    for i in range(matrix.shape[0]):\n",
    "        for j in range(matrix.shape[1]):\n",
    "            count += 1\n",
    "            TN += pow(matrix[i][j], 2)\n",
    "    TN = (count * count - n_i - m_j + TN) / 2\n",
    "    print(TN)\n",
    "    return TN\n"
   ]
  },
  {
   "cell_type": "code",
   "execution_count": 43,
   "id": "d1b0f0e2",
   "metadata": {},
   "outputs": [
    {
     "name": "stdout",
     "output_type": "stream",
     "text": [
      "-425382167.5\n"
     ]
    }
   ],
   "source": [
    "\n",
    "#K-means\n",
    "TN = TN_f(matrix)\n"
   ]
  },
  {
   "cell_type": "code",
   "execution_count": 44,
   "id": "b698f6bd",
   "metadata": {},
   "outputs": [
    {
     "name": "stdout",
     "output_type": "stream",
     "text": [
      "-453042637.5\n"
     ]
    }
   ],
   "source": [
    "\n",
    "#Agglomerative Clustering\n",
    "TN1 = TN_f(matrix1)\n"
   ]
  },
  {
   "cell_type": "code",
   "execution_count": 45,
   "id": "15d3259a",
   "metadata": {},
   "outputs": [
    {
     "name": "stdout",
     "output_type": "stream",
     "text": [
      "-337383906.5\n"
     ]
    }
   ],
   "source": [
    "\n",
    "#DBSCAN \n",
    "TN2 = TN_f(matrix2)\n"
   ]
  },
  {
   "cell_type": "code",
   "execution_count": 46,
   "id": "08b38044",
   "metadata": {},
   "outputs": [
    {
     "name": "stdout",
     "output_type": "stream",
     "text": [
      "-426283861.5\n"
     ]
    }
   ],
   "source": [
    "\n",
    "#Gaussian Mixture Model \n",
    "TN3 = TN_f(matrix3)\n"
   ]
  },
  {
   "cell_type": "markdown",
   "id": "02415bce",
   "metadata": {},
   "source": [
    "Индекс Жаккара"
   ]
  },
  {
   "cell_type": "code",
   "execution_count": 47,
   "id": "29cb000c",
   "metadata": {},
   "outputs": [],
   "source": [
    "\n",
    "def Ind_J(TP, FP, FN):\n",
    "    J = TP / (TP + FP + FN)\n",
    "    print(J)\n",
    "    "
   ]
  },
  {
   "cell_type": "code",
   "execution_count": 48,
   "id": "eae2c098",
   "metadata": {},
   "outputs": [
    {
     "name": "stdout",
     "output_type": "stream",
     "text": [
      "0.42590238798523605\n"
     ]
    }
   ],
   "source": [
    "\n",
    "#K-means\n",
    "J = Ind_J(TP, FP, FN)\n"
   ]
  },
  {
   "cell_type": "code",
   "execution_count": 49,
   "id": "d547d63a",
   "metadata": {},
   "outputs": [
    {
     "name": "stdout",
     "output_type": "stream",
     "text": [
      "0.4153357000708036\n"
     ]
    }
   ],
   "source": [
    "\n",
    "#Agglomerative Clustering\n",
    "J1 = Ind_J(TP1, FP1, FN1)\n"
   ]
  },
  {
   "cell_type": "code",
   "execution_count": 50,
   "id": "e3e3f04a",
   "metadata": {},
   "outputs": [
    {
     "name": "stdout",
     "output_type": "stream",
     "text": [
      "0.015423191234368836\n"
     ]
    }
   ],
   "source": [
    "\n",
    "#DBSCAN \n",
    "J2 = Ind_J(TP2, FP2, FN2)\n"
   ]
  },
  {
   "cell_type": "code",
   "execution_count": 51,
   "id": "c19b7d84",
   "metadata": {},
   "outputs": [
    {
     "name": "stdout",
     "output_type": "stream",
     "text": [
      "0.4133266420174815\n"
     ]
    }
   ],
   "source": [
    "\n",
    "#Gaussian Mixture Model \n",
    "J3 = Ind_J(TP3, FP3, FN3)\n"
   ]
  },
  {
   "cell_type": "markdown",
   "id": "cfb729df",
   "metadata": {},
   "source": [
    "F-мера"
   ]
  },
  {
   "cell_type": "code",
   "execution_count": 52,
   "id": "be2699a0",
   "metadata": {},
   "outputs": [
    {
     "name": "stdout",
     "output_type": "stream",
     "text": [
      "[0.         0.46156628 0.        ]\n"
     ]
    },
    {
     "data": {
      "text/plain": [
       "0.15385542583600237"
      ]
     },
     "execution_count": 52,
     "metadata": {},
     "output_type": "execute_result"
    }
   ],
   "source": [
    "\n",
    "#K-means\n",
    "from sklearn.metrics import f1_score\n",
    "f = f1_score(cl, model.labels_, average=None)\n",
    "print(f)\n",
    "np.average(f)\n"
   ]
  },
  {
   "cell_type": "code",
   "execution_count": 53,
   "id": "13a45f19",
   "metadata": {},
   "outputs": [
    {
     "name": "stdout",
     "output_type": "stream",
     "text": [
      "[0.       0.542755 0.      ]\n"
     ]
    },
    {
     "data": {
      "text/plain": [
       "0.1809183340060351"
      ]
     },
     "execution_count": 53,
     "metadata": {},
     "output_type": "execute_result"
    }
   ],
   "source": [
    "\n",
    "#Agglomerative Clustering\n",
    "f1 = f1_score(cl, model1.labels_, average=None)\n",
    "print(f1)\n",
    "np.average(f1)\n"
   ]
  },
  {
   "cell_type": "code",
   "execution_count": 54,
   "id": "42829b86",
   "metadata": {},
   "outputs": [
    {
     "name": "stdout",
     "output_type": "stream",
     "text": [
      "[0.         0.         0.02253633 0.02055728 0.         0.\n",
      " 0.         0.         0.         0.         0.         0.\n",
      " 0.         0.         0.         0.         0.         0.\n",
      " 0.         0.         0.         0.         0.         0.\n",
      " 0.         0.         0.         0.         0.         0.\n",
      " 0.         0.         0.         0.         0.         0.\n",
      " 0.         0.         0.         0.         0.         0.\n",
      " 0.         0.         0.         0.         0.         0.\n",
      " 0.         0.         0.         0.         0.         0.\n",
      " 0.         0.         0.         0.         0.         0.\n",
      " 0.         0.         0.         0.         0.         0.\n",
      " 0.         0.         0.         0.         0.         0.\n",
      " 0.         0.         0.         0.         0.         0.\n",
      " 0.         0.         0.         0.         0.         0.\n",
      " 0.         0.         0.         0.         0.         0.\n",
      " 0.         0.         0.         0.         0.         0.\n",
      " 0.         0.         0.         0.         0.         0.\n",
      " 0.         0.         0.         0.         0.         0.\n",
      " 0.         0.         0.         0.         0.         0.\n",
      " 0.         0.         0.         0.         0.         0.\n",
      " 0.         0.         0.         0.         0.         0.\n",
      " 0.         0.         0.         0.         0.         0.\n",
      " 0.         0.         0.         0.         0.         0.\n",
      " 0.         0.         0.         0.         0.         0.\n",
      " 0.         0.         0.         0.         0.         0.\n",
      " 0.         0.         0.         0.         0.         0.\n",
      " 0.         0.         0.         0.         0.         0.\n",
      " 0.         0.         0.         0.         0.         0.\n",
      " 0.         0.         0.         0.         0.         0.\n",
      " 0.         0.         0.         0.         0.         0.\n",
      " 0.         0.         0.         0.         0.         0.\n",
      " 0.         0.         0.         0.         0.         0.\n",
      " 0.         0.         0.         0.         0.         0.\n",
      " 0.         0.         0.         0.         0.         0.\n",
      " 0.         0.         0.         0.         0.         0.\n",
      " 0.         0.         0.         0.         0.         0.\n",
      " 0.         0.         0.         0.         0.         0.\n",
      " 0.         0.         0.         0.         0.         0.\n",
      " 0.         0.         0.         0.         0.         0.\n",
      " 0.         0.         0.         0.         0.         0.\n",
      " 0.         0.         0.         0.         0.         0.\n",
      " 0.         0.         0.         0.         0.         0.\n",
      " 0.         0.         0.         0.         0.         0.\n",
      " 0.         0.         0.         0.         0.         0.\n",
      " 0.         0.         0.         0.         0.         0.\n",
      " 0.         0.         0.         0.         0.         0.\n",
      " 0.         0.         0.         0.         0.         0.\n",
      " 0.         0.         0.         0.         0.         0.\n",
      " 0.         0.         0.         0.         0.         0.\n",
      " 0.         0.         0.         0.         0.         0.\n",
      " 0.         0.         0.         0.         0.         0.\n",
      " 0.         0.         0.         0.         0.         0.\n",
      " 0.         0.         0.         0.         0.         0.\n",
      " 0.         0.         0.         0.         0.         0.\n",
      " 0.         0.         0.         0.         0.         0.\n",
      " 0.         0.         0.         0.         0.         0.\n",
      " 0.         0.         0.         0.         0.         0.\n",
      " 0.         0.         0.         0.         0.         0.\n",
      " 0.         0.         0.         0.         0.         0.\n",
      " 0.         0.         0.         0.         0.         0.\n",
      " 0.         0.         0.         0.         0.         0.\n",
      " 0.         0.         0.         0.         0.         0.\n",
      " 0.         0.         0.         0.         0.         0.\n",
      " 0.         0.         0.         0.         0.         0.\n",
      " 0.         0.         0.         0.         0.         0.\n",
      " 0.         0.         0.         0.         0.         0.\n",
      " 0.         0.         0.         0.         0.         0.\n",
      " 0.         0.         0.         0.         0.         0.\n",
      " 0.         0.         0.         0.         0.         0.\n",
      " 0.         0.         0.         0.         0.         0.\n",
      " 0.         0.         0.         0.         0.         0.\n",
      " 0.         0.         0.         0.         0.         0.\n",
      " 0.         0.         0.         0.         0.         0.\n",
      " 0.         0.         0.         0.         0.         0.\n",
      " 0.         0.         0.         0.         0.         0.\n",
      " 0.         0.         0.         0.         0.         0.\n",
      " 0.         0.         0.         0.         0.         0.\n",
      " 0.         0.         0.         0.         0.         0.\n",
      " 0.         0.         0.         0.         0.         0.\n",
      " 0.         0.         0.         0.         0.         0.\n",
      " 0.         0.         0.         0.         0.         0.\n",
      " 0.         0.         0.         0.         0.         0.\n",
      " 0.         0.         0.         0.         0.         0.\n",
      " 0.         0.         0.         0.         0.         0.\n",
      " 0.         0.         0.         0.         0.         0.\n",
      " 0.         0.         0.         0.         0.         0.\n",
      " 0.         0.         0.         0.         0.         0.\n",
      " 0.         0.         0.         0.         0.         0.\n",
      " 0.         0.         0.         0.         0.         0.\n",
      " 0.         0.         0.         0.         0.         0.\n",
      " 0.         0.         0.         0.         0.         0.\n",
      " 0.         0.         0.         0.         0.         0.\n",
      " 0.         0.         0.         0.         0.         0.\n",
      " 0.         0.         0.         0.         0.         0.\n",
      " 0.         0.         0.         0.         0.         0.\n",
      " 0.         0.         0.         0.         0.         0.\n",
      " 0.         0.         0.         0.         0.         0.\n",
      " 0.         0.         0.         0.         0.         0.\n",
      " 0.         0.         0.         0.         0.         0.\n",
      " 0.         0.         0.         0.         0.         0.\n",
      " 0.         0.         0.         0.         0.         0.\n",
      " 0.         0.         0.         0.         0.         0.\n",
      " 0.         0.         0.         0.         0.         0.\n",
      " 0.         0.         0.         0.         0.         0.\n",
      " 0.         0.         0.         0.         0.         0.\n",
      " 0.         0.         0.         0.         0.         0.\n",
      " 0.         0.         0.         0.         0.         0.\n",
      " 0.         0.         0.         0.         0.         0.\n",
      " 0.         0.         0.         0.         0.         0.\n",
      " 0.         0.         0.         0.         0.         0.\n",
      " 0.         0.         0.         0.         0.         0.\n",
      " 0.         0.         0.         0.         0.         0.\n",
      " 0.         0.         0.         0.         0.         0.\n",
      " 0.         0.         0.         0.         0.         0.\n",
      " 0.         0.         0.         0.         0.         0.\n",
      " 0.         0.         0.         0.         0.         0.\n",
      " 0.         0.         0.         0.         0.         0.\n",
      " 0.         0.         0.         0.         0.         0.\n",
      " 0.         0.         0.         0.         0.         0.\n",
      " 0.         0.         0.         0.         0.         0.\n",
      " 0.         0.         0.         0.         0.         0.\n",
      " 0.         0.         0.         0.         0.         0.\n",
      " 0.         0.         0.         0.         0.         0.\n",
      " 0.         0.         0.         0.         0.         0.\n",
      " 0.         0.         0.         0.         0.         0.\n",
      " 0.         0.         0.         0.         0.         0.\n",
      " 0.         0.         0.         0.         0.         0.\n",
      " 0.         0.         0.         0.         0.         0.\n",
      " 0.         0.         0.         0.         0.         0.\n",
      " 0.         0.         0.         0.         0.         0.\n",
      " 0.         0.         0.         0.         0.         0.\n",
      " 0.         0.         0.         0.         0.         0.\n",
      " 0.         0.         0.         0.         0.         0.\n",
      " 0.         0.         0.         0.         0.         0.\n",
      " 0.         0.         0.         0.         0.         0.\n",
      " 0.         0.         0.         0.         0.         0.\n",
      " 0.         0.         0.         0.         0.         0.\n",
      " 0.         0.         0.         0.         0.         0.\n",
      " 0.         0.         0.         0.         0.         0.\n",
      " 0.        ]\n",
      "\n",
      "0.000052\n"
     ]
    }
   ],
   "source": [
    "\n",
    "#DBSCAN \n",
    "f2 = f1_score(cl, model2.labels_, average=None)\n",
    "print(f2)\n",
    "print()\n",
    "print(\"{:f}\".format(np.average(f2)))\n"
   ]
  },
  {
   "cell_type": "code",
   "execution_count": 55,
   "id": "73ae6f2b",
   "metadata": {},
   "outputs": [
    {
     "name": "stdout",
     "output_type": "stream",
     "text": [
      "[0.         0.70496791 0.        ]\n"
     ]
    },
    {
     "data": {
      "text/plain": [
       "0.23498930354171624"
      ]
     },
     "execution_count": 55,
     "metadata": {},
     "output_type": "execute_result"
    }
   ],
   "source": [
    "\n",
    "#Gaussian Mixture Model \n",
    "f3 = f1_score(cl, yhat3, average=None)\n",
    "print(f3)\n",
    "np.average(f3)\n"
   ]
  },
  {
   "cell_type": "markdown",
   "id": "08c9b1da",
   "metadata": {},
   "source": [
    "7.\tОпределите алгоритм кластеризации, оптимальный с точки зрения меры качества кластеризации, указанной в индивидуальном задании."
   ]
  },
  {
   "cell_type": "markdown",
   "id": "8c7d45f4",
   "metadata": {},
   "source": [
    "Очевидно, что оптимальным по F-мере является Gaussian Mixture Model."
   ]
  },
  {
   "cell_type": "markdown",
   "id": "3deffe8f",
   "metadata": {},
   "source": [
    "8.\tДля оптимального алгоритма кластеризации из предыдущего пункта визуализируйте области принятия решения и набор данных в виде точек на плоскости с координатами, соответствующими двум признакам, отображая точки различных кластеров разными цветами. Подпишите оси и рисунок, создайте легенду набора данных. "
   ]
  },
  {
   "cell_type": "code",
   "execution_count": 56,
   "id": "29190c54",
   "metadata": {},
   "outputs": [
    {
     "data": {
      "text/plain": [
       "<matplotlib.legend.Legend at 0x23d05240d00>"
      ]
     },
     "execution_count": 56,
     "metadata": {},
     "output_type": "execute_result"
    },
    {
     "data": {
      "image/png": "[encoded data removed]",
      "text/plain": [
       "<Figure size 1152x864 with 1 Axes>"
      ]
     },
     "metadata": {},
     "output_type": "display_data"
    }
   ],
   "source": [
    "\n",
    "# в Gaussian Mixture Model нет ф-ции cluster_centers_\n",
    "h = 0.02  \n",
    "\n",
    "\n",
    "x_min, x_max = pr[:, 0].min(), pr[:, 0].max()\n",
    "y_min, y_max = pr[:, 1].min(), pr[:, 1].max()\n",
    "xx, yy = np.meshgrid(np.arange(x_min, x_max, h), np.arange(y_min, y_max, h))\n",
    "\n",
    "\n",
    "Z = model3.predict(np.c_[xx.ravel(), yy.ravel()])\n",
    "Z = Z.reshape(xx.shape)\n",
    "plt.figure(figsize=(16,12))\n",
    "plt.imshow(\n",
    "    Z,\n",
    "    interpolation=\"nearest\",\n",
    "    extent=(xx.min(), xx.max(), yy.min(), yy.max()),\n",
    "    cmap=plt.cm.Paired,\n",
    "    aspect=\"auto\",\n",
    "    origin=\"lower\",\n",
    ")\n",
    "\n",
    "clusters = np.unique(yhat3)\n",
    "for cluster in clusters: \n",
    "    row_ix = np.where(yhat3 == cluster)\n",
    "    plt.scatter(pr[row_ix, 0], pr[row_ix, 1],s=20)\n",
    "\n",
    "plt.title(\"Визуализация областей принятия решений при кластеризации методом Gaussian Mixture Model\")\n",
    "plt.xlim(x_min, x_max)\n",
    "plt.ylim(y_min, y_max)\n",
    "plt.xticks(())\n",
    "plt.yticks(())\n",
    "plt.xlabel('age')\n",
    "plt.ylabel('hours-per-week')\n",
    "plt.legend(labels=('>50K','<=50K'))\n",
    "\n"
   ]
  }
 ],
 "metadata": {
  "kernelspec": {
   "display_name": "Python 3 (ipykernel)",
   "language": "python",
   "name": "python3"
  },
  "language_info": {
   "codemirror_mode": {
    "name": "ipython",
    "version": 3
   },
   "file_extension": ".py",
   "mimetype": "text/x-python",
   "name": "python",
   "nbconvert_exporter": "python",
   "pygments_lexer": "ipython3",
   "version": "3.9.13"
  }
 },
 "nbformat": 4,
 "nbformat_minor": 5
}
