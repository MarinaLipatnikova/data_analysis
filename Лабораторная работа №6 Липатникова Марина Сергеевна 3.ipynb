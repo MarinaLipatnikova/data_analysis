{
 "cells": [
  {
   "cell_type": "markdown",
   "id": "6b4d8aa2",
   "metadata": {},
   "source": [
    "### РОССИЙСКИЙ УНИВЕРСИТЕТ ДРУЖБЫ НАРОДОВ\n",
    "\n",
    "#### Факультет физико-математических и естественных наук  \n",
    "#### Кафедра информационных технологий "
   ]
  },
  {
   "cell_type": "markdown",
   "id": "969cd384",
   "metadata": {},
   "source": [
    "\n",
    "## ОТЧЕТ ПО ЛАБОРАТОРНОЙ РАБОТЕ № 6\n",
    "\n",
    "\n",
    "### Дисциплина: Интеллектуальный анализ данных\n"
   ]
  },
  {
   "cell_type": "markdown",
   "id": "b0cac249",
   "metadata": {},
   "source": [
    "\n",
    "##### Студент:  Липатникова Марина\n",
    "##### Группа:   НФИбд-02-19\n"
   ]
  },
  {
   "cell_type": "markdown",
   "id": "b6a3acdd",
   "metadata": {},
   "source": [
    "\n",
    "## Москва 2022\n",
    "***"
   ]
  },
  {
   "cell_type": "markdown",
   "id": "590d38fc",
   "metadata": {},
   "source": [
    "\n",
    "#### Задание на лабораторную работу №6\n"
   ]
  },
  {
   "cell_type": "markdown",
   "id": "2e71f944",
   "metadata": {},
   "source": [
    "Для закрепленного за Вами варианта лабораторной работы:\n",
    "\n",
    "    1.\tСчитайте заданный набор данных из репозитария UCI, включая указанный в индивидуальном задании столбец с метками классов. \n",
    "\n",
    "    2.\tЕсли среди меток класса имеются пропущенные значения, то удалите записи с пропущенными метками класса. Преобразуйте категориальные признаки в числовые при помощи кодирования меток (label encoding). Если в признаках имеются пропущенные значения, то замените пропущенные значения, используя метод, указанный в индивидуальном задании.\n",
    "\n",
    "    3.\tИспользуя метод снижения размерности данных, указанный в индивидуальном задании, определите и оставьте в наборе данных пять признаков.\n",
    "\n",
    "    4.\tНормализуйте оставшиеся признаки набора данных методом, указанным в индивидуальном задании.\n",
    "\n",
    "    5.\tВизуализируйте набор данных в виде точек в трехмерном пространстве, отображая точки разных классов разными цветами. При визуализации набора данных используйте три признака с наиболее высокой оценкой важности. В качестве подписей осей используйте названия признаков. В подписи рисунка укажите название набора данных. Создайте легенду набора данных.\n",
    "\n",
    "    6.\tРазбейте набор данных на обучающую и тестовую выборки. Создайте и обучите классификатор на основе деревьев решений с глубиной дерева не более 5, определите долю верных ответов на тестовой выборке и визуализируйте границу принятия решений и построенное дерево решений. При визуализации границы принятия решений используйте два признака с наиболее высокой оценкой важности.\n",
    "\n",
    "    7. \tПостройте и обучите дополнительные базовые классификаторы, указанные в индивидуальном задании, затем постройте из классификатора дерева решений и дополнительных классификаторов комбинированный классификатор, указанный в индивидуальном задании. Оцените производительность базовых классификаторов и комбинированного классификатора по показателю, указанному в индивидуальном задании. \n",
    "\n",
    "    8. \tПостройте и обучите пару ансамблевых классификаторов, указанных в индивидуальном задании, и сравните их производительность по показателю, указанному в индивидуальном задании. \n",
    "\n",
    "    9. \tПостройте границы принятия решений ансамблевых классификаторов с визуализацией точек набора данных разных классов разными цветами. Подпишите оси и рисунок. \n",
    "\n",
    "\n"
   ]
  },
  {
   "cell_type": "markdown",
   "id": "6cf48492",
   "metadata": {},
   "source": [
    "# Индивидуальное задание\n"
   ]
  },
  {
   "cell_type": "markdown",
   "id": "20939491",
   "metadata": {},
   "source": [
    "\n",
    "Лабораторная работа 6 – Вариант 11 \n",
    "\n",
    "Glass Identification Data Set \n",
    "\n",
    "Название файла: glass.data \n",
    "\n",
    "Ссылка: http://archive.ics.uci.edu/ml/datasets/Glass+Identification \n",
    "\n",
    "Класс: Type of glass (столбец No 11) \n",
    "\n",
    "Метод обработки пропущенных значений – медиана класса \n",
    "\n",
    "Метод нормализации признаков – стандартизация \n",
    "\n",
    "Алгоритм снижения размерности данных – рекурсивное исключение признаков (RFE) \n",
    "\n",
    "Дополнительные базовые классификаторы: \n",
    "\n",
    "⁃            наивный байесовский классификатор \n",
    "\n",
    "⁃            классификатор ближайших соседей (к-во соседей = 5) \n",
    "\n",
    "Комбинированный классификатор: VotingClassifier \n",
    "\n",
    "Ансамблевые классификаторы: RandomForestClassifier,  GradientBoostingClassifier \n",
    "\n",
    "Показатель качества модели – F-мера (f1) \n",
    " "
   ]
  },
  {
   "cell_type": "markdown",
   "id": "ee969668",
   "metadata": {},
   "source": [
    " 1.\tСчитайте заданный набор данных из репозитария UCI, включая указанный в индивидуальном задании столбец с метками классов."
   ]
  },
  {
   "cell_type": "code",
   "execution_count": 1,
   "id": "1d1cbce1",
   "metadata": {},
   "outputs": [],
   "source": [
    "\n",
    "url = \\\n",
    "    \"https://archive.ics.uci.edu/ml/\"+\\\n",
    "    \"machine-learning-databases/glass/glass.data\"\n"
   ]
  },
  {
   "cell_type": "code",
   "execution_count": 2,
   "id": "b6ddb6b4",
   "metadata": {},
   "outputs": [
    {
     "data": {
      "text/html": [
       "<div>\n",
       "<style scoped>\n",
       "    .dataframe tbody tr th:only-of-type {\n",
       "        vertical-align: middle;\n",
       "    }\n",
       "\n",
       "    .dataframe tbody tr th {\n",
       "        vertical-align: top;\n",
       "    }\n",
       "\n",
       "    .dataframe thead th {\n",
       "        text-align: right;\n",
       "    }\n",
       "</style>\n",
       "<table border=\"1\" class=\"dataframe\">\n",
       "  <thead>\n",
       "    <tr style=\"text-align: right;\">\n",
       "      <th></th>\n",
       "      <th>0</th>\n",
       "      <th>1</th>\n",
       "      <th>2</th>\n",
       "      <th>3</th>\n",
       "      <th>4</th>\n",
       "      <th>5</th>\n",
       "      <th>6</th>\n",
       "      <th>7</th>\n",
       "      <th>8</th>\n",
       "      <th>9</th>\n",
       "      <th>10</th>\n",
       "    </tr>\n",
       "  </thead>\n",
       "  <tbody>\n",
       "    <tr>\n",
       "      <th>0</th>\n",
       "      <td>1</td>\n",
       "      <td>1.52101</td>\n",
       "      <td>13.64</td>\n",
       "      <td>4.49</td>\n",
       "      <td>1.10</td>\n",
       "      <td>71.78</td>\n",
       "      <td>0.06</td>\n",
       "      <td>8.75</td>\n",
       "      <td>0.00</td>\n",
       "      <td>0.0</td>\n",
       "      <td>1</td>\n",
       "    </tr>\n",
       "    <tr>\n",
       "      <th>1</th>\n",
       "      <td>2</td>\n",
       "      <td>1.51761</td>\n",
       "      <td>13.89</td>\n",
       "      <td>3.60</td>\n",
       "      <td>1.36</td>\n",
       "      <td>72.73</td>\n",
       "      <td>0.48</td>\n",
       "      <td>7.83</td>\n",
       "      <td>0.00</td>\n",
       "      <td>0.0</td>\n",
       "      <td>1</td>\n",
       "    </tr>\n",
       "    <tr>\n",
       "      <th>2</th>\n",
       "      <td>3</td>\n",
       "      <td>1.51618</td>\n",
       "      <td>13.53</td>\n",
       "      <td>3.55</td>\n",
       "      <td>1.54</td>\n",
       "      <td>72.99</td>\n",
       "      <td>0.39</td>\n",
       "      <td>7.78</td>\n",
       "      <td>0.00</td>\n",
       "      <td>0.0</td>\n",
       "      <td>1</td>\n",
       "    </tr>\n",
       "    <tr>\n",
       "      <th>3</th>\n",
       "      <td>4</td>\n",
       "      <td>1.51766</td>\n",
       "      <td>13.21</td>\n",
       "      <td>3.69</td>\n",
       "      <td>1.29</td>\n",
       "      <td>72.61</td>\n",
       "      <td>0.57</td>\n",
       "      <td>8.22</td>\n",
       "      <td>0.00</td>\n",
       "      <td>0.0</td>\n",
       "      <td>1</td>\n",
       "    </tr>\n",
       "    <tr>\n",
       "      <th>4</th>\n",
       "      <td>5</td>\n",
       "      <td>1.51742</td>\n",
       "      <td>13.27</td>\n",
       "      <td>3.62</td>\n",
       "      <td>1.24</td>\n",
       "      <td>73.08</td>\n",
       "      <td>0.55</td>\n",
       "      <td>8.07</td>\n",
       "      <td>0.00</td>\n",
       "      <td>0.0</td>\n",
       "      <td>1</td>\n",
       "    </tr>\n",
       "    <tr>\n",
       "      <th>...</th>\n",
       "      <td>...</td>\n",
       "      <td>...</td>\n",
       "      <td>...</td>\n",
       "      <td>...</td>\n",
       "      <td>...</td>\n",
       "      <td>...</td>\n",
       "      <td>...</td>\n",
       "      <td>...</td>\n",
       "      <td>...</td>\n",
       "      <td>...</td>\n",
       "      <td>...</td>\n",
       "    </tr>\n",
       "    <tr>\n",
       "      <th>209</th>\n",
       "      <td>210</td>\n",
       "      <td>1.51623</td>\n",
       "      <td>14.14</td>\n",
       "      <td>0.00</td>\n",
       "      <td>2.88</td>\n",
       "      <td>72.61</td>\n",
       "      <td>0.08</td>\n",
       "      <td>9.18</td>\n",
       "      <td>1.06</td>\n",
       "      <td>0.0</td>\n",
       "      <td>7</td>\n",
       "    </tr>\n",
       "    <tr>\n",
       "      <th>210</th>\n",
       "      <td>211</td>\n",
       "      <td>1.51685</td>\n",
       "      <td>14.92</td>\n",
       "      <td>0.00</td>\n",
       "      <td>1.99</td>\n",
       "      <td>73.06</td>\n",
       "      <td>0.00</td>\n",
       "      <td>8.40</td>\n",
       "      <td>1.59</td>\n",
       "      <td>0.0</td>\n",
       "      <td>7</td>\n",
       "    </tr>\n",
       "    <tr>\n",
       "      <th>211</th>\n",
       "      <td>212</td>\n",
       "      <td>1.52065</td>\n",
       "      <td>14.36</td>\n",
       "      <td>0.00</td>\n",
       "      <td>2.02</td>\n",
       "      <td>73.42</td>\n",
       "      <td>0.00</td>\n",
       "      <td>8.44</td>\n",
       "      <td>1.64</td>\n",
       "      <td>0.0</td>\n",
       "      <td>7</td>\n",
       "    </tr>\n",
       "    <tr>\n",
       "      <th>212</th>\n",
       "      <td>213</td>\n",
       "      <td>1.51651</td>\n",
       "      <td>14.38</td>\n",
       "      <td>0.00</td>\n",
       "      <td>1.94</td>\n",
       "      <td>73.61</td>\n",
       "      <td>0.00</td>\n",
       "      <td>8.48</td>\n",
       "      <td>1.57</td>\n",
       "      <td>0.0</td>\n",
       "      <td>7</td>\n",
       "    </tr>\n",
       "    <tr>\n",
       "      <th>213</th>\n",
       "      <td>214</td>\n",
       "      <td>1.51711</td>\n",
       "      <td>14.23</td>\n",
       "      <td>0.00</td>\n",
       "      <td>2.08</td>\n",
       "      <td>73.36</td>\n",
       "      <td>0.00</td>\n",
       "      <td>8.62</td>\n",
       "      <td>1.67</td>\n",
       "      <td>0.0</td>\n",
       "      <td>7</td>\n",
       "    </tr>\n",
       "  </tbody>\n",
       "</table>\n",
       "<p>214 rows × 11 columns</p>\n",
       "</div>"
      ],
      "text/plain": [
       "      0        1      2     3     4      5     6     7     8    9   10\n",
       "0      1  1.52101  13.64  4.49  1.10  71.78  0.06  8.75  0.00  0.0   1\n",
       "1      2  1.51761  13.89  3.60  1.36  72.73  0.48  7.83  0.00  0.0   1\n",
       "2      3  1.51618  13.53  3.55  1.54  72.99  0.39  7.78  0.00  0.0   1\n",
       "3      4  1.51766  13.21  3.69  1.29  72.61  0.57  8.22  0.00  0.0   1\n",
       "4      5  1.51742  13.27  3.62  1.24  73.08  0.55  8.07  0.00  0.0   1\n",
       "..   ...      ...    ...   ...   ...    ...   ...   ...   ...  ...  ..\n",
       "209  210  1.51623  14.14  0.00  2.88  72.61  0.08  9.18  1.06  0.0   7\n",
       "210  211  1.51685  14.92  0.00  1.99  73.06  0.00  8.40  1.59  0.0   7\n",
       "211  212  1.52065  14.36  0.00  2.02  73.42  0.00  8.44  1.64  0.0   7\n",
       "212  213  1.51651  14.38  0.00  1.94  73.61  0.00  8.48  1.57  0.0   7\n",
       "213  214  1.51711  14.23  0.00  2.08  73.36  0.00  8.62  1.67  0.0   7\n",
       "\n",
       "[214 rows x 11 columns]"
      ]
     },
     "execution_count": 2,
     "metadata": {},
     "output_type": "execute_result"
    }
   ],
   "source": [
    "\n",
    "import pandas as pd\n",
    "\n",
    "data = pd.read_csv(url, header=None)\n",
    "\n",
    "data\n"
   ]
  },
  {
   "cell_type": "code",
   "execution_count": 3,
   "id": "ab166e81",
   "metadata": {},
   "outputs": [
    {
     "data": {
      "text/html": [
       "<div>\n",
       "<style scoped>\n",
       "    .dataframe tbody tr th:only-of-type {\n",
       "        vertical-align: middle;\n",
       "    }\n",
       "\n",
       "    .dataframe tbody tr th {\n",
       "        vertical-align: top;\n",
       "    }\n",
       "\n",
       "    .dataframe thead th {\n",
       "        text-align: right;\n",
       "    }\n",
       "</style>\n",
       "<table border=\"1\" class=\"dataframe\">\n",
       "  <thead>\n",
       "    <tr style=\"text-align: right;\">\n",
       "      <th></th>\n",
       "      <th>Id_number</th>\n",
       "      <th>RI</th>\n",
       "      <th>Na</th>\n",
       "      <th>Mg</th>\n",
       "      <th>Al</th>\n",
       "      <th>Si</th>\n",
       "      <th>K</th>\n",
       "      <th>Ca</th>\n",
       "      <th>Ba</th>\n",
       "      <th>Fe</th>\n",
       "      <th>Type_of_glass</th>\n",
       "    </tr>\n",
       "  </thead>\n",
       "  <tbody>\n",
       "    <tr>\n",
       "      <th>0</th>\n",
       "      <td>1</td>\n",
       "      <td>1.52101</td>\n",
       "      <td>13.64</td>\n",
       "      <td>4.49</td>\n",
       "      <td>1.10</td>\n",
       "      <td>71.78</td>\n",
       "      <td>0.06</td>\n",
       "      <td>8.75</td>\n",
       "      <td>0.00</td>\n",
       "      <td>0.0</td>\n",
       "      <td>1</td>\n",
       "    </tr>\n",
       "    <tr>\n",
       "      <th>1</th>\n",
       "      <td>2</td>\n",
       "      <td>1.51761</td>\n",
       "      <td>13.89</td>\n",
       "      <td>3.60</td>\n",
       "      <td>1.36</td>\n",
       "      <td>72.73</td>\n",
       "      <td>0.48</td>\n",
       "      <td>7.83</td>\n",
       "      <td>0.00</td>\n",
       "      <td>0.0</td>\n",
       "      <td>1</td>\n",
       "    </tr>\n",
       "    <tr>\n",
       "      <th>2</th>\n",
       "      <td>3</td>\n",
       "      <td>1.51618</td>\n",
       "      <td>13.53</td>\n",
       "      <td>3.55</td>\n",
       "      <td>1.54</td>\n",
       "      <td>72.99</td>\n",
       "      <td>0.39</td>\n",
       "      <td>7.78</td>\n",
       "      <td>0.00</td>\n",
       "      <td>0.0</td>\n",
       "      <td>1</td>\n",
       "    </tr>\n",
       "    <tr>\n",
       "      <th>3</th>\n",
       "      <td>4</td>\n",
       "      <td>1.51766</td>\n",
       "      <td>13.21</td>\n",
       "      <td>3.69</td>\n",
       "      <td>1.29</td>\n",
       "      <td>72.61</td>\n",
       "      <td>0.57</td>\n",
       "      <td>8.22</td>\n",
       "      <td>0.00</td>\n",
       "      <td>0.0</td>\n",
       "      <td>1</td>\n",
       "    </tr>\n",
       "    <tr>\n",
       "      <th>4</th>\n",
       "      <td>5</td>\n",
       "      <td>1.51742</td>\n",
       "      <td>13.27</td>\n",
       "      <td>3.62</td>\n",
       "      <td>1.24</td>\n",
       "      <td>73.08</td>\n",
       "      <td>0.55</td>\n",
       "      <td>8.07</td>\n",
       "      <td>0.00</td>\n",
       "      <td>0.0</td>\n",
       "      <td>1</td>\n",
       "    </tr>\n",
       "    <tr>\n",
       "      <th>...</th>\n",
       "      <td>...</td>\n",
       "      <td>...</td>\n",
       "      <td>...</td>\n",
       "      <td>...</td>\n",
       "      <td>...</td>\n",
       "      <td>...</td>\n",
       "      <td>...</td>\n",
       "      <td>...</td>\n",
       "      <td>...</td>\n",
       "      <td>...</td>\n",
       "      <td>...</td>\n",
       "    </tr>\n",
       "    <tr>\n",
       "      <th>209</th>\n",
       "      <td>210</td>\n",
       "      <td>1.51623</td>\n",
       "      <td>14.14</td>\n",
       "      <td>0.00</td>\n",
       "      <td>2.88</td>\n",
       "      <td>72.61</td>\n",
       "      <td>0.08</td>\n",
       "      <td>9.18</td>\n",
       "      <td>1.06</td>\n",
       "      <td>0.0</td>\n",
       "      <td>7</td>\n",
       "    </tr>\n",
       "    <tr>\n",
       "      <th>210</th>\n",
       "      <td>211</td>\n",
       "      <td>1.51685</td>\n",
       "      <td>14.92</td>\n",
       "      <td>0.00</td>\n",
       "      <td>1.99</td>\n",
       "      <td>73.06</td>\n",
       "      <td>0.00</td>\n",
       "      <td>8.40</td>\n",
       "      <td>1.59</td>\n",
       "      <td>0.0</td>\n",
       "      <td>7</td>\n",
       "    </tr>\n",
       "    <tr>\n",
       "      <th>211</th>\n",
       "      <td>212</td>\n",
       "      <td>1.52065</td>\n",
       "      <td>14.36</td>\n",
       "      <td>0.00</td>\n",
       "      <td>2.02</td>\n",
       "      <td>73.42</td>\n",
       "      <td>0.00</td>\n",
       "      <td>8.44</td>\n",
       "      <td>1.64</td>\n",
       "      <td>0.0</td>\n",
       "      <td>7</td>\n",
       "    </tr>\n",
       "    <tr>\n",
       "      <th>212</th>\n",
       "      <td>213</td>\n",
       "      <td>1.51651</td>\n",
       "      <td>14.38</td>\n",
       "      <td>0.00</td>\n",
       "      <td>1.94</td>\n",
       "      <td>73.61</td>\n",
       "      <td>0.00</td>\n",
       "      <td>8.48</td>\n",
       "      <td>1.57</td>\n",
       "      <td>0.0</td>\n",
       "      <td>7</td>\n",
       "    </tr>\n",
       "    <tr>\n",
       "      <th>213</th>\n",
       "      <td>214</td>\n",
       "      <td>1.51711</td>\n",
       "      <td>14.23</td>\n",
       "      <td>0.00</td>\n",
       "      <td>2.08</td>\n",
       "      <td>73.36</td>\n",
       "      <td>0.00</td>\n",
       "      <td>8.62</td>\n",
       "      <td>1.67</td>\n",
       "      <td>0.0</td>\n",
       "      <td>7</td>\n",
       "    </tr>\n",
       "  </tbody>\n",
       "</table>\n",
       "<p>214 rows × 11 columns</p>\n",
       "</div>"
      ],
      "text/plain": [
       "     Id_number       RI     Na    Mg    Al     Si     K    Ca    Ba   Fe  \\\n",
       "0            1  1.52101  13.64  4.49  1.10  71.78  0.06  8.75  0.00  0.0   \n",
       "1            2  1.51761  13.89  3.60  1.36  72.73  0.48  7.83  0.00  0.0   \n",
       "2            3  1.51618  13.53  3.55  1.54  72.99  0.39  7.78  0.00  0.0   \n",
       "3            4  1.51766  13.21  3.69  1.29  72.61  0.57  8.22  0.00  0.0   \n",
       "4            5  1.51742  13.27  3.62  1.24  73.08  0.55  8.07  0.00  0.0   \n",
       "..         ...      ...    ...   ...   ...    ...   ...   ...   ...  ...   \n",
       "209        210  1.51623  14.14  0.00  2.88  72.61  0.08  9.18  1.06  0.0   \n",
       "210        211  1.51685  14.92  0.00  1.99  73.06  0.00  8.40  1.59  0.0   \n",
       "211        212  1.52065  14.36  0.00  2.02  73.42  0.00  8.44  1.64  0.0   \n",
       "212        213  1.51651  14.38  0.00  1.94  73.61  0.00  8.48  1.57  0.0   \n",
       "213        214  1.51711  14.23  0.00  2.08  73.36  0.00  8.62  1.67  0.0   \n",
       "\n",
       "     Type_of_glass  \n",
       "0                1  \n",
       "1                1  \n",
       "2                1  \n",
       "3                1  \n",
       "4                1  \n",
       "..             ...  \n",
       "209              7  \n",
       "210              7  \n",
       "211              7  \n",
       "212              7  \n",
       "213              7  \n",
       "\n",
       "[214 rows x 11 columns]"
      ]
     },
     "execution_count": 3,
     "metadata": {},
     "output_type": "execute_result"
    }
   ],
   "source": [
    "\n",
    "data.columns = ['Id_number', 'RI', 'Na', 'Mg', 'Al', 'Si', 'K', 'Ca',\n",
    "               'Ba', 'Fe', 'Type_of_glass']\n",
    "data\n"
   ]
  },
  {
   "cell_type": "markdown",
   "id": "33acfec2",
   "metadata": {},
   "source": [
    "2.\tЕсли среди меток класса имеются пропущенные значения, то удалите записи с пропущенными метками класса. Преобразуйте категориальные признаки в числовые при помощи кодирования меток (label encoding). Если в признаках имеются пропущенные значения, то замените пропущенные значения, используя метод, указанный в индивидуальном задании."
   ]
  },
  {
   "cell_type": "markdown",
   "id": "d8f63dbd",
   "metadata": {},
   "source": [
    "Все признаки числовые и нет пропущенных значений."
   ]
  },
  {
   "cell_type": "code",
   "execution_count": 4,
   "id": "c77ec634",
   "metadata": {},
   "outputs": [],
   "source": [
    "\n",
    "import numpy as np\n"
   ]
  },
  {
   "cell_type": "code",
   "execution_count": 5,
   "id": "11161c75",
   "metadata": {},
   "outputs": [],
   "source": [
    "\n",
    "data = data.replace('?', np.NaN)\n"
   ]
  },
  {
   "cell_type": "code",
   "execution_count": 6,
   "id": "6a3851c0",
   "metadata": {},
   "outputs": [
    {
     "data": {
      "text/plain": [
       "Id_number        0\n",
       "RI               0\n",
       "Na               0\n",
       "Mg               0\n",
       "Al               0\n",
       "Si               0\n",
       "K                0\n",
       "Ca               0\n",
       "Ba               0\n",
       "Fe               0\n",
       "Type_of_glass    0\n",
       "dtype: int64"
      ]
     },
     "execution_count": 6,
     "metadata": {},
     "output_type": "execute_result"
    }
   ],
   "source": [
    "\n",
    "data.isnull().sum(axis=0)\n"
   ]
  },
  {
   "cell_type": "code",
   "execution_count": 7,
   "id": "fd644f1e",
   "metadata": {},
   "outputs": [
    {
     "data": {
      "text/plain": [
       "Id_number          int64\n",
       "RI               float64\n",
       "Na               float64\n",
       "Mg               float64\n",
       "Al               float64\n",
       "Si               float64\n",
       "K                float64\n",
       "Ca               float64\n",
       "Ba               float64\n",
       "Fe               float64\n",
       "Type_of_glass      int64\n",
       "dtype: object"
      ]
     },
     "execution_count": 7,
     "metadata": {},
     "output_type": "execute_result"
    }
   ],
   "source": [
    "\n",
    "data.dtypes\n"
   ]
  },
  {
   "cell_type": "markdown",
   "id": "a8880ff0",
   "metadata": {},
   "source": [
    "3.\tИспользуя метод снижения размерности данных, указанный в индивидуальном задании, определите и оставьте в наборе данных пять признаков."
   ]
  },
  {
   "cell_type": "markdown",
   "id": "37bd048f",
   "metadata": {},
   "source": [
    "Алгоритм снижения размерности данных – рекурсивное исключение признаков (RFE) "
   ]
  },
  {
   "cell_type": "markdown",
   "id": "31b5a205",
   "metadata": {},
   "source": [
    "Так как столбец Id не предоставляет полезной информации, то удаляем его."
   ]
  },
  {
   "cell_type": "code",
   "execution_count": 8,
   "id": "1ecd84f4",
   "metadata": {},
   "outputs": [],
   "source": [
    "\n",
    "data3 = data.copy()\n",
    "y = data3['Type_of_glass']\n",
    "X = data3.drop(['Type_of_glass', 'Id_number'], axis = 1)\n"
   ]
  },
  {
   "cell_type": "code",
   "execution_count": 9,
   "id": "367e3d42",
   "metadata": {},
   "outputs": [],
   "source": [
    "\n",
    "from sklearn.linear_model import LogisticRegression\n",
    "from sklearn.feature_selection import RFE\n",
    "model = LogisticRegression(max_iter=8000)\n",
    "rfe = RFE(model)\n",
    "fit = rfe.fit(X, y)\n"
   ]
  },
  {
   "cell_type": "code",
   "execution_count": 10,
   "id": "fe2bda62",
   "metadata": {},
   "outputs": [
    {
     "name": "stdout",
     "output_type": "stream",
     "text": [
      "Число признаков: 4\n",
      "Выбранные признаки: [False  True  True  True False  True False False False]\n",
      "Ранг признаков: [6 1 1 1 5 1 3 2 4]\n"
     ]
    }
   ],
   "source": [
    "\n",
    "print(\"Число признаков: %d\" % fit.n_features_)\n",
    "print(\"Выбранные признаки: %s\" % fit.support_)\n",
    "print(\"Ранг признаков: %s\" % fit.ranking_)\n"
   ]
  },
  {
   "cell_type": "markdown",
   "id": "b11af4e8",
   "metadata": {},
   "source": [
    "Оцененым как лучшие признакам присвоен ранг 1, но их 4, поэтому берем еще один признак с рангом 2."
   ]
  },
  {
   "cell_type": "markdown",
   "id": "07704d1c",
   "metadata": {},
   "source": [
    "4.\tНормализуйте оставшиеся признаки набора данных методом, указанным в индивидуальном задании."
   ]
  },
  {
   "cell_type": "markdown",
   "id": "f8be0265",
   "metadata": {},
   "source": [
    "Метод нормализации признаков – стандартизация "
   ]
  },
  {
   "cell_type": "code",
   "execution_count": 11,
   "id": "dca6943e",
   "metadata": {},
   "outputs": [
    {
     "data": {
      "text/html": [
       "<div>\n",
       "<style scoped>\n",
       "    .dataframe tbody tr th:only-of-type {\n",
       "        vertical-align: middle;\n",
       "    }\n",
       "\n",
       "    .dataframe tbody tr th {\n",
       "        vertical-align: top;\n",
       "    }\n",
       "\n",
       "    .dataframe thead th {\n",
       "        text-align: right;\n",
       "    }\n",
       "</style>\n",
       "<table border=\"1\" class=\"dataframe\">\n",
       "  <thead>\n",
       "    <tr style=\"text-align: right;\">\n",
       "      <th></th>\n",
       "      <th>Na</th>\n",
       "      <th>Mg</th>\n",
       "      <th>Al</th>\n",
       "      <th>K</th>\n",
       "      <th>Ba</th>\n",
       "    </tr>\n",
       "  </thead>\n",
       "  <tbody>\n",
       "    <tr>\n",
       "      <th>0</th>\n",
       "      <td>13.64</td>\n",
       "      <td>4.49</td>\n",
       "      <td>1.10</td>\n",
       "      <td>0.06</td>\n",
       "      <td>0.00</td>\n",
       "    </tr>\n",
       "    <tr>\n",
       "      <th>1</th>\n",
       "      <td>13.89</td>\n",
       "      <td>3.60</td>\n",
       "      <td>1.36</td>\n",
       "      <td>0.48</td>\n",
       "      <td>0.00</td>\n",
       "    </tr>\n",
       "    <tr>\n",
       "      <th>2</th>\n",
       "      <td>13.53</td>\n",
       "      <td>3.55</td>\n",
       "      <td>1.54</td>\n",
       "      <td>0.39</td>\n",
       "      <td>0.00</td>\n",
       "    </tr>\n",
       "    <tr>\n",
       "      <th>3</th>\n",
       "      <td>13.21</td>\n",
       "      <td>3.69</td>\n",
       "      <td>1.29</td>\n",
       "      <td>0.57</td>\n",
       "      <td>0.00</td>\n",
       "    </tr>\n",
       "    <tr>\n",
       "      <th>4</th>\n",
       "      <td>13.27</td>\n",
       "      <td>3.62</td>\n",
       "      <td>1.24</td>\n",
       "      <td>0.55</td>\n",
       "      <td>0.00</td>\n",
       "    </tr>\n",
       "    <tr>\n",
       "      <th>...</th>\n",
       "      <td>...</td>\n",
       "      <td>...</td>\n",
       "      <td>...</td>\n",
       "      <td>...</td>\n",
       "      <td>...</td>\n",
       "    </tr>\n",
       "    <tr>\n",
       "      <th>209</th>\n",
       "      <td>14.14</td>\n",
       "      <td>0.00</td>\n",
       "      <td>2.88</td>\n",
       "      <td>0.08</td>\n",
       "      <td>1.06</td>\n",
       "    </tr>\n",
       "    <tr>\n",
       "      <th>210</th>\n",
       "      <td>14.92</td>\n",
       "      <td>0.00</td>\n",
       "      <td>1.99</td>\n",
       "      <td>0.00</td>\n",
       "      <td>1.59</td>\n",
       "    </tr>\n",
       "    <tr>\n",
       "      <th>211</th>\n",
       "      <td>14.36</td>\n",
       "      <td>0.00</td>\n",
       "      <td>2.02</td>\n",
       "      <td>0.00</td>\n",
       "      <td>1.64</td>\n",
       "    </tr>\n",
       "    <tr>\n",
       "      <th>212</th>\n",
       "      <td>14.38</td>\n",
       "      <td>0.00</td>\n",
       "      <td>1.94</td>\n",
       "      <td>0.00</td>\n",
       "      <td>1.57</td>\n",
       "    </tr>\n",
       "    <tr>\n",
       "      <th>213</th>\n",
       "      <td>14.23</td>\n",
       "      <td>0.00</td>\n",
       "      <td>2.08</td>\n",
       "      <td>0.00</td>\n",
       "      <td>1.67</td>\n",
       "    </tr>\n",
       "  </tbody>\n",
       "</table>\n",
       "<p>214 rows × 5 columns</p>\n",
       "</div>"
      ],
      "text/plain": [
       "        Na    Mg    Al     K    Ba\n",
       "0    13.64  4.49  1.10  0.06  0.00\n",
       "1    13.89  3.60  1.36  0.48  0.00\n",
       "2    13.53  3.55  1.54  0.39  0.00\n",
       "3    13.21  3.69  1.29  0.57  0.00\n",
       "4    13.27  3.62  1.24  0.55  0.00\n",
       "..     ...   ...   ...   ...   ...\n",
       "209  14.14  0.00  2.88  0.08  1.06\n",
       "210  14.92  0.00  1.99  0.00  1.59\n",
       "211  14.36  0.00  2.02  0.00  1.64\n",
       "212  14.38  0.00  1.94  0.00  1.57\n",
       "213  14.23  0.00  2.08  0.00  1.67\n",
       "\n",
       "[214 rows x 5 columns]"
      ]
     },
     "execution_count": 11,
     "metadata": {},
     "output_type": "execute_result"
    }
   ],
   "source": [
    "\n",
    "data4 = data3.copy()\n",
    "data4 = data4.loc[:,['Na', 'Mg', 'Al', 'K', 'Ba']]\n",
    "data4\n"
   ]
  },
  {
   "cell_type": "code",
   "execution_count": 12,
   "id": "3fc90301",
   "metadata": {},
   "outputs": [
    {
     "name": "stdout",
     "output_type": "stream",
     "text": [
      "[[ 0.28495326  1.25463857 -0.69244192 -0.67170546 -0.35287683]\n",
      " [ 0.59181718  0.63616803 -0.17046023 -0.02621325 -0.35287683]\n",
      " [ 0.14993314  0.60142249  0.19091171 -0.16453301 -0.35287683]\n",
      " [-0.24285268  0.69870999 -0.31099376  0.11210651 -0.35287683]\n",
      " [-0.16920534  0.65006624 -0.41137486  0.08136879 -0.35287683]]\n"
     ]
    }
   ],
   "source": [
    "\n",
    "from sklearn.preprocessing import StandardScaler\n",
    "\n",
    "scaler = StandardScaler().fit(data4)\n",
    "rescaledX = scaler.transform(data4)\n",
    "\n",
    "print(rescaledX[0:5,:])\n"
   ]
  },
  {
   "cell_type": "code",
   "execution_count": 13,
   "id": "4bfe3e21",
   "metadata": {},
   "outputs": [
    {
     "data": {
      "text/html": [
       "<div>\n",
       "<style scoped>\n",
       "    .dataframe tbody tr th:only-of-type {\n",
       "        vertical-align: middle;\n",
       "    }\n",
       "\n",
       "    .dataframe tbody tr th {\n",
       "        vertical-align: top;\n",
       "    }\n",
       "\n",
       "    .dataframe thead th {\n",
       "        text-align: right;\n",
       "    }\n",
       "</style>\n",
       "<table border=\"1\" class=\"dataframe\">\n",
       "  <thead>\n",
       "    <tr style=\"text-align: right;\">\n",
       "      <th></th>\n",
       "      <th>Na</th>\n",
       "      <th>Mg</th>\n",
       "      <th>Al</th>\n",
       "      <th>K</th>\n",
       "      <th>Ba</th>\n",
       "      <th>Type_of_glass</th>\n",
       "    </tr>\n",
       "  </thead>\n",
       "  <tbody>\n",
       "    <tr>\n",
       "      <th>0</th>\n",
       "      <td>0.284953</td>\n",
       "      <td>1.254639</td>\n",
       "      <td>-0.692442</td>\n",
       "      <td>-0.671705</td>\n",
       "      <td>-0.352877</td>\n",
       "      <td>1</td>\n",
       "    </tr>\n",
       "    <tr>\n",
       "      <th>1</th>\n",
       "      <td>0.591817</td>\n",
       "      <td>0.636168</td>\n",
       "      <td>-0.170460</td>\n",
       "      <td>-0.026213</td>\n",
       "      <td>-0.352877</td>\n",
       "      <td>1</td>\n",
       "    </tr>\n",
       "    <tr>\n",
       "      <th>2</th>\n",
       "      <td>0.149933</td>\n",
       "      <td>0.601422</td>\n",
       "      <td>0.190912</td>\n",
       "      <td>-0.164533</td>\n",
       "      <td>-0.352877</td>\n",
       "      <td>1</td>\n",
       "    </tr>\n",
       "    <tr>\n",
       "      <th>3</th>\n",
       "      <td>-0.242853</td>\n",
       "      <td>0.698710</td>\n",
       "      <td>-0.310994</td>\n",
       "      <td>0.112107</td>\n",
       "      <td>-0.352877</td>\n",
       "      <td>1</td>\n",
       "    </tr>\n",
       "    <tr>\n",
       "      <th>4</th>\n",
       "      <td>-0.169205</td>\n",
       "      <td>0.650066</td>\n",
       "      <td>-0.411375</td>\n",
       "      <td>0.081369</td>\n",
       "      <td>-0.352877</td>\n",
       "      <td>1</td>\n",
       "    </tr>\n",
       "    <tr>\n",
       "      <th>...</th>\n",
       "      <td>...</td>\n",
       "      <td>...</td>\n",
       "      <td>...</td>\n",
       "      <td>...</td>\n",
       "      <td>...</td>\n",
       "      <td>...</td>\n",
       "    </tr>\n",
       "    <tr>\n",
       "      <th>209</th>\n",
       "      <td>0.898681</td>\n",
       "      <td>-1.865511</td>\n",
       "      <td>2.881125</td>\n",
       "      <td>-0.640968</td>\n",
       "      <td>1.783978</td>\n",
       "      <td>7</td>\n",
       "    </tr>\n",
       "    <tr>\n",
       "      <th>210</th>\n",
       "      <td>1.856097</td>\n",
       "      <td>-1.865511</td>\n",
       "      <td>1.094342</td>\n",
       "      <td>-0.763919</td>\n",
       "      <td>2.852405</td>\n",
       "      <td>7</td>\n",
       "    </tr>\n",
       "    <tr>\n",
       "      <th>211</th>\n",
       "      <td>1.168721</td>\n",
       "      <td>-1.865511</td>\n",
       "      <td>1.154570</td>\n",
       "      <td>-0.763919</td>\n",
       "      <td>2.953200</td>\n",
       "      <td>7</td>\n",
       "    </tr>\n",
       "    <tr>\n",
       "      <th>212</th>\n",
       "      <td>1.193270</td>\n",
       "      <td>-1.865511</td>\n",
       "      <td>0.993960</td>\n",
       "      <td>-0.763919</td>\n",
       "      <td>2.812087</td>\n",
       "      <td>7</td>\n",
       "    </tr>\n",
       "    <tr>\n",
       "      <th>213</th>\n",
       "      <td>1.009152</td>\n",
       "      <td>-1.865511</td>\n",
       "      <td>1.275028</td>\n",
       "      <td>-0.763919</td>\n",
       "      <td>3.013677</td>\n",
       "      <td>7</td>\n",
       "    </tr>\n",
       "  </tbody>\n",
       "</table>\n",
       "<p>214 rows × 6 columns</p>\n",
       "</div>"
      ],
      "text/plain": [
       "           Na        Mg        Al         K        Ba  Type_of_glass\n",
       "0    0.284953  1.254639 -0.692442 -0.671705 -0.352877              1\n",
       "1    0.591817  0.636168 -0.170460 -0.026213 -0.352877              1\n",
       "2    0.149933  0.601422  0.190912 -0.164533 -0.352877              1\n",
       "3   -0.242853  0.698710 -0.310994  0.112107 -0.352877              1\n",
       "4   -0.169205  0.650066 -0.411375  0.081369 -0.352877              1\n",
       "..        ...       ...       ...       ...       ...            ...\n",
       "209  0.898681 -1.865511  2.881125 -0.640968  1.783978              7\n",
       "210  1.856097 -1.865511  1.094342 -0.763919  2.852405              7\n",
       "211  1.168721 -1.865511  1.154570 -0.763919  2.953200              7\n",
       "212  1.193270 -1.865511  0.993960 -0.763919  2.812087              7\n",
       "213  1.009152 -1.865511  1.275028 -0.763919  3.013677              7\n",
       "\n",
       "[214 rows x 6 columns]"
      ]
     },
     "execution_count": 13,
     "metadata": {},
     "output_type": "execute_result"
    }
   ],
   "source": [
    "\n",
    "data4 = pd.DataFrame(rescaledX)\n",
    "data4.columns = ['Na', 'Mg', 'Al', 'K', 'Ba']\n",
    "data4['Type_of_glass'] = y\n",
    "data4\n"
   ]
  },
  {
   "cell_type": "markdown",
   "id": "23ac788c",
   "metadata": {},
   "source": [
    "5.\tВизуализируйте набор данных в виде точек в трехмерном пространстве, отображая точки разных классов разными цветами. При визуализации набора данных используйте три признака с наиболее высокой оценкой важности. В качестве подписей осей используйте названия признаков. В подписи рисунка укажите название набора данных. Создайте легенду набора данных."
   ]
  },
  {
   "cell_type": "code",
   "execution_count": 14,
   "id": "14baac06",
   "metadata": {},
   "outputs": [
    {
     "data": {
      "image/png": "[encoded data removed]",
      "text/plain": [
       "<Figure size 432x288 with 1 Axes>"
      ]
     },
     "metadata": {
      "needs_background": "light"
     },
     "output_type": "display_data"
    }
   ],
   "source": [
    "\n",
    "\n",
    "from mpl_toolkits import mplot3d\n",
    "%matplotlib inline\n",
    "import numpy as np\n",
    "import matplotlib.pyplot as plt\n",
    "fig = plt.figure()\n",
    "ax = plt.axes(projection='3d')\n",
    "\n"
   ]
  },
  {
   "cell_type": "code",
   "execution_count": 15,
   "id": "84cb5ae6",
   "metadata": {},
   "outputs": [],
   "source": [
    "\n",
    "data5 = data4.copy()\n",
    "data5 = data5.drop(['Type_of_glass'], axis=1)\n"
   ]
  },
  {
   "cell_type": "code",
   "execution_count": 16,
   "id": "7b84d963",
   "metadata": {},
   "outputs": [
    {
     "data": {
      "text/plain": [
       "<matplotlib.legend.Legend at 0x1ceb79da220>"
      ]
     },
     "execution_count": 16,
     "metadata": {},
     "output_type": "execute_result"
    },
    {
     "data": {
      "image/png": "[encoded data removed]",
      "text/plain": [
       "<Figure size 864x720 with 1 Axes>"
      ]
     },
     "metadata": {
      "needs_background": "light"
     },
     "output_type": "display_data"
    }
   ],
   "source": [
    "\n",
    "fig = plt.figure(figsize=(12,10))\n",
    "ax = plt.axes(projection='3d')\n",
    "\n",
    "xs = data5.Na\n",
    "ys = data5.Mg\n",
    "zs = data5.Al\n",
    "scatter = ax.scatter( xs, ys, zs, c = y, s=30 )\n",
    "ax.set_xlabel('Na')\n",
    "ax.set_ylabel('Mg')\n",
    "ax.set_zlabel('Al')\n",
    "ax.view_init( azim=50, elev=15 );\n",
    "ax = plt.title(\"Glass Identification Data Set\")\n",
    "plt.legend(*scatter.legend_elements())\n"
   ]
  },
  {
   "cell_type": "markdown",
   "id": "99fa0ca4",
   "metadata": {},
   "source": [
    "6.\tРазбейте набор данных на обучающую и тестовую выборки. Создайте и обучите классификатор на основе деревьев решений с глубиной дерева не более 5, определите долю верных ответов на тестовой выборке и визуализируйте границу принятия решений и построенное дерево решений. При визуализации границы принятия решений используйте два признака с наиболее высокой оценкой важности."
   ]
  },
  {
   "cell_type": "code",
   "execution_count": 17,
   "id": "73d58442",
   "metadata": {},
   "outputs": [],
   "source": [
    "\n",
    "from sklearn.model_selection import train_test_split\n",
    "\n",
    "X_train, X_test, y_train, y_test = train_test_split(data5, y, test_size=0.3, random_state=666)\n"
   ]
  },
  {
   "cell_type": "code",
   "execution_count": 18,
   "id": "856e8f5d",
   "metadata": {},
   "outputs": [
    {
     "data": {
      "text/plain": [
       "0.6615384615384615"
      ]
     },
     "execution_count": 18,
     "metadata": {},
     "output_type": "execute_result"
    }
   ],
   "source": [
    "\n",
    "from sklearn.tree import DecisionTreeClassifier\n",
    "\n",
    "dt_clf = DecisionTreeClassifier(max_depth=5)  \n",
    "dt_clf.fit(X_train, y_train);\n",
    "dt_clf.score(X_test, y_test)\n"
   ]
  },
  {
   "cell_type": "code",
   "execution_count": 19,
   "id": "a3842d5d",
   "metadata": {},
   "outputs": [
    {
     "data": {
      "image/png": "[encoded data removed]",
      "text/plain": [
       "<Figure size 2160x1440 with 1 Axes>"
      ]
     },
     "metadata": {
      "needs_background": "light"
     },
     "output_type": "display_data"
    }
   ],
   "source": [
    "\n",
    "from sklearn.tree import plot_tree\n",
    "plt.figure(figsize=(30, 20))\n",
    "plot_tree(dt_clf); \n"
   ]
  },
  {
   "cell_type": "code",
   "execution_count": 20,
   "id": "b444afd6",
   "metadata": {},
   "outputs": [
    {
     "data": {
      "text/plain": [
       "-3.4344282350553906e-16"
      ]
     },
     "execution_count": 20,
     "metadata": {},
     "output_type": "execute_result"
    }
   ],
   "source": [
    "\n",
    "m1 = np.mean(data5.Al)\n",
    "m1\n"
   ]
  },
  {
   "cell_type": "code",
   "execution_count": 21,
   "id": "d88fc484",
   "metadata": {},
   "outputs": [
    {
     "data": {
      "text/plain": [
       "7.470659604954324e-17"
      ]
     },
     "execution_count": 21,
     "metadata": {},
     "output_type": "execute_result"
    }
   ],
   "source": [
    "\n",
    "m2 = np.mean(data5.K)\n",
    "m2\n"
   ]
  },
  {
   "cell_type": "code",
   "execution_count": 22,
   "id": "4b9798db",
   "metadata": {},
   "outputs": [
    {
     "data": {
      "text/plain": [
       "-1.7639057400586599e-16"
      ]
     },
     "execution_count": 22,
     "metadata": {},
     "output_type": "execute_result"
    }
   ],
   "source": [
    "\n",
    "m3 = np.mean(data5.Ba)\n",
    "m3\n"
   ]
  },
  {
   "cell_type": "code",
   "execution_count": 23,
   "id": "0c9f3b12",
   "metadata": {},
   "outputs": [],
   "source": [
    "\n",
    "def plot_decision_boundary(model, m1, m2, m3, axis):\n",
    "    \n",
    "    x0, x1 = np.meshgrid(\n",
    "        np.linspace(axis[0], axis[1], int((axis[1]-axis[0])*100)).reshape(-1, 1),\n",
    "        np.linspace(axis[2], axis[3], int((axis[3]-axis[2])*100)).reshape(-1, 1),\n",
    "    )\n",
    "    \n",
    "    w, h = x0.shape[0], x0.shape[1]\n",
    "    x2 = [m1 for _ in range(w*h)]\n",
    "    x3 = [m2 for _ in range(w*h)]\n",
    "    x4 = [m3 for _ in range(w*h)]\n",
    "    X_new = np.c_[x0.ravel(), x1.ravel(), x2, x3, x4]\n",
    "\n",
    "    y_predict = model.predict(X_new)\n",
    "    zz = y_predict.reshape(x0.shape)\n",
    "\n",
    "    from matplotlib.colors import ListedColormap\n",
    "    custom_cmap = ListedColormap(['#EF9A9A','#FFF59D','#90CAF9', 'r', 'g', 'purple'])\n",
    "    \n",
    "    plt.contourf(x0, x1, zz, cmap=custom_cmap)\n",
    "    "
   ]
  },
  {
   "cell_type": "code",
   "execution_count": 24,
   "id": "e89d946f",
   "metadata": {},
   "outputs": [
    {
     "data": {
      "text/html": [
       "<div>\n",
       "<style scoped>\n",
       "    .dataframe tbody tr th:only-of-type {\n",
       "        vertical-align: middle;\n",
       "    }\n",
       "\n",
       "    .dataframe tbody tr th {\n",
       "        vertical-align: top;\n",
       "    }\n",
       "\n",
       "    .dataframe thead th {\n",
       "        text-align: right;\n",
       "    }\n",
       "</style>\n",
       "<table border=\"1\" class=\"dataframe\">\n",
       "  <thead>\n",
       "    <tr style=\"text-align: right;\">\n",
       "      <th></th>\n",
       "      <th>Na</th>\n",
       "      <th>Mg</th>\n",
       "    </tr>\n",
       "  </thead>\n",
       "  <tbody>\n",
       "    <tr>\n",
       "      <th>0</th>\n",
       "      <td>0.284953</td>\n",
       "      <td>1.254639</td>\n",
       "    </tr>\n",
       "    <tr>\n",
       "      <th>1</th>\n",
       "      <td>0.591817</td>\n",
       "      <td>0.636168</td>\n",
       "    </tr>\n",
       "    <tr>\n",
       "      <th>2</th>\n",
       "      <td>0.149933</td>\n",
       "      <td>0.601422</td>\n",
       "    </tr>\n",
       "    <tr>\n",
       "      <th>3</th>\n",
       "      <td>-0.242853</td>\n",
       "      <td>0.698710</td>\n",
       "    </tr>\n",
       "    <tr>\n",
       "      <th>4</th>\n",
       "      <td>-0.169205</td>\n",
       "      <td>0.650066</td>\n",
       "    </tr>\n",
       "    <tr>\n",
       "      <th>...</th>\n",
       "      <td>...</td>\n",
       "      <td>...</td>\n",
       "    </tr>\n",
       "    <tr>\n",
       "      <th>209</th>\n",
       "      <td>0.898681</td>\n",
       "      <td>-1.865511</td>\n",
       "    </tr>\n",
       "    <tr>\n",
       "      <th>210</th>\n",
       "      <td>1.856097</td>\n",
       "      <td>-1.865511</td>\n",
       "    </tr>\n",
       "    <tr>\n",
       "      <th>211</th>\n",
       "      <td>1.168721</td>\n",
       "      <td>-1.865511</td>\n",
       "    </tr>\n",
       "    <tr>\n",
       "      <th>212</th>\n",
       "      <td>1.193270</td>\n",
       "      <td>-1.865511</td>\n",
       "    </tr>\n",
       "    <tr>\n",
       "      <th>213</th>\n",
       "      <td>1.009152</td>\n",
       "      <td>-1.865511</td>\n",
       "    </tr>\n",
       "  </tbody>\n",
       "</table>\n",
       "<p>214 rows × 2 columns</p>\n",
       "</div>"
      ],
      "text/plain": [
       "           Na        Mg\n",
       "0    0.284953  1.254639\n",
       "1    0.591817  0.636168\n",
       "2    0.149933  0.601422\n",
       "3   -0.242853  0.698710\n",
       "4   -0.169205  0.650066\n",
       "..        ...       ...\n",
       "209  0.898681 -1.865511\n",
       "210  1.856097 -1.865511\n",
       "211  1.168721 -1.865511\n",
       "212  1.193270 -1.865511\n",
       "213  1.009152 -1.865511\n",
       "\n",
       "[214 rows x 2 columns]"
      ]
     },
     "execution_count": 24,
     "metadata": {},
     "output_type": "execute_result"
    }
   ],
   "source": [
    "\n",
    "X6 = data4.copy()\n",
    "X6 = X6.loc[:,['Na','Mg']]\n",
    "X6\n"
   ]
  },
  {
   "cell_type": "code",
   "execution_count": 25,
   "id": "b03b3ba2",
   "metadata": {},
   "outputs": [
    {
     "name": "stderr",
     "output_type": "stream",
     "text": [
      "C:\\Users\\User\\anaconda3\\lib\\site-packages\\sklearn\\base.py:450: UserWarning: X does not have valid feature names, but DecisionTreeClassifier was fitted with feature names\n",
      "  warnings.warn(\n"
     ]
    },
    {
     "data": {
      "image/png": "[encoded data removed]",
      "text/plain": [
       "<Figure size 432x288 with 1 Axes>"
      ]
     },
     "metadata": {
      "needs_background": "light"
     },
     "output_type": "display_data"
    }
   ],
   "source": [
    "\n",
    "plot_decision_boundary(dt_clf, m1, m2, m3, axis=[-4, 5, -14, 2])\n",
    "scatter = plt.scatter(X6.Na, X6.Mg, c=y, s=20)\n",
    "\n",
    "plt.xlabel(\"Na\")\n",
    "plt.ylabel(\"Mg\")\n",
    "plt.legend(*scatter.legend_elements())\n",
    "plt.title(\"Glass Identification Data Set\");\n"
   ]
  },
  {
   "cell_type": "markdown",
   "id": "45d4b18b",
   "metadata": {},
   "source": [
    "Попробовала больше 5 (лучше не стало):"
   ]
  },
  {
   "cell_type": "code",
   "execution_count": 26,
   "id": "eeaa79ae",
   "metadata": {},
   "outputs": [
    {
     "data": {
      "text/plain": [
       "0.6615384615384615"
      ]
     },
     "execution_count": 26,
     "metadata": {},
     "output_type": "execute_result"
    }
   ],
   "source": [
    "\n",
    "dt_clf1 = DecisionTreeClassifier(max_depth=6)  \n",
    "dt_clf1.fit(X_train, y_train);\n",
    "dt_clf1.score(X_test, y_test)\n"
   ]
  },
  {
   "cell_type": "code",
   "execution_count": 27,
   "id": "5062a09f",
   "metadata": {},
   "outputs": [
    {
     "name": "stderr",
     "output_type": "stream",
     "text": [
      "C:\\Users\\User\\anaconda3\\lib\\site-packages\\sklearn\\base.py:450: UserWarning: X does not have valid feature names, but DecisionTreeClassifier was fitted with feature names\n",
      "  warnings.warn(\n"
     ]
    },
    {
     "data": {
      "image/png": "[encoded data removed]",
      "text/plain": [
       "<Figure size 432x288 with 1 Axes>"
      ]
     },
     "metadata": {
      "needs_background": "light"
     },
     "output_type": "display_data"
    }
   ],
   "source": [
    "\n",
    "plot_decision_boundary(dt_clf1, m1, m2, m3, axis=[-4, 5, -14, 2])\n",
    "scatter = plt.scatter(X6.Na, X6.Mg, c=y, s=20)\n",
    "\n",
    "plt.xlabel(\"Na\")\n",
    "plt.ylabel(\"Mg\")\n",
    "plt.legend(*scatter.legend_elements())\n",
    "plt.title(\"Glass Identification Data Set\");\n"
   ]
  },
  {
   "cell_type": "markdown",
   "id": "201bfe10",
   "metadata": {},
   "source": [
    "7. \tПостройте и обучите дополнительные базовые классификаторы, указанные в индивидуальном задании, затем постройте из классификатора дерева решений и дополнительных классификаторов комбинированный классификатор, указанный в индивидуальном задании. Оцените производительность базовых классификаторов и комбинированного классификатора по показателю, указанному в индивидуальном задании. "
   ]
  },
  {
   "cell_type": "markdown",
   "id": "94f96cb5",
   "metadata": {},
   "source": [
    "Дополнительные базовые классификаторы: \n",
    "\n",
    "-            наивный байесовский классификатор \n",
    "\n",
    "-            классификатор ближайших соседей (к-во соседей = 5) \n",
    "\n",
    "Комбинированный классификатор: VotingClassifier \n",
    "Показатель качества модели – F-мера (f1) "
   ]
  },
  {
   "cell_type": "code",
   "execution_count": 28,
   "id": "cfcb54db",
   "metadata": {},
   "outputs": [
    {
     "data": {
      "text/plain": [
       "0.46153846153846156"
      ]
     },
     "execution_count": 28,
     "metadata": {},
     "output_type": "execute_result"
    }
   ],
   "source": [
    "\n",
    "from sklearn.naive_bayes import GaussianNB\n",
    "nbc = GaussianNB()\n",
    "nbc.fit(X_train,y_train)\n",
    "nbc.score(X_test, y_test)\n"
   ]
  },
  {
   "cell_type": "code",
   "execution_count": 29,
   "id": "10174d3a",
   "metadata": {},
   "outputs": [
    {
     "data": {
      "text/plain": [
       "0.7076923076923077"
      ]
     },
     "execution_count": 29,
     "metadata": {},
     "output_type": "execute_result"
    }
   ],
   "source": [
    "\n",
    "from sklearn.neighbors import KNeighborsClassifier\n",
    "kNN_clf = KNeighborsClassifier(n_neighbors=5)\n",
    "kNN_clf.fit(X_train, y_train)\n",
    "kNN_clf.score(X_test, y_test)\n"
   ]
  },
  {
   "cell_type": "code",
   "execution_count": 30,
   "id": "bda109d1",
   "metadata": {},
   "outputs": [],
   "source": [
    "\n",
    "from sklearn.ensemble import VotingClassifier\n",
    "\n",
    "voting_clf = VotingClassifier(estimators=[\n",
    "    ('nbc', GaussianNB()), \n",
    "    ('kNN', KNeighborsClassifier(n_neighbors=5)),\n",
    "    ('dt', DecisionTreeClassifier(random_state=666))],\n",
    "                             voting='soft')\n"
   ]
  },
  {
   "cell_type": "code",
   "execution_count": 31,
   "id": "6e519f0e",
   "metadata": {},
   "outputs": [
    {
     "data": {
      "text/plain": [
       "0.676923076923077"
      ]
     },
     "execution_count": 31,
     "metadata": {},
     "output_type": "execute_result"
    }
   ],
   "source": [
    "\n",
    "voting_clf.fit(X_train, y_train)\n",
    "voting_clf.score(X_test, y_test)\n"
   ]
  },
  {
   "cell_type": "code",
   "execution_count": 32,
   "id": "f3de4afb",
   "metadata": {},
   "outputs": [],
   "source": [
    "\n",
    "yhat_nbc = nbc.predict(X_test)\n"
   ]
  },
  {
   "cell_type": "code",
   "execution_count": 33,
   "id": "36fa82e8",
   "metadata": {},
   "outputs": [],
   "source": [
    "\n",
    "yhat_kNN_clf = kNN_clf.predict(X_test)\n"
   ]
  },
  {
   "cell_type": "code",
   "execution_count": 34,
   "id": "53d51138",
   "metadata": {},
   "outputs": [],
   "source": [
    "\n",
    "yhat_voting_clf = voting_clf.predict(X_test)\n"
   ]
  },
  {
   "cell_type": "code",
   "execution_count": 35,
   "id": "2dfaddcd",
   "metadata": {},
   "outputs": [
    {
     "name": "stdout",
     "output_type": "stream",
     "text": [
      "[0.58064516 0.12903226 0.         0.4        0.4        0.76190476]\n"
     ]
    },
    {
     "data": {
      "text/plain": [
       "0.37859703020993346"
      ]
     },
     "execution_count": 35,
     "metadata": {},
     "output_type": "execute_result"
    }
   ],
   "source": [
    "\n",
    "from sklearn.metrics import f1_score\n",
    "f_nbc = f1_score(y_test, yhat_nbc, average=None)\n",
    "print(f_nbc)\n",
    "np.average(f_nbc)\n"
   ]
  },
  {
   "cell_type": "code",
   "execution_count": 36,
   "id": "c2ae60e6",
   "metadata": {},
   "outputs": [
    {
     "name": "stdout",
     "output_type": "stream",
     "text": [
      "[0.73469388 0.70833333 0.         0.66666667 1.         0.84210526]\n"
     ]
    },
    {
     "data": {
      "text/plain": [
       "0.6586331901181525"
      ]
     },
     "execution_count": 36,
     "metadata": {},
     "output_type": "execute_result"
    }
   ],
   "source": [
    "\n",
    "f_kNN = f1_score(y_test, yhat_kNN_clf, average=None)\n",
    "print(f_kNN)\n",
    "np.average(f_kNN)\n"
   ]
  },
  {
   "cell_type": "code",
   "execution_count": 37,
   "id": "b2e3d074",
   "metadata": {},
   "outputs": [
    {
     "name": "stdout",
     "output_type": "stream",
     "text": [
      "[0.73913043 0.63829787 0.28571429 0.57142857 0.66666667 0.8       ]\n"
     ]
    },
    {
     "data": {
      "text/plain": [
       "0.616872971822093"
      ]
     },
     "execution_count": 37,
     "metadata": {},
     "output_type": "execute_result"
    }
   ],
   "source": [
    "\n",
    "f_voting = f1_score(y_test, yhat_voting_clf, average=None)\n",
    "print(f_voting)\n",
    "np.average(f_voting)\n"
   ]
  },
  {
   "cell_type": "markdown",
   "id": "044d81f4",
   "metadata": {},
   "source": [
    "Как можно заметить, значение KNeighborsClassifier(5) лучше."
   ]
  },
  {
   "cell_type": "markdown",
   "id": "6df922e1",
   "metadata": {},
   "source": [
    "8. \tПостройте и обучите пару ансамблевых классификаторов, указанных в индивидуальном задании, и сравните их производительность по показателю, указанному в индивидуальном задании. "
   ]
  },
  {
   "cell_type": "markdown",
   "id": "1911045f",
   "metadata": {},
   "source": [
    "Ансамблевые классификаторы: RandomForestClassifier,  GradientBoostingClassifier "
   ]
  },
  {
   "cell_type": "code",
   "execution_count": 38,
   "id": "cba40a1f",
   "metadata": {},
   "outputs": [],
   "source": [
    "\n",
    "from sklearn.ensemble import RandomForestClassifier\n",
    "\n",
    "rf_clf = RandomForestClassifier(n_estimators=500, oob_score=True, \n",
    "                                random_state=666, n_jobs=-1)\n",
    "rf_clf.fit(X_train, y_train);\n"
   ]
  },
  {
   "cell_type": "code",
   "execution_count": 39,
   "id": "9daed7e7",
   "metadata": {},
   "outputs": [
    {
     "data": {
      "text/plain": [
       "0.7315436241610739"
      ]
     },
     "execution_count": 39,
     "metadata": {},
     "output_type": "execute_result"
    }
   ],
   "source": [
    "\n",
    "rf_clf.oob_score_\n"
   ]
  },
  {
   "cell_type": "code",
   "execution_count": 40,
   "id": "e5a55476",
   "metadata": {},
   "outputs": [],
   "source": [
    "\n",
    "yhat_rf_clf = rf_clf.predict(X_test)\n"
   ]
  },
  {
   "cell_type": "code",
   "execution_count": 41,
   "id": "cd309e32",
   "metadata": {},
   "outputs": [
    {
     "name": "stdout",
     "output_type": "stream",
     "text": [
      "[0.66666667 0.76595745 0.25       0.85714286 1.         0.76190476]\n"
     ]
    },
    {
     "data": {
      "text/plain": [
       "0.7169452887537995"
      ]
     },
     "execution_count": 41,
     "metadata": {},
     "output_type": "execute_result"
    }
   ],
   "source": [
    "\n",
    "f_rf = f1_score(y_test, yhat_rf_clf, average=None)\n",
    "print(f_rf)\n",
    "np.average(f_rf)\n"
   ]
  },
  {
   "cell_type": "code",
   "execution_count": 42,
   "id": "780455f6",
   "metadata": {},
   "outputs": [
    {
     "data": {
      "text/plain": [
       "0.676923076923077"
      ]
     },
     "execution_count": 42,
     "metadata": {},
     "output_type": "execute_result"
    }
   ],
   "source": [
    "\n",
    "from sklearn.ensemble import GradientBoostingClassifier\n",
    "\n",
    "gb_clf = GradientBoostingClassifier(max_depth=2, n_estimators=30)\n",
    "gb_clf.fit(X_train, y_train)\n",
    "gb_clf.score(X_test, y_test)\n"
   ]
  },
  {
   "cell_type": "code",
   "execution_count": 43,
   "id": "b6acb450",
   "metadata": {},
   "outputs": [],
   "source": [
    "\n",
    "yhat_gb_clf = gb_clf.predict(X_test)\n"
   ]
  },
  {
   "cell_type": "code",
   "execution_count": 44,
   "id": "50b855fa",
   "metadata": {},
   "outputs": [
    {
     "name": "stdout",
     "output_type": "stream",
     "text": [
      "[0.68085106 0.68085106 0.         0.85714286 1.         0.8       ]\n"
     ]
    },
    {
     "data": {
      "text/plain": [
       "0.6698074974670719"
      ]
     },
     "execution_count": 44,
     "metadata": {},
     "output_type": "execute_result"
    }
   ],
   "source": [
    "\n",
    "f_gb = f1_score(y_test, yhat_gb_clf, average=None)\n",
    "print(f_gb)\n",
    "np.average(f_gb)\n"
   ]
  },
  {
   "cell_type": "markdown",
   "id": "40354d48",
   "metadata": {},
   "source": [
    "Видим, что RandomForestClassifier по показателю f-меры лучше."
   ]
  },
  {
   "cell_type": "markdown",
   "id": "202eac87",
   "metadata": {},
   "source": [
    "9. \tПостройте границы принятия решений ансамблевых классификаторов с визуализацией точек набора данных разных классов разными цветами. Подпишите оси и рисунок. "
   ]
  },
  {
   "cell_type": "code",
   "execution_count": 45,
   "id": "8b59ea22",
   "metadata": {},
   "outputs": [
    {
     "name": "stderr",
     "output_type": "stream",
     "text": [
      "C:\\Users\\User\\anaconda3\\lib\\site-packages\\sklearn\\base.py:450: UserWarning: X does not have valid feature names, but RandomForestClassifier was fitted with feature names\n",
      "  warnings.warn(\n"
     ]
    },
    {
     "data": {
      "image/png": "[encoded data removed]",
      "text/plain": [
       "<Figure size 432x288 with 1 Axes>"
      ]
     },
     "metadata": {
      "needs_background": "light"
     },
     "output_type": "display_data"
    }
   ],
   "source": [
    "\n",
    "plot_decision_boundary(rf_clf, m1, m2, m3, axis=[-4, 5, -14, 2])\n",
    "scatter = plt.scatter(X6.Na, X6.Mg, c=y, s=20)\n",
    "\n",
    "plt.xlabel(\"Na\")\n",
    "plt.ylabel(\"Mg\")\n",
    "plt.legend(*scatter.legend_elements())\n",
    "plt.title(\"Glass Identification Data Set\");\n"
   ]
  },
  {
   "cell_type": "code",
   "execution_count": 46,
   "id": "1d9b0d7c",
   "metadata": {},
   "outputs": [
    {
     "name": "stderr",
     "output_type": "stream",
     "text": [
      "C:\\Users\\User\\anaconda3\\lib\\site-packages\\sklearn\\base.py:450: UserWarning: X does not have valid feature names, but GradientBoostingClassifier was fitted with feature names\n",
      "  warnings.warn(\n"
     ]
    },
    {
     "data": {
      "image/png": "[encoded data removed]",
      "text/plain": [
       "<Figure size 432x288 with 1 Axes>"
      ]
     },
     "metadata": {
      "needs_background": "light"
     },
     "output_type": "display_data"
    }
   ],
   "source": [
    "\n",
    "plot_decision_boundary(gb_clf, m1, m2, m3, axis=[-4, 5, -14, 2])\n",
    "scatter = plt.scatter(X6.Na, X6.Mg, c=y, s=20)\n",
    "\n",
    "plt.xlabel(\"Na\")\n",
    "plt.ylabel(\"Mg\")\n",
    "plt.legend(*scatter.legend_elements())\n",
    "plt.title(\"Glass Identification Data Set\");\n"
   ]
  }
 ],
 "metadata": {
  "kernelspec": {
   "display_name": "Python 3 (ipykernel)",
   "language": "python",
   "name": "python3"
  },
  "language_info": {
   "codemirror_mode": {
    "name": "ipython",
    "version": 3
   },
   "file_extension": ".py",
   "mimetype": "text/x-python",
   "name": "python",
   "nbconvert_exporter": "python",
   "pygments_lexer": "ipython3",
   "version": "3.9.13"
  }
 },
 "nbformat": 4,
 "nbformat_minor": 5
}
