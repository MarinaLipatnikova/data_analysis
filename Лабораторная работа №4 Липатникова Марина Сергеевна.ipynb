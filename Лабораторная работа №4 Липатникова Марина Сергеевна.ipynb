{
 "cells": [
  {
   "cell_type": "markdown",
   "id": "6b4d8aa2",
   "metadata": {},
   "source": [
    "### РОССИЙСКИЙ УНИВЕРСИТЕТ ДРУЖБЫ НАРОДОВ\n",
    "\n",
    "#### Факультет физико-математических и естественных наук  \n",
    "#### Кафедра информационных технологий "
   ]
  },
  {
   "cell_type": "markdown",
   "id": "969cd384",
   "metadata": {},
   "source": [
    "\n",
    "## ОТЧЕТ ПО ЛАБОРАТОРНОЙ РАБОТЕ № 4\n",
    "\n",
    "\n",
    "### Дисциплина: Интеллектуальный анализ данных\n"
   ]
  },
  {
   "cell_type": "markdown",
   "id": "b0cac249",
   "metadata": {},
   "source": [
    "\n",
    "##### Студент:  Липатникова Марина\n",
    "##### Группа:   НФИбд-02-19\n"
   ]
  },
  {
   "cell_type": "markdown",
   "id": "b6a3acdd",
   "metadata": {},
   "source": [
    "\n",
    "## Москва 2022\n",
    "***"
   ]
  },
  {
   "cell_type": "markdown",
   "id": "590d38fc",
   "metadata": {},
   "source": [
    "\n",
    "#### Задание на лабораторную работу №4\n"
   ]
  },
  {
   "cell_type": "markdown",
   "id": "2e71f944",
   "metadata": {},
   "source": [
    "\n",
    "Для закрепленного за Вами варианта лабораторной работы:\n",
    "\n",
    "    1.\tСчитайте из заданного набора данных репозитария UCI значения трех признаков и метки класса. \n",
    "\n",
    "    2.\tЕсли среди меток класса имеются пропущенные значения, то удалите записи с пропущенными метками класса. Если в признаках имеются пропущенные значения, то замените пропущенные значения, используя метод, указанный в индивидуальном задании. Если количество различных меток классов превышает 4, то уменьшите количество классов.\n",
    "\n",
    "    3. Нормализуйте признаки набора данных методом, указанным в индивидуальном задании.\n",
    "\n",
    "    4.\tВизуализируйте набор данных в виде точек трехмерного пространства с координатами, соответствующими трем признакам, отображая точки различных классов разными цветами. Подпишите оси и рисунок, создайте легенду набора данных. \n",
    "\n",
    "    5.  Используя алгоритм снижения размерности данных, указанный в индивидуальном задании, уменьшите размерность признакового пространства до двух и визуализируйте набор данных в виде точек на плоскости, отображая точки различных классов разными цветами. Подпишите оси и рисунок, создайте легенду набора данных. \n",
    "\n",
    "    6.  Используя разделение набора данных из двух признаков на обучающую и тестовую выборки в соотношении 75% на 25%, проведите классификацию тестовой выборки с помощью метода К ближайших соседей для различных значений К и определите оптимальное значение параметра К с минимальной долей ошибок. \n",
    "\n",
    "    7.  Для найденного значения K постройте и выведите на экран отчет о классификации и матрицу ошибок.\n",
    "\n",
    "    8. Создайте модели классификации точек набора данных из трех признаков на базе следующих классификаторов:\n",
    "    * наивного байесовского классификатора  \n",
    "    * классификатора метода К ближайших соседей для значения К, определенного в п. 6.\n",
    "\n",
    "    9.  Используя указанный в индивидуальном задании метод валидации модели, проведите для набора данных из трех признаков оценку качества классификаторов из п. 8 относительно показателя, указанного в индивидуальном задании, и выведите на экран среднее значение и дисперсию этого показателя.\n",
    "\n",
    "    10. Определите, какой из классификаторов позволяет получить более высокое среднее значение показателя классификации, проведите классификацию точек набора данных этим классификатором и визуализируйте набор данных в виде точек трехмерного пространства с координатами, соответствующими трем признакам, отображая точки различных прогнозируемых классов разными цветами. Подпишите оси и рисунок, создайте легенду набора данных. \n",
    "\n",
    "\n",
    "\n"
   ]
  },
  {
   "cell_type": "markdown",
   "id": "6cf48492",
   "metadata": {},
   "source": [
    "# Индивидуальное задание\n"
   ]
  },
  {
   "cell_type": "markdown",
   "id": "20939491",
   "metadata": {},
   "source": [
    "\n",
    "Лабораторная работа 4 – Вариант 3 \n",
    "\n",
    "Arrhythmia Data Set \n",
    "\n",
    "Название файла: arrhythmia.data \n",
    "\n",
    "Ссылка: https://archive.ics.uci.edu/ml/datasets/Arrhythmia \n",
    "\n",
    "Первый признак: Age (столбец No 1) \n",
    "\n",
    "Второй признак: Weight (столбец No 4) \n",
    "\n",
    "Третий признак: Height (столбец No 3) \n",
    "\n",
    "Класс: Class code (столбец No 280 последний) \n",
    "\n",
    "Метод обработки пропущенных значений – среднее значение класса \n",
    "\n",
    "Метод нормализации признаков – нормировка по норме L1 \n",
    "\n",
    "Алгоритм снижения размерности данных – отбор на основе важности признаков (ExtraTreesClassifier) \n",
    "\n",
    "Метод валидации модели – стратифицированная кросс-валидация по 10 блокам \n",
    "\n",
    "Показатель качества модели – полнота (recall) "
   ]
  },
  {
   "cell_type": "markdown",
   "id": "ee969668",
   "metadata": {},
   "source": [
    "1.\tСчитайте из заданного набора данных репозитария UCI значения трех признаков и метки класса. "
   ]
  },
  {
   "cell_type": "code",
   "execution_count": 1,
   "id": "1d1cbce1",
   "metadata": {},
   "outputs": [],
   "source": [
    "\n",
    "url = \\\n",
    "    \"https://archive.ics.uci.edu/ml/\"+\\\n",
    "    \"machine-learning-databases/arrhythmia/arrhythmia.data\"\n"
   ]
  },
  {
   "cell_type": "code",
   "execution_count": 2,
   "id": "b6ddb6b4",
   "metadata": {},
   "outputs": [
    {
     "data": {
      "text/html": [
       "<div>\n",
       "<style scoped>\n",
       "    .dataframe tbody tr th:only-of-type {\n",
       "        vertical-align: middle;\n",
       "    }\n",
       "\n",
       "    .dataframe tbody tr th {\n",
       "        vertical-align: top;\n",
       "    }\n",
       "\n",
       "    .dataframe thead th {\n",
       "        text-align: right;\n",
       "    }\n",
       "</style>\n",
       "<table border=\"1\" class=\"dataframe\">\n",
       "  <thead>\n",
       "    <tr style=\"text-align: right;\">\n",
       "      <th></th>\n",
       "      <th>0</th>\n",
       "      <th>1</th>\n",
       "      <th>2</th>\n",
       "      <th>3</th>\n",
       "      <th>4</th>\n",
       "      <th>5</th>\n",
       "      <th>6</th>\n",
       "      <th>7</th>\n",
       "      <th>8</th>\n",
       "      <th>9</th>\n",
       "      <th>...</th>\n",
       "      <th>270</th>\n",
       "      <th>271</th>\n",
       "      <th>272</th>\n",
       "      <th>273</th>\n",
       "      <th>274</th>\n",
       "      <th>275</th>\n",
       "      <th>276</th>\n",
       "      <th>277</th>\n",
       "      <th>278</th>\n",
       "      <th>279</th>\n",
       "    </tr>\n",
       "  </thead>\n",
       "  <tbody>\n",
       "    <tr>\n",
       "      <th>0</th>\n",
       "      <td>75</td>\n",
       "      <td>0</td>\n",
       "      <td>190</td>\n",
       "      <td>80</td>\n",
       "      <td>91</td>\n",
       "      <td>193</td>\n",
       "      <td>371</td>\n",
       "      <td>174</td>\n",
       "      <td>121</td>\n",
       "      <td>-16</td>\n",
       "      <td>...</td>\n",
       "      <td>0.0</td>\n",
       "      <td>9.0</td>\n",
       "      <td>-0.9</td>\n",
       "      <td>0.0</td>\n",
       "      <td>0.0</td>\n",
       "      <td>0.9</td>\n",
       "      <td>2.9</td>\n",
       "      <td>23.3</td>\n",
       "      <td>49.4</td>\n",
       "      <td>8</td>\n",
       "    </tr>\n",
       "    <tr>\n",
       "      <th>1</th>\n",
       "      <td>56</td>\n",
       "      <td>1</td>\n",
       "      <td>165</td>\n",
       "      <td>64</td>\n",
       "      <td>81</td>\n",
       "      <td>174</td>\n",
       "      <td>401</td>\n",
       "      <td>149</td>\n",
       "      <td>39</td>\n",
       "      <td>25</td>\n",
       "      <td>...</td>\n",
       "      <td>0.0</td>\n",
       "      <td>8.5</td>\n",
       "      <td>0.0</td>\n",
       "      <td>0.0</td>\n",
       "      <td>0.0</td>\n",
       "      <td>0.2</td>\n",
       "      <td>2.1</td>\n",
       "      <td>20.4</td>\n",
       "      <td>38.8</td>\n",
       "      <td>6</td>\n",
       "    </tr>\n",
       "    <tr>\n",
       "      <th>2</th>\n",
       "      <td>54</td>\n",
       "      <td>0</td>\n",
       "      <td>172</td>\n",
       "      <td>95</td>\n",
       "      <td>138</td>\n",
       "      <td>163</td>\n",
       "      <td>386</td>\n",
       "      <td>185</td>\n",
       "      <td>102</td>\n",
       "      <td>96</td>\n",
       "      <td>...</td>\n",
       "      <td>0.0</td>\n",
       "      <td>9.5</td>\n",
       "      <td>-2.4</td>\n",
       "      <td>0.0</td>\n",
       "      <td>0.0</td>\n",
       "      <td>0.3</td>\n",
       "      <td>3.4</td>\n",
       "      <td>12.3</td>\n",
       "      <td>49.0</td>\n",
       "      <td>10</td>\n",
       "    </tr>\n",
       "    <tr>\n",
       "      <th>3</th>\n",
       "      <td>55</td>\n",
       "      <td>0</td>\n",
       "      <td>175</td>\n",
       "      <td>94</td>\n",
       "      <td>100</td>\n",
       "      <td>202</td>\n",
       "      <td>380</td>\n",
       "      <td>179</td>\n",
       "      <td>143</td>\n",
       "      <td>28</td>\n",
       "      <td>...</td>\n",
       "      <td>0.0</td>\n",
       "      <td>12.2</td>\n",
       "      <td>-2.2</td>\n",
       "      <td>0.0</td>\n",
       "      <td>0.0</td>\n",
       "      <td>0.4</td>\n",
       "      <td>2.6</td>\n",
       "      <td>34.6</td>\n",
       "      <td>61.6</td>\n",
       "      <td>1</td>\n",
       "    </tr>\n",
       "    <tr>\n",
       "      <th>4</th>\n",
       "      <td>75</td>\n",
       "      <td>0</td>\n",
       "      <td>190</td>\n",
       "      <td>80</td>\n",
       "      <td>88</td>\n",
       "      <td>181</td>\n",
       "      <td>360</td>\n",
       "      <td>177</td>\n",
       "      <td>103</td>\n",
       "      <td>-16</td>\n",
       "      <td>...</td>\n",
       "      <td>0.0</td>\n",
       "      <td>13.1</td>\n",
       "      <td>-3.6</td>\n",
       "      <td>0.0</td>\n",
       "      <td>0.0</td>\n",
       "      <td>-0.1</td>\n",
       "      <td>3.9</td>\n",
       "      <td>25.4</td>\n",
       "      <td>62.8</td>\n",
       "      <td>7</td>\n",
       "    </tr>\n",
       "    <tr>\n",
       "      <th>...</th>\n",
       "      <td>...</td>\n",
       "      <td>...</td>\n",
       "      <td>...</td>\n",
       "      <td>...</td>\n",
       "      <td>...</td>\n",
       "      <td>...</td>\n",
       "      <td>...</td>\n",
       "      <td>...</td>\n",
       "      <td>...</td>\n",
       "      <td>...</td>\n",
       "      <td>...</td>\n",
       "      <td>...</td>\n",
       "      <td>...</td>\n",
       "      <td>...</td>\n",
       "      <td>...</td>\n",
       "      <td>...</td>\n",
       "      <td>...</td>\n",
       "      <td>...</td>\n",
       "      <td>...</td>\n",
       "      <td>...</td>\n",
       "      <td>...</td>\n",
       "    </tr>\n",
       "    <tr>\n",
       "      <th>447</th>\n",
       "      <td>53</td>\n",
       "      <td>1</td>\n",
       "      <td>160</td>\n",
       "      <td>70</td>\n",
       "      <td>80</td>\n",
       "      <td>199</td>\n",
       "      <td>382</td>\n",
       "      <td>154</td>\n",
       "      <td>117</td>\n",
       "      <td>-37</td>\n",
       "      <td>...</td>\n",
       "      <td>0.0</td>\n",
       "      <td>4.3</td>\n",
       "      <td>-5.0</td>\n",
       "      <td>0.0</td>\n",
       "      <td>0.0</td>\n",
       "      <td>0.7</td>\n",
       "      <td>0.6</td>\n",
       "      <td>-4.4</td>\n",
       "      <td>-0.5</td>\n",
       "      <td>1</td>\n",
       "    </tr>\n",
       "    <tr>\n",
       "      <th>448</th>\n",
       "      <td>37</td>\n",
       "      <td>0</td>\n",
       "      <td>190</td>\n",
       "      <td>85</td>\n",
       "      <td>100</td>\n",
       "      <td>137</td>\n",
       "      <td>361</td>\n",
       "      <td>201</td>\n",
       "      <td>73</td>\n",
       "      <td>86</td>\n",
       "      <td>...</td>\n",
       "      <td>0.0</td>\n",
       "      <td>15.6</td>\n",
       "      <td>-1.6</td>\n",
       "      <td>0.0</td>\n",
       "      <td>0.0</td>\n",
       "      <td>0.4</td>\n",
       "      <td>2.4</td>\n",
       "      <td>38.0</td>\n",
       "      <td>62.4</td>\n",
       "      <td>10</td>\n",
       "    </tr>\n",
       "    <tr>\n",
       "      <th>449</th>\n",
       "      <td>36</td>\n",
       "      <td>0</td>\n",
       "      <td>166</td>\n",
       "      <td>68</td>\n",
       "      <td>108</td>\n",
       "      <td>176</td>\n",
       "      <td>365</td>\n",
       "      <td>194</td>\n",
       "      <td>116</td>\n",
       "      <td>-85</td>\n",
       "      <td>...</td>\n",
       "      <td>0.0</td>\n",
       "      <td>16.3</td>\n",
       "      <td>-28.6</td>\n",
       "      <td>0.0</td>\n",
       "      <td>0.0</td>\n",
       "      <td>1.5</td>\n",
       "      <td>1.0</td>\n",
       "      <td>-44.2</td>\n",
       "      <td>-33.2</td>\n",
       "      <td>2</td>\n",
       "    </tr>\n",
       "    <tr>\n",
       "      <th>450</th>\n",
       "      <td>32</td>\n",
       "      <td>1</td>\n",
       "      <td>155</td>\n",
       "      <td>55</td>\n",
       "      <td>93</td>\n",
       "      <td>106</td>\n",
       "      <td>386</td>\n",
       "      <td>218</td>\n",
       "      <td>63</td>\n",
       "      <td>54</td>\n",
       "      <td>...</td>\n",
       "      <td>-0.4</td>\n",
       "      <td>12.0</td>\n",
       "      <td>-0.7</td>\n",
       "      <td>0.0</td>\n",
       "      <td>0.0</td>\n",
       "      <td>0.5</td>\n",
       "      <td>2.4</td>\n",
       "      <td>25.0</td>\n",
       "      <td>46.6</td>\n",
       "      <td>1</td>\n",
       "    </tr>\n",
       "    <tr>\n",
       "      <th>451</th>\n",
       "      <td>78</td>\n",
       "      <td>1</td>\n",
       "      <td>160</td>\n",
       "      <td>70</td>\n",
       "      <td>79</td>\n",
       "      <td>127</td>\n",
       "      <td>364</td>\n",
       "      <td>138</td>\n",
       "      <td>78</td>\n",
       "      <td>28</td>\n",
       "      <td>...</td>\n",
       "      <td>0.0</td>\n",
       "      <td>10.4</td>\n",
       "      <td>-1.8</td>\n",
       "      <td>0.0</td>\n",
       "      <td>0.0</td>\n",
       "      <td>0.5</td>\n",
       "      <td>1.6</td>\n",
       "      <td>21.3</td>\n",
       "      <td>32.8</td>\n",
       "      <td>1</td>\n",
       "    </tr>\n",
       "  </tbody>\n",
       "</table>\n",
       "<p>452 rows × 280 columns</p>\n",
       "</div>"
      ],
      "text/plain": [
       "     0    1    2    3    4    5    6    7    8    9    ...  270   271   272  \\\n",
       "0     75    0  190   80   91  193  371  174  121  -16  ...  0.0   9.0  -0.9   \n",
       "1     56    1  165   64   81  174  401  149   39   25  ...  0.0   8.5   0.0   \n",
       "2     54    0  172   95  138  163  386  185  102   96  ...  0.0   9.5  -2.4   \n",
       "3     55    0  175   94  100  202  380  179  143   28  ...  0.0  12.2  -2.2   \n",
       "4     75    0  190   80   88  181  360  177  103  -16  ...  0.0  13.1  -3.6   \n",
       "..   ...  ...  ...  ...  ...  ...  ...  ...  ...  ...  ...  ...   ...   ...   \n",
       "447   53    1  160   70   80  199  382  154  117  -37  ...  0.0   4.3  -5.0   \n",
       "448   37    0  190   85  100  137  361  201   73   86  ...  0.0  15.6  -1.6   \n",
       "449   36    0  166   68  108  176  365  194  116  -85  ...  0.0  16.3 -28.6   \n",
       "450   32    1  155   55   93  106  386  218   63   54  ... -0.4  12.0  -0.7   \n",
       "451   78    1  160   70   79  127  364  138   78   28  ...  0.0  10.4  -1.8   \n",
       "\n",
       "     273  274  275  276   277   278  279  \n",
       "0    0.0  0.0  0.9  2.9  23.3  49.4    8  \n",
       "1    0.0  0.0  0.2  2.1  20.4  38.8    6  \n",
       "2    0.0  0.0  0.3  3.4  12.3  49.0   10  \n",
       "3    0.0  0.0  0.4  2.6  34.6  61.6    1  \n",
       "4    0.0  0.0 -0.1  3.9  25.4  62.8    7  \n",
       "..   ...  ...  ...  ...   ...   ...  ...  \n",
       "447  0.0  0.0  0.7  0.6  -4.4  -0.5    1  \n",
       "448  0.0  0.0  0.4  2.4  38.0  62.4   10  \n",
       "449  0.0  0.0  1.5  1.0 -44.2 -33.2    2  \n",
       "450  0.0  0.0  0.5  2.4  25.0  46.6    1  \n",
       "451  0.0  0.0  0.5  1.6  21.3  32.8    1  \n",
       "\n",
       "[452 rows x 280 columns]"
      ]
     },
     "execution_count": 2,
     "metadata": {},
     "output_type": "execute_result"
    }
   ],
   "source": [
    "\n",
    "import pandas as pd\n",
    "\n",
    "data = pd.read_csv(url, header=None)\n",
    "\n",
    "data\n"
   ]
  },
  {
   "cell_type": "code",
   "execution_count": 3,
   "id": "3f33df58",
   "metadata": {},
   "outputs": [
    {
     "data": {
      "text/html": [
       "<div>\n",
       "<style scoped>\n",
       "    .dataframe tbody tr th:only-of-type {\n",
       "        vertical-align: middle;\n",
       "    }\n",
       "\n",
       "    .dataframe tbody tr th {\n",
       "        vertical-align: top;\n",
       "    }\n",
       "\n",
       "    .dataframe thead th {\n",
       "        text-align: right;\n",
       "    }\n",
       "</style>\n",
       "<table border=\"1\" class=\"dataframe\">\n",
       "  <thead>\n",
       "    <tr style=\"text-align: right;\">\n",
       "      <th></th>\n",
       "      <th>Age</th>\n",
       "      <th>Weight</th>\n",
       "      <th>Height</th>\n",
       "      <th>Class code</th>\n",
       "    </tr>\n",
       "  </thead>\n",
       "  <tbody>\n",
       "    <tr>\n",
       "      <th>0</th>\n",
       "      <td>75</td>\n",
       "      <td>80</td>\n",
       "      <td>190</td>\n",
       "      <td>8</td>\n",
       "    </tr>\n",
       "    <tr>\n",
       "      <th>1</th>\n",
       "      <td>56</td>\n",
       "      <td>64</td>\n",
       "      <td>165</td>\n",
       "      <td>6</td>\n",
       "    </tr>\n",
       "    <tr>\n",
       "      <th>2</th>\n",
       "      <td>54</td>\n",
       "      <td>95</td>\n",
       "      <td>172</td>\n",
       "      <td>10</td>\n",
       "    </tr>\n",
       "    <tr>\n",
       "      <th>3</th>\n",
       "      <td>55</td>\n",
       "      <td>94</td>\n",
       "      <td>175</td>\n",
       "      <td>1</td>\n",
       "    </tr>\n",
       "    <tr>\n",
       "      <th>4</th>\n",
       "      <td>75</td>\n",
       "      <td>80</td>\n",
       "      <td>190</td>\n",
       "      <td>7</td>\n",
       "    </tr>\n",
       "    <tr>\n",
       "      <th>...</th>\n",
       "      <td>...</td>\n",
       "      <td>...</td>\n",
       "      <td>...</td>\n",
       "      <td>...</td>\n",
       "    </tr>\n",
       "    <tr>\n",
       "      <th>447</th>\n",
       "      <td>53</td>\n",
       "      <td>70</td>\n",
       "      <td>160</td>\n",
       "      <td>1</td>\n",
       "    </tr>\n",
       "    <tr>\n",
       "      <th>448</th>\n",
       "      <td>37</td>\n",
       "      <td>85</td>\n",
       "      <td>190</td>\n",
       "      <td>10</td>\n",
       "    </tr>\n",
       "    <tr>\n",
       "      <th>449</th>\n",
       "      <td>36</td>\n",
       "      <td>68</td>\n",
       "      <td>166</td>\n",
       "      <td>2</td>\n",
       "    </tr>\n",
       "    <tr>\n",
       "      <th>450</th>\n",
       "      <td>32</td>\n",
       "      <td>55</td>\n",
       "      <td>155</td>\n",
       "      <td>1</td>\n",
       "    </tr>\n",
       "    <tr>\n",
       "      <th>451</th>\n",
       "      <td>78</td>\n",
       "      <td>70</td>\n",
       "      <td>160</td>\n",
       "      <td>1</td>\n",
       "    </tr>\n",
       "  </tbody>\n",
       "</table>\n",
       "<p>452 rows × 4 columns</p>\n",
       "</div>"
      ],
      "text/plain": [
       "     Age  Weight  Height  Class code\n",
       "0     75      80     190           8\n",
       "1     56      64     165           6\n",
       "2     54      95     172          10\n",
       "3     55      94     175           1\n",
       "4     75      80     190           7\n",
       "..   ...     ...     ...         ...\n",
       "447   53      70     160           1\n",
       "448   37      85     190          10\n",
       "449   36      68     166           2\n",
       "450   32      55     155           1\n",
       "451   78      70     160           1\n",
       "\n",
       "[452 rows x 4 columns]"
      ]
     },
     "execution_count": 3,
     "metadata": {},
     "output_type": "execute_result"
    }
   ],
   "source": [
    "\n",
    "df = data.loc[:,[0, 3, 2, 279]].copy()\n",
    "df.columns = ['Age', 'Weight', 'Height', 'Class code']\n",
    "df\n"
   ]
  },
  {
   "cell_type": "markdown",
   "id": "b4767203",
   "metadata": {},
   "source": [
    "2.\tЕсли среди меток класса имеются пропущенные значения, то удалите записи с пропущенными метками класса. Если в признаках имеются пропущенные значения, то замените пропущенные значения, используя метод, указанный в индивидуальном задании. Если количество различных меток классов превышает 4, то уменьшите количество классов."
   ]
  },
  {
   "cell_type": "markdown",
   "id": "07f3bf0d",
   "metadata": {},
   "source": [
    "В датасете используется знак \"?\" для пропущенных значений."
   ]
  },
  {
   "cell_type": "code",
   "execution_count": 4,
   "id": "cb5e1cff",
   "metadata": {},
   "outputs": [],
   "source": [
    "\n",
    "import numpy as np\n",
    "import collections\n"
   ]
  },
  {
   "cell_type": "code",
   "execution_count": 5,
   "id": "bb335e77",
   "metadata": {},
   "outputs": [],
   "source": [
    "\n",
    "df = df.replace('?', np.nan)\n"
   ]
  },
  {
   "cell_type": "code",
   "execution_count": 6,
   "id": "fd89ab8f",
   "metadata": {},
   "outputs": [
    {
     "data": {
      "text/plain": [
       "Age           0\n",
       "Weight        0\n",
       "Height        0\n",
       "Class code    0\n",
       "dtype: int64"
      ]
     },
     "execution_count": 6,
     "metadata": {},
     "output_type": "execute_result"
    }
   ],
   "source": [
    "\n",
    "df.isnull().sum(axis=0)\n"
   ]
  },
  {
   "cell_type": "code",
   "execution_count": 7,
   "id": "2d5a3ee6",
   "metadata": {},
   "outputs": [
    {
     "data": {
      "text/plain": [
       "Counter({8: 2,\n",
       "         6: 25,\n",
       "         10: 50,\n",
       "         1: 245,\n",
       "         7: 3,\n",
       "         14: 4,\n",
       "         3: 15,\n",
       "         16: 22,\n",
       "         2: 44,\n",
       "         4: 15,\n",
       "         5: 13,\n",
       "         9: 9,\n",
       "         15: 5})"
      ]
     },
     "execution_count": 7,
     "metadata": {},
     "output_type": "execute_result"
    }
   ],
   "source": [
    "\n",
    "c = df['Class code']\n",
    "collections.Counter(c)\n"
   ]
  },
  {
   "cell_type": "markdown",
   "id": "8702f7a3",
   "metadata": {},
   "source": [
    "1, 10, 2, 6 - классы, которые имеют наибольшее количество записей. Т.к. в датасете 452 строчки, а класс 1 имеет почти 250 значений, можно было бы их удалить. Но будем объединять. \n",
    "К 10 - 14, 15, 16. \n",
    "К 6 - 7, 8, 9. \n",
    "К 2 - 3, 4, 5."
   ]
  },
  {
   "cell_type": "code",
   "execution_count": 8,
   "id": "1e94c10b",
   "metadata": {},
   "outputs": [
    {
     "data": {
      "text/html": [
       "<div>\n",
       "<style scoped>\n",
       "    .dataframe tbody tr th:only-of-type {\n",
       "        vertical-align: middle;\n",
       "    }\n",
       "\n",
       "    .dataframe tbody tr th {\n",
       "        vertical-align: top;\n",
       "    }\n",
       "\n",
       "    .dataframe thead th {\n",
       "        text-align: right;\n",
       "    }\n",
       "</style>\n",
       "<table border=\"1\" class=\"dataframe\">\n",
       "  <thead>\n",
       "    <tr style=\"text-align: right;\">\n",
       "      <th></th>\n",
       "      <th>Age</th>\n",
       "      <th>Weight</th>\n",
       "      <th>Height</th>\n",
       "      <th>Class code</th>\n",
       "    </tr>\n",
       "  </thead>\n",
       "  <tbody>\n",
       "    <tr>\n",
       "      <th>0</th>\n",
       "      <td>75</td>\n",
       "      <td>80</td>\n",
       "      <td>190</td>\n",
       "      <td>8</td>\n",
       "    </tr>\n",
       "    <tr>\n",
       "      <th>1</th>\n",
       "      <td>56</td>\n",
       "      <td>64</td>\n",
       "      <td>165</td>\n",
       "      <td>6</td>\n",
       "    </tr>\n",
       "    <tr>\n",
       "      <th>2</th>\n",
       "      <td>54</td>\n",
       "      <td>95</td>\n",
       "      <td>172</td>\n",
       "      <td>10</td>\n",
       "    </tr>\n",
       "    <tr>\n",
       "      <th>3</th>\n",
       "      <td>55</td>\n",
       "      <td>94</td>\n",
       "      <td>175</td>\n",
       "      <td>1</td>\n",
       "    </tr>\n",
       "    <tr>\n",
       "      <th>4</th>\n",
       "      <td>75</td>\n",
       "      <td>80</td>\n",
       "      <td>190</td>\n",
       "      <td>7</td>\n",
       "    </tr>\n",
       "    <tr>\n",
       "      <th>...</th>\n",
       "      <td>...</td>\n",
       "      <td>...</td>\n",
       "      <td>...</td>\n",
       "      <td>...</td>\n",
       "    </tr>\n",
       "    <tr>\n",
       "      <th>447</th>\n",
       "      <td>53</td>\n",
       "      <td>70</td>\n",
       "      <td>160</td>\n",
       "      <td>1</td>\n",
       "    </tr>\n",
       "    <tr>\n",
       "      <th>448</th>\n",
       "      <td>37</td>\n",
       "      <td>85</td>\n",
       "      <td>190</td>\n",
       "      <td>10</td>\n",
       "    </tr>\n",
       "    <tr>\n",
       "      <th>449</th>\n",
       "      <td>36</td>\n",
       "      <td>68</td>\n",
       "      <td>166</td>\n",
       "      <td>2</td>\n",
       "    </tr>\n",
       "    <tr>\n",
       "      <th>450</th>\n",
       "      <td>32</td>\n",
       "      <td>55</td>\n",
       "      <td>155</td>\n",
       "      <td>1</td>\n",
       "    </tr>\n",
       "    <tr>\n",
       "      <th>451</th>\n",
       "      <td>78</td>\n",
       "      <td>70</td>\n",
       "      <td>160</td>\n",
       "      <td>1</td>\n",
       "    </tr>\n",
       "  </tbody>\n",
       "</table>\n",
       "<p>452 rows × 4 columns</p>\n",
       "</div>"
      ],
      "text/plain": [
       "     Age  Weight  Height  Class code\n",
       "0     75      80     190           8\n",
       "1     56      64     165           6\n",
       "2     54      95     172          10\n",
       "3     55      94     175           1\n",
       "4     75      80     190           7\n",
       "..   ...     ...     ...         ...\n",
       "447   53      70     160           1\n",
       "448   37      85     190          10\n",
       "449   36      68     166           2\n",
       "450   32      55     155           1\n",
       "451   78      70     160           1\n",
       "\n",
       "[452 rows x 4 columns]"
      ]
     },
     "execution_count": 8,
     "metadata": {},
     "output_type": "execute_result"
    }
   ],
   "source": [
    "\n",
    "df2 = df.copy()\n",
    "df2\n"
   ]
  },
  {
   "cell_type": "code",
   "execution_count": 9,
   "id": "8413d584",
   "metadata": {},
   "outputs": [
    {
     "data": {
      "text/html": [
       "<div>\n",
       "<style scoped>\n",
       "    .dataframe tbody tr th:only-of-type {\n",
       "        vertical-align: middle;\n",
       "    }\n",
       "\n",
       "    .dataframe tbody tr th {\n",
       "        vertical-align: top;\n",
       "    }\n",
       "\n",
       "    .dataframe thead th {\n",
       "        text-align: right;\n",
       "    }\n",
       "</style>\n",
       "<table border=\"1\" class=\"dataframe\">\n",
       "  <thead>\n",
       "    <tr style=\"text-align: right;\">\n",
       "      <th></th>\n",
       "      <th>Age</th>\n",
       "      <th>Weight</th>\n",
       "      <th>Height</th>\n",
       "      <th>Class code</th>\n",
       "    </tr>\n",
       "  </thead>\n",
       "  <tbody>\n",
       "    <tr>\n",
       "      <th>0</th>\n",
       "      <td>75</td>\n",
       "      <td>80</td>\n",
       "      <td>190</td>\n",
       "      <td>6</td>\n",
       "    </tr>\n",
       "    <tr>\n",
       "      <th>1</th>\n",
       "      <td>56</td>\n",
       "      <td>64</td>\n",
       "      <td>165</td>\n",
       "      <td>6</td>\n",
       "    </tr>\n",
       "    <tr>\n",
       "      <th>2</th>\n",
       "      <td>54</td>\n",
       "      <td>95</td>\n",
       "      <td>172</td>\n",
       "      <td>10</td>\n",
       "    </tr>\n",
       "    <tr>\n",
       "      <th>3</th>\n",
       "      <td>55</td>\n",
       "      <td>94</td>\n",
       "      <td>175</td>\n",
       "      <td>1</td>\n",
       "    </tr>\n",
       "    <tr>\n",
       "      <th>4</th>\n",
       "      <td>75</td>\n",
       "      <td>80</td>\n",
       "      <td>190</td>\n",
       "      <td>6</td>\n",
       "    </tr>\n",
       "    <tr>\n",
       "      <th>...</th>\n",
       "      <td>...</td>\n",
       "      <td>...</td>\n",
       "      <td>...</td>\n",
       "      <td>...</td>\n",
       "    </tr>\n",
       "    <tr>\n",
       "      <th>447</th>\n",
       "      <td>53</td>\n",
       "      <td>70</td>\n",
       "      <td>160</td>\n",
       "      <td>1</td>\n",
       "    </tr>\n",
       "    <tr>\n",
       "      <th>448</th>\n",
       "      <td>37</td>\n",
       "      <td>85</td>\n",
       "      <td>190</td>\n",
       "      <td>10</td>\n",
       "    </tr>\n",
       "    <tr>\n",
       "      <th>449</th>\n",
       "      <td>36</td>\n",
       "      <td>68</td>\n",
       "      <td>166</td>\n",
       "      <td>2</td>\n",
       "    </tr>\n",
       "    <tr>\n",
       "      <th>450</th>\n",
       "      <td>32</td>\n",
       "      <td>55</td>\n",
       "      <td>155</td>\n",
       "      <td>1</td>\n",
       "    </tr>\n",
       "    <tr>\n",
       "      <th>451</th>\n",
       "      <td>78</td>\n",
       "      <td>70</td>\n",
       "      <td>160</td>\n",
       "      <td>1</td>\n",
       "    </tr>\n",
       "  </tbody>\n",
       "</table>\n",
       "<p>452 rows × 4 columns</p>\n",
       "</div>"
      ],
      "text/plain": [
       "     Age  Weight  Height  Class code\n",
       "0     75      80     190           6\n",
       "1     56      64     165           6\n",
       "2     54      95     172          10\n",
       "3     55      94     175           1\n",
       "4     75      80     190           6\n",
       "..   ...     ...     ...         ...\n",
       "447   53      70     160           1\n",
       "448   37      85     190          10\n",
       "449   36      68     166           2\n",
       "450   32      55     155           1\n",
       "451   78      70     160           1\n",
       "\n",
       "[452 rows x 4 columns]"
      ]
     },
     "execution_count": 9,
     "metadata": {},
     "output_type": "execute_result"
    }
   ],
   "source": [
    "\n",
    "df2['Class code'] = df2['Class code'].replace(3, 2)\n",
    "df2['Class code'] = df2['Class code'].replace(4, 2)\n",
    "df2['Class code'] = df2['Class code'].replace(5, 2)\n",
    "df2['Class code'] = df2['Class code'].replace(7, 6)\n",
    "df2['Class code'] = df2['Class code'].replace(8, 6)\n",
    "df2['Class code'] = df2['Class code'].replace(9, 6)\n",
    "df2['Class code'] = df2['Class code'].replace(14, 10)\n",
    "df2['Class code'] = df2['Class code'].replace(15, 10)\n",
    "df2['Class code'] = df2['Class code'].replace(16, 10)\n",
    "df2\n"
   ]
  },
  {
   "cell_type": "code",
   "execution_count": 10,
   "id": "ab28b005",
   "metadata": {},
   "outputs": [
    {
     "data": {
      "text/plain": [
       "Counter({6: 39, 10: 81, 1: 245, 2: 87})"
      ]
     },
     "execution_count": 10,
     "metadata": {},
     "output_type": "execute_result"
    }
   ],
   "source": [
    "\n",
    "c = df2['Class code']\n",
    "collections.Counter(c)\n"
   ]
  },
  {
   "cell_type": "markdown",
   "id": "0f647409",
   "metadata": {},
   "source": [
    "3.\tНормализуйте признаки набора данных методом, указанным в индивидуальном задании. "
   ]
  },
  {
   "cell_type": "markdown",
   "id": "23db02aa",
   "metadata": {},
   "source": [
    "Метод нормализации признаков – нормировка по норме L1."
   ]
  },
  {
   "cell_type": "code",
   "execution_count": 11,
   "id": "bb89aaec",
   "metadata": {},
   "outputs": [
    {
     "name": "stdout",
     "output_type": "stream",
     "text": [
      "[[0.2173913  0.23188406 0.55072464]\n",
      " [0.19649123 0.2245614  0.57894737]\n",
      " [0.1682243  0.29595016 0.53582555]\n",
      " [0.16975309 0.29012346 0.54012346]\n",
      " [0.2173913  0.23188406 0.55072464]]\n"
     ]
    }
   ],
   "source": [
    "\n",
    "from sklearn.preprocessing import Normalizer\n",
    "X = df2.copy()\n",
    "X = X.drop(['Class code'],axis=1)\n",
    "scaler = Normalizer(norm='l1').fit(X)\n",
    "normalizedX = scaler.transform(X)\n",
    "\n",
    "print(normalizedX[0:5,:])\n"
   ]
  },
  {
   "cell_type": "code",
   "execution_count": 12,
   "id": "f75d84a0",
   "metadata": {},
   "outputs": [
    {
     "data": {
      "text/html": [
       "<div>\n",
       "<style scoped>\n",
       "    .dataframe tbody tr th:only-of-type {\n",
       "        vertical-align: middle;\n",
       "    }\n",
       "\n",
       "    .dataframe tbody tr th {\n",
       "        vertical-align: top;\n",
       "    }\n",
       "\n",
       "    .dataframe thead th {\n",
       "        text-align: right;\n",
       "    }\n",
       "</style>\n",
       "<table border=\"1\" class=\"dataframe\">\n",
       "  <thead>\n",
       "    <tr style=\"text-align: right;\">\n",
       "      <th></th>\n",
       "      <th>Age</th>\n",
       "      <th>Weight</th>\n",
       "      <th>Height</th>\n",
       "      <th>Class code</th>\n",
       "    </tr>\n",
       "  </thead>\n",
       "  <tbody>\n",
       "    <tr>\n",
       "      <th>0</th>\n",
       "      <td>0.217391</td>\n",
       "      <td>0.231884</td>\n",
       "      <td>0.550725</td>\n",
       "      <td>6</td>\n",
       "    </tr>\n",
       "    <tr>\n",
       "      <th>1</th>\n",
       "      <td>0.196491</td>\n",
       "      <td>0.224561</td>\n",
       "      <td>0.578947</td>\n",
       "      <td>6</td>\n",
       "    </tr>\n",
       "    <tr>\n",
       "      <th>2</th>\n",
       "      <td>0.168224</td>\n",
       "      <td>0.295950</td>\n",
       "      <td>0.535826</td>\n",
       "      <td>10</td>\n",
       "    </tr>\n",
       "    <tr>\n",
       "      <th>3</th>\n",
       "      <td>0.169753</td>\n",
       "      <td>0.290123</td>\n",
       "      <td>0.540123</td>\n",
       "      <td>1</td>\n",
       "    </tr>\n",
       "    <tr>\n",
       "      <th>4</th>\n",
       "      <td>0.217391</td>\n",
       "      <td>0.231884</td>\n",
       "      <td>0.550725</td>\n",
       "      <td>6</td>\n",
       "    </tr>\n",
       "    <tr>\n",
       "      <th>...</th>\n",
       "      <td>...</td>\n",
       "      <td>...</td>\n",
       "      <td>...</td>\n",
       "      <td>...</td>\n",
       "    </tr>\n",
       "    <tr>\n",
       "      <th>447</th>\n",
       "      <td>0.187279</td>\n",
       "      <td>0.247350</td>\n",
       "      <td>0.565371</td>\n",
       "      <td>1</td>\n",
       "    </tr>\n",
       "    <tr>\n",
       "      <th>448</th>\n",
       "      <td>0.118590</td>\n",
       "      <td>0.272436</td>\n",
       "      <td>0.608974</td>\n",
       "      <td>10</td>\n",
       "    </tr>\n",
       "    <tr>\n",
       "      <th>449</th>\n",
       "      <td>0.133333</td>\n",
       "      <td>0.251852</td>\n",
       "      <td>0.614815</td>\n",
       "      <td>2</td>\n",
       "    </tr>\n",
       "    <tr>\n",
       "      <th>450</th>\n",
       "      <td>0.132231</td>\n",
       "      <td>0.227273</td>\n",
       "      <td>0.640496</td>\n",
       "      <td>1</td>\n",
       "    </tr>\n",
       "    <tr>\n",
       "      <th>451</th>\n",
       "      <td>0.253247</td>\n",
       "      <td>0.227273</td>\n",
       "      <td>0.519481</td>\n",
       "      <td>1</td>\n",
       "    </tr>\n",
       "  </tbody>\n",
       "</table>\n",
       "<p>452 rows × 4 columns</p>\n",
       "</div>"
      ],
      "text/plain": [
       "          Age    Weight    Height  Class code\n",
       "0    0.217391  0.231884  0.550725           6\n",
       "1    0.196491  0.224561  0.578947           6\n",
       "2    0.168224  0.295950  0.535826          10\n",
       "3    0.169753  0.290123  0.540123           1\n",
       "4    0.217391  0.231884  0.550725           6\n",
       "..        ...       ...       ...         ...\n",
       "447  0.187279  0.247350  0.565371           1\n",
       "448  0.118590  0.272436  0.608974          10\n",
       "449  0.133333  0.251852  0.614815           2\n",
       "450  0.132231  0.227273  0.640496           1\n",
       "451  0.253247  0.227273  0.519481           1\n",
       "\n",
       "[452 rows x 4 columns]"
      ]
     },
     "execution_count": 12,
     "metadata": {},
     "output_type": "execute_result"
    }
   ],
   "source": [
    "\n",
    "df3 = pd.DataFrame(normalizedX)\n",
    "df3.columns = ['Age', 'Weight', 'Height']\n",
    "df3['Class code'] = c\n",
    "df3\n"
   ]
  },
  {
   "cell_type": "markdown",
   "id": "3a1a1571",
   "metadata": {},
   "source": [
    "4.\tВизуализируйте набор данных в виде точек трехмерного пространства с координатами, соответствующими трем признакам, отображая точки различных классов разными цветами. Подпишите оси и рисунок, создайте легенду набора данных."
   ]
  },
  {
   "cell_type": "code",
   "execution_count": 13,
   "id": "3481882e",
   "metadata": {},
   "outputs": [
    {
     "data": {
      "image/png": "[encoded data removed]",
      "text/plain": [
       "<Figure size 432x288 with 1 Axes>"
      ]
     },
     "metadata": {
      "needs_background": "light"
     },
     "output_type": "display_data"
    }
   ],
   "source": [
    "\n",
    "from mpl_toolkits import mplot3d\n",
    "%matplotlib inline\n",
    "import numpy as np\n",
    "import matplotlib.pyplot as plt\n",
    "fig = plt.figure()\n",
    "ax = plt.axes(projection='3d')\n"
   ]
  },
  {
   "cell_type": "code",
   "execution_count": 14,
   "id": "9fd4705a",
   "metadata": {},
   "outputs": [],
   "source": [
    "\n",
    "df_p = df3.copy()\n",
    "df_p.rename(columns={'Class code': 'Class_code'}, inplace=True)\n",
    "code = np.array(df_p.Class_code)\n"
   ]
  },
  {
   "cell_type": "code",
   "execution_count": 15,
   "id": "a768f921",
   "metadata": {},
   "outputs": [
    {
     "data": {
      "text/plain": [
       "array([ 1,  2,  6, 10], dtype=int64)"
      ]
     },
     "execution_count": 15,
     "metadata": {},
     "output_type": "execute_result"
    }
   ],
   "source": [
    "\n",
    "l = np.unique(code)\n",
    "l\n"
   ]
  },
  {
   "cell_type": "code",
   "execution_count": 16,
   "id": "22d9fc0a",
   "metadata": {},
   "outputs": [
    {
     "data": {
      "text/plain": [
       "<matplotlib.legend.Legend at 0x18222e03af0>"
      ]
     },
     "execution_count": 16,
     "metadata": {},
     "output_type": "execute_result"
    },
    {
     "data": {
      "image/png": "[encoded data removed]",
      "text/plain": [
       "<Figure size 864x720 with 1 Axes>"
      ]
     },
     "metadata": {
      "needs_background": "light"
     },
     "output_type": "display_data"
    }
   ],
   "source": [
    "\n",
    "fig = plt.figure(figsize=(12,10))\n",
    "ax = plt.axes(projection='3d')\n",
    "\n",
    "xs = df_p.Age\n",
    "ys = df_p.Weight\n",
    "zs = df_p.Height\n",
    "scatter = ax.scatter( xs, ys, zs, c = code, s=30 )\n",
    "ax.set_xlabel('Age')\n",
    "ax.set_ylabel('Weight')\n",
    "ax.set_zlabel('Height')\n",
    "ax.view_init( azim=-20, elev=15 );\n",
    "ax = plt.title(\"Визуализация набора данных в виде точек трехмерного пространства\")\n",
    "plt.legend(*scatter.legend_elements())\n"
   ]
  },
  {
   "cell_type": "markdown",
   "id": "1467563c",
   "metadata": {},
   "source": [
    "5.\tИспользуя алгоритм снижения размерности данных, указанный в индивидуальном задании, уменьшите размерность признакового пространства до двух и визуализируйте набор данных в виде точек на плоскости, отображая точки различных классов разными цветами. Подпишите оси и рисунок, создайте легенду набора данных. \n"
   ]
  },
  {
   "cell_type": "markdown",
   "id": "9d982de5",
   "metadata": {},
   "source": [
    "Алгоритм снижения размерности данных – отбор на основе важности признаков (ExtraTreesClassifier)."
   ]
  },
  {
   "cell_type": "code",
   "execution_count": 17,
   "id": "48278561",
   "metadata": {},
   "outputs": [
    {
     "data": {
      "text/html": [
       "<div>\n",
       "<style scoped>\n",
       "    .dataframe tbody tr th:only-of-type {\n",
       "        vertical-align: middle;\n",
       "    }\n",
       "\n",
       "    .dataframe tbody tr th {\n",
       "        vertical-align: top;\n",
       "    }\n",
       "\n",
       "    .dataframe thead th {\n",
       "        text-align: right;\n",
       "    }\n",
       "</style>\n",
       "<table border=\"1\" class=\"dataframe\">\n",
       "  <thead>\n",
       "    <tr style=\"text-align: right;\">\n",
       "      <th></th>\n",
       "      <th>Age</th>\n",
       "      <th>Weight</th>\n",
       "      <th>Height</th>\n",
       "      <th>Class code</th>\n",
       "    </tr>\n",
       "  </thead>\n",
       "  <tbody>\n",
       "    <tr>\n",
       "      <th>0</th>\n",
       "      <td>0.217391</td>\n",
       "      <td>0.231884</td>\n",
       "      <td>0.550725</td>\n",
       "      <td>6</td>\n",
       "    </tr>\n",
       "    <tr>\n",
       "      <th>1</th>\n",
       "      <td>0.196491</td>\n",
       "      <td>0.224561</td>\n",
       "      <td>0.578947</td>\n",
       "      <td>6</td>\n",
       "    </tr>\n",
       "    <tr>\n",
       "      <th>2</th>\n",
       "      <td>0.168224</td>\n",
       "      <td>0.295950</td>\n",
       "      <td>0.535826</td>\n",
       "      <td>10</td>\n",
       "    </tr>\n",
       "    <tr>\n",
       "      <th>3</th>\n",
       "      <td>0.169753</td>\n",
       "      <td>0.290123</td>\n",
       "      <td>0.540123</td>\n",
       "      <td>1</td>\n",
       "    </tr>\n",
       "    <tr>\n",
       "      <th>4</th>\n",
       "      <td>0.217391</td>\n",
       "      <td>0.231884</td>\n",
       "      <td>0.550725</td>\n",
       "      <td>6</td>\n",
       "    </tr>\n",
       "    <tr>\n",
       "      <th>...</th>\n",
       "      <td>...</td>\n",
       "      <td>...</td>\n",
       "      <td>...</td>\n",
       "      <td>...</td>\n",
       "    </tr>\n",
       "    <tr>\n",
       "      <th>447</th>\n",
       "      <td>0.187279</td>\n",
       "      <td>0.247350</td>\n",
       "      <td>0.565371</td>\n",
       "      <td>1</td>\n",
       "    </tr>\n",
       "    <tr>\n",
       "      <th>448</th>\n",
       "      <td>0.118590</td>\n",
       "      <td>0.272436</td>\n",
       "      <td>0.608974</td>\n",
       "      <td>10</td>\n",
       "    </tr>\n",
       "    <tr>\n",
       "      <th>449</th>\n",
       "      <td>0.133333</td>\n",
       "      <td>0.251852</td>\n",
       "      <td>0.614815</td>\n",
       "      <td>2</td>\n",
       "    </tr>\n",
       "    <tr>\n",
       "      <th>450</th>\n",
       "      <td>0.132231</td>\n",
       "      <td>0.227273</td>\n",
       "      <td>0.640496</td>\n",
       "      <td>1</td>\n",
       "    </tr>\n",
       "    <tr>\n",
       "      <th>451</th>\n",
       "      <td>0.253247</td>\n",
       "      <td>0.227273</td>\n",
       "      <td>0.519481</td>\n",
       "      <td>1</td>\n",
       "    </tr>\n",
       "  </tbody>\n",
       "</table>\n",
       "<p>452 rows × 4 columns</p>\n",
       "</div>"
      ],
      "text/plain": [
       "          Age    Weight    Height  Class code\n",
       "0    0.217391  0.231884  0.550725           6\n",
       "1    0.196491  0.224561  0.578947           6\n",
       "2    0.168224  0.295950  0.535826          10\n",
       "3    0.169753  0.290123  0.540123           1\n",
       "4    0.217391  0.231884  0.550725           6\n",
       "..        ...       ...       ...         ...\n",
       "447  0.187279  0.247350  0.565371           1\n",
       "448  0.118590  0.272436  0.608974          10\n",
       "449  0.133333  0.251852  0.614815           2\n",
       "450  0.132231  0.227273  0.640496           1\n",
       "451  0.253247  0.227273  0.519481           1\n",
       "\n",
       "[452 rows x 4 columns]"
      ]
     },
     "execution_count": 17,
     "metadata": {},
     "output_type": "execute_result"
    }
   ],
   "source": [
    "\n",
    "df5 = df3.copy()\n",
    "df5\n"
   ]
  },
  {
   "cell_type": "code",
   "execution_count": 18,
   "id": "22798b4d",
   "metadata": {},
   "outputs": [
    {
     "name": "stdout",
     "output_type": "stream",
     "text": [
      "[0.33511201 0.3288214  0.33606659]\n"
     ]
    }
   ],
   "source": [
    "\n",
    "from sklearn.ensemble import ExtraTreesClassifier\n",
    "\n",
    "array = df5.values\n",
    "X = array[:,0:3] # входные переменные (3 признака)\n",
    "Y = array[:,3]   # выходная переменная - метки классов\n",
    "\n",
    "# отбор признаков\n",
    "model = ExtraTreesClassifier()\n",
    "model.fit(X, Y)\n",
    "print(model.feature_importances_)\n"
   ]
  },
  {
   "cell_type": "markdown",
   "id": "4faafc15",
   "metadata": {},
   "source": [
    "Мы получили оценки для каждого признака. Чем больше значение оценки, тем важнее признак. Таким образом, согласно данному методу отбора, двумя наиболее важными признаками являются Age и Height."
   ]
  },
  {
   "cell_type": "code",
   "execution_count": 19,
   "id": "671a45f1",
   "metadata": {},
   "outputs": [
    {
     "data": {
      "text/html": [
       "<div>\n",
       "<style scoped>\n",
       "    .dataframe tbody tr th:only-of-type {\n",
       "        vertical-align: middle;\n",
       "    }\n",
       "\n",
       "    .dataframe tbody tr th {\n",
       "        vertical-align: top;\n",
       "    }\n",
       "\n",
       "    .dataframe thead th {\n",
       "        text-align: right;\n",
       "    }\n",
       "</style>\n",
       "<table border=\"1\" class=\"dataframe\">\n",
       "  <thead>\n",
       "    <tr style=\"text-align: right;\">\n",
       "      <th></th>\n",
       "      <th>Age</th>\n",
       "      <th>Height</th>\n",
       "      <th>Class_code</th>\n",
       "    </tr>\n",
       "  </thead>\n",
       "  <tbody>\n",
       "    <tr>\n",
       "      <th>0</th>\n",
       "      <td>0.217391</td>\n",
       "      <td>0.550725</td>\n",
       "      <td>6</td>\n",
       "    </tr>\n",
       "    <tr>\n",
       "      <th>1</th>\n",
       "      <td>0.196491</td>\n",
       "      <td>0.578947</td>\n",
       "      <td>6</td>\n",
       "    </tr>\n",
       "    <tr>\n",
       "      <th>2</th>\n",
       "      <td>0.168224</td>\n",
       "      <td>0.535826</td>\n",
       "      <td>10</td>\n",
       "    </tr>\n",
       "    <tr>\n",
       "      <th>3</th>\n",
       "      <td>0.169753</td>\n",
       "      <td>0.540123</td>\n",
       "      <td>1</td>\n",
       "    </tr>\n",
       "    <tr>\n",
       "      <th>4</th>\n",
       "      <td>0.217391</td>\n",
       "      <td>0.550725</td>\n",
       "      <td>6</td>\n",
       "    </tr>\n",
       "    <tr>\n",
       "      <th>...</th>\n",
       "      <td>...</td>\n",
       "      <td>...</td>\n",
       "      <td>...</td>\n",
       "    </tr>\n",
       "    <tr>\n",
       "      <th>447</th>\n",
       "      <td>0.187279</td>\n",
       "      <td>0.565371</td>\n",
       "      <td>1</td>\n",
       "    </tr>\n",
       "    <tr>\n",
       "      <th>448</th>\n",
       "      <td>0.118590</td>\n",
       "      <td>0.608974</td>\n",
       "      <td>10</td>\n",
       "    </tr>\n",
       "    <tr>\n",
       "      <th>449</th>\n",
       "      <td>0.133333</td>\n",
       "      <td>0.614815</td>\n",
       "      <td>2</td>\n",
       "    </tr>\n",
       "    <tr>\n",
       "      <th>450</th>\n",
       "      <td>0.132231</td>\n",
       "      <td>0.640496</td>\n",
       "      <td>1</td>\n",
       "    </tr>\n",
       "    <tr>\n",
       "      <th>451</th>\n",
       "      <td>0.253247</td>\n",
       "      <td>0.519481</td>\n",
       "      <td>1</td>\n",
       "    </tr>\n",
       "  </tbody>\n",
       "</table>\n",
       "<p>452 rows × 3 columns</p>\n",
       "</div>"
      ],
      "text/plain": [
       "          Age    Height  Class_code\n",
       "0    0.217391  0.550725           6\n",
       "1    0.196491  0.578947           6\n",
       "2    0.168224  0.535826          10\n",
       "3    0.169753  0.540123           1\n",
       "4    0.217391  0.550725           6\n",
       "..        ...       ...         ...\n",
       "447  0.187279  0.565371           1\n",
       "448  0.118590  0.608974          10\n",
       "449  0.133333  0.614815           2\n",
       "450  0.132231  0.640496           1\n",
       "451  0.253247  0.519481           1\n",
       "\n",
       "[452 rows x 3 columns]"
      ]
     },
     "execution_count": 19,
     "metadata": {},
     "output_type": "execute_result"
    }
   ],
   "source": [
    "\n",
    "df_p1 = df5.copy()\n",
    "df_p1.rename(columns={'Class code': 'Class_code'}, inplace=True)\n",
    "code = np.array(df_p1.Class_code)\n",
    "df_p1 = df_p1.drop(['Weight'],axis=1)\n",
    "df_p1\n"
   ]
  },
  {
   "cell_type": "code",
   "execution_count": 20,
   "id": "116d6b63",
   "metadata": {},
   "outputs": [
    {
     "data": {
      "text/plain": [
       "<matplotlib.legend.Legend at 0x18226ddd340>"
      ]
     },
     "execution_count": 20,
     "metadata": {},
     "output_type": "execute_result"
    },
    {
     "data": {
      "image/png": "[encoded data removed]",
      "text/plain": [
       "<Figure size 864x720 with 1 Axes>"
      ]
     },
     "metadata": {
      "needs_background": "light"
     },
     "output_type": "display_data"
    }
   ],
   "source": [
    "\n",
    "fig = plt.figure(figsize=(12,10))\n",
    "ax = plt.axes()\n",
    "\n",
    "xs = df_p.Age\n",
    "ys = df_p.Weight\n",
    "scatter = ax.scatter( xs, ys, c = code, s=20 )\n",
    "ax.set_xlabel('Age')\n",
    "ax.set_ylabel('Height')\n",
    "\n",
    "ax = plt.title(\"Визуализация набора данных в виде точек трехмерного пространства\")\n",
    "plt.legend(*scatter.legend_elements())\n"
   ]
  },
  {
   "cell_type": "markdown",
   "id": "00046bfc",
   "metadata": {},
   "source": [
    "6. Используя разделение набора данных из двух признаков на обучающую и тестовую выборки в соотношении 75% на 25%, проведите классификацию тестовой выборки с помощью метода К ближайших соседей для различных значений К и определите оптимальное значение параметра К с минимальной долей ошибок. "
   ]
  },
  {
   "cell_type": "code",
   "execution_count": 21,
   "id": "81c78d56",
   "metadata": {},
   "outputs": [],
   "source": [
    "\n",
    "X = df5.copy()\n",
    "y = X['Class code']\n",
    "X = X.drop(['Class code','Height'],axis=1)\n"
   ]
  },
  {
   "cell_type": "code",
   "execution_count": 22,
   "id": "7697e717",
   "metadata": {},
   "outputs": [
    {
     "data": {
      "text/html": [
       "<div>\n",
       "<style scoped>\n",
       "    .dataframe tbody tr th:only-of-type {\n",
       "        vertical-align: middle;\n",
       "    }\n",
       "\n",
       "    .dataframe tbody tr th {\n",
       "        vertical-align: top;\n",
       "    }\n",
       "\n",
       "    .dataframe thead th {\n",
       "        text-align: right;\n",
       "    }\n",
       "</style>\n",
       "<table border=\"1\" class=\"dataframe\">\n",
       "  <thead>\n",
       "    <tr style=\"text-align: right;\">\n",
       "      <th></th>\n",
       "      <th>Age</th>\n",
       "      <th>Weight</th>\n",
       "    </tr>\n",
       "  </thead>\n",
       "  <tbody>\n",
       "    <tr>\n",
       "      <th>0</th>\n",
       "      <td>0.217391</td>\n",
       "      <td>0.231884</td>\n",
       "    </tr>\n",
       "    <tr>\n",
       "      <th>1</th>\n",
       "      <td>0.196491</td>\n",
       "      <td>0.224561</td>\n",
       "    </tr>\n",
       "    <tr>\n",
       "      <th>2</th>\n",
       "      <td>0.168224</td>\n",
       "      <td>0.295950</td>\n",
       "    </tr>\n",
       "    <tr>\n",
       "      <th>3</th>\n",
       "      <td>0.169753</td>\n",
       "      <td>0.290123</td>\n",
       "    </tr>\n",
       "    <tr>\n",
       "      <th>4</th>\n",
       "      <td>0.217391</td>\n",
       "      <td>0.231884</td>\n",
       "    </tr>\n",
       "    <tr>\n",
       "      <th>...</th>\n",
       "      <td>...</td>\n",
       "      <td>...</td>\n",
       "    </tr>\n",
       "    <tr>\n",
       "      <th>447</th>\n",
       "      <td>0.187279</td>\n",
       "      <td>0.247350</td>\n",
       "    </tr>\n",
       "    <tr>\n",
       "      <th>448</th>\n",
       "      <td>0.118590</td>\n",
       "      <td>0.272436</td>\n",
       "    </tr>\n",
       "    <tr>\n",
       "      <th>449</th>\n",
       "      <td>0.133333</td>\n",
       "      <td>0.251852</td>\n",
       "    </tr>\n",
       "    <tr>\n",
       "      <th>450</th>\n",
       "      <td>0.132231</td>\n",
       "      <td>0.227273</td>\n",
       "    </tr>\n",
       "    <tr>\n",
       "      <th>451</th>\n",
       "      <td>0.253247</td>\n",
       "      <td>0.227273</td>\n",
       "    </tr>\n",
       "  </tbody>\n",
       "</table>\n",
       "<p>452 rows × 2 columns</p>\n",
       "</div>"
      ],
      "text/plain": [
       "          Age    Weight\n",
       "0    0.217391  0.231884\n",
       "1    0.196491  0.224561\n",
       "2    0.168224  0.295950\n",
       "3    0.169753  0.290123\n",
       "4    0.217391  0.231884\n",
       "..        ...       ...\n",
       "447  0.187279  0.247350\n",
       "448  0.118590  0.272436\n",
       "449  0.133333  0.251852\n",
       "450  0.132231  0.227273\n",
       "451  0.253247  0.227273\n",
       "\n",
       "[452 rows x 2 columns]"
      ]
     },
     "execution_count": 22,
     "metadata": {},
     "output_type": "execute_result"
    }
   ],
   "source": [
    "X\n"
   ]
  },
  {
   "cell_type": "code",
   "execution_count": 23,
   "id": "14ccc7b1",
   "metadata": {},
   "outputs": [
    {
     "data": {
      "text/plain": [
       "0       6\n",
       "1       6\n",
       "2      10\n",
       "3       1\n",
       "4       6\n",
       "       ..\n",
       "447     1\n",
       "448    10\n",
       "449     2\n",
       "450     1\n",
       "451     1\n",
       "Name: Class code, Length: 452, dtype: int64"
      ]
     },
     "execution_count": 23,
     "metadata": {},
     "output_type": "execute_result"
    }
   ],
   "source": [
    "y\n"
   ]
  },
  {
   "cell_type": "code",
   "execution_count": 24,
   "id": "d73ea1df",
   "metadata": {},
   "outputs": [],
   "source": [
    "\n",
    "from sklearn.model_selection import train_test_split\n",
    "\n",
    "X_train, X_test, y_train, y_test = train_test_split(X, y, test_size=0.25, random_state=666)\n",
    "    "
   ]
  },
  {
   "cell_type": "code",
   "execution_count": 25,
   "id": "3149b97c",
   "metadata": {},
   "outputs": [
    {
     "data": {
      "text/plain": [
       "KNeighborsClassifier(n_neighbors=26)"
      ]
     },
     "execution_count": 25,
     "metadata": {},
     "output_type": "execute_result"
    }
   ],
   "source": [
    "\n",
    "from sklearn.neighbors import KNeighborsClassifier\n",
    "\n",
    "kNN_clf = KNeighborsClassifier(n_neighbors=26) # создаем классификатор\n",
    "kNN_clf.fit(X_train, y_train)                 # обучаем классификатор\n"
   ]
  },
  {
   "cell_type": "code",
   "execution_count": 26,
   "id": "e1b9bdc5",
   "metadata": {},
   "outputs": [],
   "source": [
    "\n",
    "y_pred = kNN_clf.predict(X_test)\n"
   ]
  },
  {
   "cell_type": "code",
   "execution_count": 27,
   "id": "d67a8a4d",
   "metadata": {},
   "outputs": [
    {
     "data": {
      "text/plain": [
       "62"
      ]
     },
     "execution_count": 27,
     "metadata": {},
     "output_type": "execute_result"
    }
   ],
   "source": [
    "\n",
    "sum(y_pred == y_test)\n"
   ]
  },
  {
   "cell_type": "code",
   "execution_count": 28,
   "id": "88b15e40",
   "metadata": {},
   "outputs": [
    {
     "data": {
      "text/plain": [
       "0.5486725663716814"
      ]
     },
     "execution_count": 28,
     "metadata": {},
     "output_type": "execute_result"
    }
   ],
   "source": [
    "\n",
    "sum(y_pred == y_test) / len(y_test)\n"
   ]
  },
  {
   "cell_type": "code",
   "execution_count": 29,
   "id": "6102e600",
   "metadata": {},
   "outputs": [
    {
     "name": "stdout",
     "output_type": "stream",
     "text": [
      "Лучшее k = 14\n",
      "Лучшая оценка = 0.5752212389380531\n"
     ]
    }
   ],
   "source": [
    "\n",
    "best_score = 0.0\n",
    "best_k = -1\n",
    "for k in range(1, 60):\n",
    "    knn_clf = KNeighborsClassifier(n_neighbors=k)\n",
    "    knn_clf.fit(X_train, y_train)\n",
    "    score = knn_clf.score(X_test, y_test)\n",
    "    if score > best_score:\n",
    "        best_k = k\n",
    "        best_score = score\n",
    "        \n",
    "print(\"Лучшее k =\", best_k)\n",
    "print(\"Лучшая оценка =\", best_score)\n"
   ]
  },
  {
   "cell_type": "code",
   "execution_count": 30,
   "id": "90b6c792",
   "metadata": {},
   "outputs": [],
   "source": [
    "\n",
    "error_rate = []\n",
    "\n",
    "for i in range(1,60):\n",
    "    \n",
    "    knn = KNeighborsClassifier(n_neighbors=i)\n",
    "    knn.fit(X_train,y_train)\n",
    "    pred_i = knn.predict(X_test)\n",
    "    error_rate.append(np.mean(pred_i != y_test))\n",
    "    "
   ]
  },
  {
   "cell_type": "code",
   "execution_count": 31,
   "id": "d1f3c5c2",
   "metadata": {},
   "outputs": [
    {
     "data": {
      "image/png": "[encoded data removed]",
      "text/plain": [
       "<Figure size 720x432 with 1 Axes>"
      ]
     },
     "metadata": {
      "needs_background": "light"
     },
     "output_type": "display_data"
    }
   ],
   "source": [
    "\n",
    "plt.figure(figsize=(10,6))\n",
    "plt.plot(range(1,60),error_rate,color='blue', linestyle='dashed', marker='o',\n",
    "         markerfacecolor='red', markersize=8)\n",
    "plt.title('Доля ошибок классификации для параметра K', fontsize=20)\n",
    "plt.xlabel('параметр K',fontsize=15)\n",
    "plt.ylabel('Доля ошибок',fontsize=15);\n"
   ]
  },
  {
   "cell_type": "markdown",
   "id": "70196982",
   "metadata": {},
   "source": [
    "\n",
    "Для обоих методов нахождения получилось оптимальное k = 14.\n"
   ]
  },
  {
   "cell_type": "markdown",
   "id": "d9028ccc",
   "metadata": {},
   "source": [
    "7.\tДля найденного значения K постройте и выведите на экран отчет о классификации и матрицу ошибок."
   ]
  },
  {
   "cell_type": "code",
   "execution_count": 32,
   "id": "fe1a274b",
   "metadata": {},
   "outputs": [],
   "source": [
    "\n",
    "kNN_clf = KNeighborsClassifier(n_neighbors=14) # создаем классификатор\n",
    "kNN_clf.fit(X_train, y_train)                 # обучаем классификатор\n",
    "y_pred = kNN_clf.predict(X_test)\n"
   ]
  },
  {
   "cell_type": "code",
   "execution_count": 33,
   "id": "579b9ac7",
   "metadata": {},
   "outputs": [
    {
     "name": "stdout",
     "output_type": "stream",
     "text": [
      "[[59  3  0  0]\n",
      " [16  3  0  0]\n",
      " [ 8  1  0  0]\n",
      " [19  1  0  3]]\n"
     ]
    }
   ],
   "source": [
    "\n",
    "from sklearn.metrics import classification_report,confusion_matrix\n",
    "\n",
    "conf_mat=confusion_matrix(y_test,y_pred)\n",
    "print(conf_mat)\n"
   ]
  },
  {
   "cell_type": "code",
   "execution_count": 34,
   "id": "9e3229e8",
   "metadata": {},
   "outputs": [
    {
     "name": "stdout",
     "output_type": "stream",
     "text": [
      "              precision    recall  f1-score   support\n",
      "\n",
      "           1       0.58      0.95      0.72        62\n",
      "           2       0.38      0.16      0.22        19\n",
      "           6       0.00      0.00      0.00         9\n",
      "          10       1.00      0.13      0.23        23\n",
      "\n",
      "    accuracy                           0.58       113\n",
      "   macro avg       0.49      0.31      0.29       113\n",
      "weighted avg       0.58      0.58      0.48       113\n",
      "\n"
     ]
    }
   ],
   "source": [
    "\n",
    "print(classification_report(y_test,y_pred, zero_division=0))\n"
   ]
  },
  {
   "cell_type": "code",
   "execution_count": 35,
   "id": "b4b59197",
   "metadata": {},
   "outputs": [
    {
     "name": "stdout",
     "output_type": "stream",
     "text": [
      "Доля ошибок неправильной классификации: 0.425\n"
     ]
    }
   ],
   "source": [
    "\n",
    "print(\"Доля ошибок неправильной классификации:\",round(np.mean(y_pred!=y_test),3))\n"
   ]
  },
  {
   "cell_type": "markdown",
   "id": "7d89097a",
   "metadata": {},
   "source": [
    "8. Создайте модели классификации точек набора данных из трех признаков на базе следующих классификаторов:\n",
    "    * наивного байесовского классификатора  \n",
    "    * классификатора метода К ближайших соседей для значения К, определенного в п. 6."
   ]
  },
  {
   "cell_type": "code",
   "execution_count": 36,
   "id": "1be5559e",
   "metadata": {},
   "outputs": [
    {
     "data": {
      "text/html": [
       "<div>\n",
       "<style scoped>\n",
       "    .dataframe tbody tr th:only-of-type {\n",
       "        vertical-align: middle;\n",
       "    }\n",
       "\n",
       "    .dataframe tbody tr th {\n",
       "        vertical-align: top;\n",
       "    }\n",
       "\n",
       "    .dataframe thead th {\n",
       "        text-align: right;\n",
       "    }\n",
       "</style>\n",
       "<table border=\"1\" class=\"dataframe\">\n",
       "  <thead>\n",
       "    <tr style=\"text-align: right;\">\n",
       "      <th></th>\n",
       "      <th>Age</th>\n",
       "      <th>Weight</th>\n",
       "      <th>Height</th>\n",
       "    </tr>\n",
       "  </thead>\n",
       "  <tbody>\n",
       "    <tr>\n",
       "      <th>0</th>\n",
       "      <td>0.217391</td>\n",
       "      <td>0.231884</td>\n",
       "      <td>0.550725</td>\n",
       "    </tr>\n",
       "    <tr>\n",
       "      <th>1</th>\n",
       "      <td>0.196491</td>\n",
       "      <td>0.224561</td>\n",
       "      <td>0.578947</td>\n",
       "    </tr>\n",
       "    <tr>\n",
       "      <th>2</th>\n",
       "      <td>0.168224</td>\n",
       "      <td>0.295950</td>\n",
       "      <td>0.535826</td>\n",
       "    </tr>\n",
       "    <tr>\n",
       "      <th>3</th>\n",
       "      <td>0.169753</td>\n",
       "      <td>0.290123</td>\n",
       "      <td>0.540123</td>\n",
       "    </tr>\n",
       "    <tr>\n",
       "      <th>4</th>\n",
       "      <td>0.217391</td>\n",
       "      <td>0.231884</td>\n",
       "      <td>0.550725</td>\n",
       "    </tr>\n",
       "    <tr>\n",
       "      <th>...</th>\n",
       "      <td>...</td>\n",
       "      <td>...</td>\n",
       "      <td>...</td>\n",
       "    </tr>\n",
       "    <tr>\n",
       "      <th>447</th>\n",
       "      <td>0.187279</td>\n",
       "      <td>0.247350</td>\n",
       "      <td>0.565371</td>\n",
       "    </tr>\n",
       "    <tr>\n",
       "      <th>448</th>\n",
       "      <td>0.118590</td>\n",
       "      <td>0.272436</td>\n",
       "      <td>0.608974</td>\n",
       "    </tr>\n",
       "    <tr>\n",
       "      <th>449</th>\n",
       "      <td>0.133333</td>\n",
       "      <td>0.251852</td>\n",
       "      <td>0.614815</td>\n",
       "    </tr>\n",
       "    <tr>\n",
       "      <th>450</th>\n",
       "      <td>0.132231</td>\n",
       "      <td>0.227273</td>\n",
       "      <td>0.640496</td>\n",
       "    </tr>\n",
       "    <tr>\n",
       "      <th>451</th>\n",
       "      <td>0.253247</td>\n",
       "      <td>0.227273</td>\n",
       "      <td>0.519481</td>\n",
       "    </tr>\n",
       "  </tbody>\n",
       "</table>\n",
       "<p>452 rows × 3 columns</p>\n",
       "</div>"
      ],
      "text/plain": [
       "          Age    Weight    Height\n",
       "0    0.217391  0.231884  0.550725\n",
       "1    0.196491  0.224561  0.578947\n",
       "2    0.168224  0.295950  0.535826\n",
       "3    0.169753  0.290123  0.540123\n",
       "4    0.217391  0.231884  0.550725\n",
       "..        ...       ...       ...\n",
       "447  0.187279  0.247350  0.565371\n",
       "448  0.118590  0.272436  0.608974\n",
       "449  0.133333  0.251852  0.614815\n",
       "450  0.132231  0.227273  0.640496\n",
       "451  0.253247  0.227273  0.519481\n",
       "\n",
       "[452 rows x 3 columns]"
      ]
     },
     "execution_count": 36,
     "metadata": {},
     "output_type": "execute_result"
    }
   ],
   "source": [
    "\n",
    "X8 = df5.copy()\n",
    "y8 = X8['Class code']\n",
    "X8 = X8.drop(['Class code'],axis=1)\n",
    "X8\n"
   ]
  },
  {
   "cell_type": "code",
   "execution_count": 37,
   "id": "2a208f10",
   "metadata": {},
   "outputs": [],
   "source": [
    "\n",
    "from sklearn.model_selection import train_test_split\n",
    "\n",
    "X_train8, X_test8, y_train8, y_test8 = train_test_split(X8, y8, test_size=0.25, random_state=666)\n"
   ]
  },
  {
   "cell_type": "code",
   "execution_count": 38,
   "id": "08ad455f",
   "metadata": {},
   "outputs": [],
   "source": [
    "\n",
    "from sklearn.naive_bayes import GaussianNB\n",
    "\n",
    "nbc = GaussianNB()\n",
    "nbc.fit(X_train8,y_train8);\n"
   ]
  },
  {
   "cell_type": "code",
   "execution_count": 39,
   "id": "3089a4f4",
   "metadata": {},
   "outputs": [
    {
     "data": {
      "text/plain": [
       "KNeighborsClassifier(n_neighbors=14)"
      ]
     },
     "execution_count": 39,
     "metadata": {},
     "output_type": "execute_result"
    }
   ],
   "source": [
    "\n",
    "\n",
    "kNN_clf8 = KNeighborsClassifier(n_neighbors=14) # создаем классификатор\n",
    "kNN_clf8.fit(X_train8, y_train8)                 # обучаем классификатор\n"
   ]
  },
  {
   "cell_type": "markdown",
   "id": "d1b59953",
   "metadata": {},
   "source": [
    "9.  Используя указанный в индивидуальном задании метод валидации модели, проведите для набора данных из трех признаков оценку качества классификаторов из п. 8 относительно показателя, указанного в индивидуальном задании, и выведите на экран среднее значение и дисперсию этого показателя."
   ]
  },
  {
   "cell_type": "markdown",
   "id": "80195dc1",
   "metadata": {},
   "source": [
    "Метод валидации модели – стратифицированная кросс-валидация по 10 блокам \n",
    "\n",
    "Показатель качества модели – полнота (recall) "
   ]
  },
  {
   "cell_type": "code",
   "execution_count": 40,
   "id": "139f3dc6",
   "metadata": {},
   "outputs": [],
   "source": [
    "\n",
    "from sklearn.model_selection import cross_val_score\n"
   ]
  },
  {
   "cell_type": "code",
   "execution_count": 41,
   "id": "d234b978",
   "metadata": {},
   "outputs": [
    {
     "name": "stdout",
     "output_type": "stream",
     "text": [
      "Полнота(среднее): 29.45% \n",
      "Дисперсия: 0.16%\n"
     ]
    }
   ],
   "source": [
    "from sklearn.model_selection import StratifiedKFold\n",
    "\n",
    "skfold = StratifiedKFold(n_splits=10)\n",
    "\n",
    "results_skfold = cross_val_score(nbc, X8, y8, scoring='recall_macro', cv=skfold)\n",
    "print(\"Полнота(среднее): %.2f%% \\nДисперсия: %.2f%%\" % (results_skfold.mean()*100.0, \n",
    "                                                results_skfold.var()*100.0))\n"
   ]
  },
  {
   "cell_type": "code",
   "execution_count": 42,
   "id": "bae8eb5a",
   "metadata": {},
   "outputs": [
    {
     "name": "stdout",
     "output_type": "stream",
     "text": [
      "Полнота(среднее): 28.67% \n",
      "Дисперсия: 0.10%\n"
     ]
    }
   ],
   "source": [
    "\n",
    "skfold1 = StratifiedKFold(n_splits=10)\n",
    "\n",
    "results_skfold1 = cross_val_score(kNN_clf8, X8, y8, scoring='recall_macro', cv=skfold1)\n",
    "print(\"Полнота(среднее): %.2f%% \\nДисперсия: %.2f%%\" % (results_skfold1.mean()*100.0, \n",
    "                                                results_skfold1.var()*100.0))\n"
   ]
  },
  {
   "cell_type": "markdown",
   "id": "4d1dd4b8",
   "metadata": {},
   "source": [
    "10. Определите, какой из классификаторов позволяет получить более высокое среднее значение показателя классификации, проведите классификацию точек набора данных этим классификатором и визуализируйте набор данных в виде точек трехмерного пространства с координатами, соответствующими трем признакам, отображая точки различных прогнозируемых классов разными цветами. Подпишите оси и рисунок, создайте легенду набора данных. "
   ]
  },
  {
   "cell_type": "markdown",
   "id": "69f2df2a",
   "metadata": {},
   "source": [
    "\n",
    "Видно, что лучше будет GaussianNB.\n"
   ]
  },
  {
   "cell_type": "code",
   "execution_count": 43,
   "id": "79bd2703",
   "metadata": {},
   "outputs": [
    {
     "data": {
      "text/html": [
       "<div>\n",
       "<style scoped>\n",
       "    .dataframe tbody tr th:only-of-type {\n",
       "        vertical-align: middle;\n",
       "    }\n",
       "\n",
       "    .dataframe tbody tr th {\n",
       "        vertical-align: top;\n",
       "    }\n",
       "\n",
       "    .dataframe thead th {\n",
       "        text-align: right;\n",
       "    }\n",
       "</style>\n",
       "<table border=\"1\" class=\"dataframe\">\n",
       "  <thead>\n",
       "    <tr style=\"text-align: right;\">\n",
       "      <th></th>\n",
       "      <th>Age</th>\n",
       "      <th>Weight</th>\n",
       "      <th>Height</th>\n",
       "    </tr>\n",
       "  </thead>\n",
       "  <tbody>\n",
       "    <tr>\n",
       "      <th>0</th>\n",
       "      <td>0.217391</td>\n",
       "      <td>0.231884</td>\n",
       "      <td>0.550725</td>\n",
       "    </tr>\n",
       "    <tr>\n",
       "      <th>1</th>\n",
       "      <td>0.196491</td>\n",
       "      <td>0.224561</td>\n",
       "      <td>0.578947</td>\n",
       "    </tr>\n",
       "    <tr>\n",
       "      <th>2</th>\n",
       "      <td>0.168224</td>\n",
       "      <td>0.295950</td>\n",
       "      <td>0.535826</td>\n",
       "    </tr>\n",
       "    <tr>\n",
       "      <th>3</th>\n",
       "      <td>0.169753</td>\n",
       "      <td>0.290123</td>\n",
       "      <td>0.540123</td>\n",
       "    </tr>\n",
       "    <tr>\n",
       "      <th>4</th>\n",
       "      <td>0.217391</td>\n",
       "      <td>0.231884</td>\n",
       "      <td>0.550725</td>\n",
       "    </tr>\n",
       "    <tr>\n",
       "      <th>...</th>\n",
       "      <td>...</td>\n",
       "      <td>...</td>\n",
       "      <td>...</td>\n",
       "    </tr>\n",
       "    <tr>\n",
       "      <th>447</th>\n",
       "      <td>0.187279</td>\n",
       "      <td>0.247350</td>\n",
       "      <td>0.565371</td>\n",
       "    </tr>\n",
       "    <tr>\n",
       "      <th>448</th>\n",
       "      <td>0.118590</td>\n",
       "      <td>0.272436</td>\n",
       "      <td>0.608974</td>\n",
       "    </tr>\n",
       "    <tr>\n",
       "      <th>449</th>\n",
       "      <td>0.133333</td>\n",
       "      <td>0.251852</td>\n",
       "      <td>0.614815</td>\n",
       "    </tr>\n",
       "    <tr>\n",
       "      <th>450</th>\n",
       "      <td>0.132231</td>\n",
       "      <td>0.227273</td>\n",
       "      <td>0.640496</td>\n",
       "    </tr>\n",
       "    <tr>\n",
       "      <th>451</th>\n",
       "      <td>0.253247</td>\n",
       "      <td>0.227273</td>\n",
       "      <td>0.519481</td>\n",
       "    </tr>\n",
       "  </tbody>\n",
       "</table>\n",
       "<p>452 rows × 3 columns</p>\n",
       "</div>"
      ],
      "text/plain": [
       "          Age    Weight    Height\n",
       "0    0.217391  0.231884  0.550725\n",
       "1    0.196491  0.224561  0.578947\n",
       "2    0.168224  0.295950  0.535826\n",
       "3    0.169753  0.290123  0.540123\n",
       "4    0.217391  0.231884  0.550725\n",
       "..        ...       ...       ...\n",
       "447  0.187279  0.247350  0.565371\n",
       "448  0.118590  0.272436  0.608974\n",
       "449  0.133333  0.251852  0.614815\n",
       "450  0.132231  0.227273  0.640496\n",
       "451  0.253247  0.227273  0.519481\n",
       "\n",
       "[452 rows x 3 columns]"
      ]
     },
     "execution_count": 43,
     "metadata": {},
     "output_type": "execute_result"
    }
   ],
   "source": [
    "\n",
    "df9 = X8.copy()\n",
    "df9\n"
   ]
  },
  {
   "cell_type": "code",
   "execution_count": 44,
   "id": "477a3997",
   "metadata": {},
   "outputs": [
    {
     "data": {
      "text/plain": [
       "array([ 1,  2, 10], dtype=int64)"
      ]
     },
     "execution_count": 44,
     "metadata": {},
     "output_type": "execute_result"
    }
   ],
   "source": [
    "\n",
    "y_pred9 = nbc.predict(X8)\n",
    "np.unique(y_pred9)\n"
   ]
  },
  {
   "cell_type": "code",
   "execution_count": 45,
   "id": "5472471a",
   "metadata": {},
   "outputs": [
    {
     "data": {
      "text/plain": [
       "<matplotlib.legend.Legend at 0x182280939a0>"
      ]
     },
     "execution_count": 45,
     "metadata": {},
     "output_type": "execute_result"
    },
    {
     "data": {
      "image/png": "[encoded data removed]",
      "text/plain": [
       "<Figure size 864x720 with 1 Axes>"
      ]
     },
     "metadata": {
      "needs_background": "light"
     },
     "output_type": "display_data"
    }
   ],
   "source": [
    "\n",
    "fig = plt.figure(figsize=(12,10))\n",
    "ax = plt.axes(projection='3d')\n",
    "\n",
    "xs = df9.Age\n",
    "ys = df9.Weight\n",
    "zs = df9.Height\n",
    "scatter = ax.scatter( xs, ys, zs, c = y_pred9, s=30 )\n",
    "ax.set_xlabel('Age')\n",
    "ax.set_ylabel('Weight')\n",
    "ax.set_zlabel('Height')\n",
    "ax.view_init( azim=10, elev=15 );\n",
    "ax = plt.title(\"Визуализация набора данных в виде точек трехмерного пространства\")\n",
    "plt.legend(*scatter.legend_elements())\n"
   ]
  }
 ],
 "metadata": {
  "kernelspec": {
   "display_name": "Python 3 (ipykernel)",
   "language": "python",
   "name": "python3"
  },
  "language_info": {
   "codemirror_mode": {
    "name": "ipython",
    "version": 3
   },
   "file_extension": ".py",
   "mimetype": "text/x-python",
   "name": "python",
   "nbconvert_exporter": "python",
   "pygments_lexer": "ipython3",
   "version": "3.9.13"
  }
 },
 "nbformat": 4,
 "nbformat_minor": 5
}
